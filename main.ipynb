{
 "cells": [
  {
   "cell_type": "code",
   "execution_count": 2,
   "metadata": {},
   "outputs": [],
   "source": [
    "import pandas as pd\n",
    "import numpy as np\n",
    "\n",
    "import tensorflow as tf\n",
    "from tensorflow import keras\n",
    "\n",
    "from keras.preprocessing.text import Tokenizer\n",
    "from keras.preprocessing.sequence import pad_sequences\n",
    "\n",
    "import os\n",
    "from tqdm import tqdm\n",
    "import sys\n",
    "\n"
   ]
  },
  {
   "cell_type": "code",
   "execution_count": 71,
   "metadata": {},
   "outputs": [
    {
     "name": "stdout",
     "output_type": "stream",
     "text": [
      "\n"
     ]
    }
   ],
   "source": [
    "halodek = \"hi.csv\"\n",
    "folder_loc = '/'.join([i for i in halodek.split(\"/\")][:-1])\n",
    "print(folder_loc)\n",
    "if not os.path.exists(folder_loc) and folder_loc != '':\n",
    "    print(\"wi\")"
   ]
  },
  {
   "cell_type": "code",
   "execution_count": 39,
   "metadata": {},
   "outputs": [],
   "source": [
    "def create_submission(predicted, path = \"submission.csv\"):\n",
    "    folder_loc = '/'.join([i for i in path.split(\"/\")][:-1])\n",
    "    if not os.path.exists(folder_loc) and folder_loc != '':\n",
    "        os.makedirs(folder_loc)\n",
    "    df = pd.read_excel(\"Data/Submission_Format.xlsx\")\n",
    "    df[\"Kelas\"] = predicted\n",
    "    df.to_csv(path, index=False)"
   ]
  },
  {
   "cell_type": "code",
   "execution_count": 13,
   "metadata": {},
   "outputs": [
    {
     "name": "stdout",
     "output_type": "stream",
     "text": [
      "PY version   : 3.11.9 (tags/v3.11.9:de54cf5, Apr  2 2024, 10:12:12) [MSC v.1938 64 bit (AMD64)]\n",
      "Hardware     : [PhysicalDevice(name='/physical_device:CPU:0', device_type='CPU')]\n"
     ]
    }
   ],
   "source": [
    "# Was run on\n",
    "print(f'PY version   : {sys.version}\\nHardware     : {tf.config.list_physical_devices()}')"
   ]
  },
  {
   "cell_type": "markdown",
   "metadata": {},
   "source": [
    "# Wrangling"
   ]
  },
  {
   "cell_type": "code",
   "execution_count": 72,
   "metadata": {},
   "outputs": [],
   "source": [
    "# input Data\n",
    "train_data = pd.read_excel(\"Data/train.xlsx\")\n",
    "test_data = pd.read_excel(\"Data/Test.xlsx\")"
   ]
  },
  {
   "cell_type": "code",
   "execution_count": 95,
   "metadata": {},
   "outputs": [
    {
     "data": {
      "text/plain": [
       "['Demografi',\n",
       " 'Ekonomi',\n",
       " 'Geografi',\n",
       " 'Ideologi',\n",
       " 'Pertahanan dan Keamanan',\n",
       " 'Politik',\n",
       " 'Sosial Budaya',\n",
       " 'Sumber Daya Alam']"
      ]
     },
     "execution_count": 95,
     "metadata": {},
     "output_type": "execute_result"
    }
   ],
   "source": [
    "targets"
   ]
  },
  {
   "cell_type": "code",
   "execution_count": 101,
   "metadata": {},
   "outputs": [
    {
     "data": {
      "text/plain": [
       "{'Demografi': 62,\n",
       " 'Ekonomi': 367,\n",
       " 'Geografi': 20,\n",
       " 'Ideologi': 400,\n",
       " 'Pertahanan dan Keamanan': 400,\n",
       " 'Politik': 2972,\n",
       " 'Sosial Budaya': 587,\n",
       " 'Sumber Daya Alam': 192}"
      ]
     },
     "execution_count": 101,
     "metadata": {},
     "output_type": "execute_result"
    }
   ],
   "source": [
    "# Check imbalanced Data\n",
    "temp = {}\n",
    "targets = list(np.unique(train_data[\"label\"].values))\n",
    "\n",
    "for i in targets:\n",
    "    temp[i] = len(train_data[train_data[\"label\"]==i])\n",
    "temp"
   ]
  }
 ],
 "metadata": {
  "kernelspec": {
   "display_name": "Python 3",
   "language": "python",
   "name": "python3"
  },
  "language_info": {
   "codemirror_mode": {
    "name": "ipython",
    "version": 3
   },
   "file_extension": ".py",
   "mimetype": "text/x-python",
   "name": "python",
   "nbconvert_exporter": "python",
   "pygments_lexer": "ipython3",
   "version": "3.11.9"
  }
 },
 "nbformat": 4,
 "nbformat_minor": 2
}
