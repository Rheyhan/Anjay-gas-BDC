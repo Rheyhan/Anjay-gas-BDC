{
 "cells": [
  {
   "cell_type": "code",
   "execution_count": 213,
   "metadata": {},
   "outputs": [],
   "source": [
    "import pandas as pd\n",
    "import numpy as np\n",
    "\n",
    "import tensorflow as tf\n",
    "from tensorflow import keras\n",
    "\n",
    "from keras.preprocessing.text import Tokenizer\n",
    "from keras.preprocessing.sequence import pad_sequences\n",
    "\n",
    "from category_encoders import OrdinalEncoder\n",
    "import os\n",
    "from tqdm import tqdm\n",
    "import sys\n",
    "\n",
    "from sklearn.model_selection import train_test_split\n",
    "import re"
   ]
  },
  {
   "cell_type": "code",
   "execution_count": 2,
   "metadata": {},
   "outputs": [],
   "source": [
    "def create_submission(predicted, path = \"submission.csv\"):\n",
    "    folder_loc = '/'.join([i for i in path.split(\"/\")][:-1])\n",
    "    if not os.path.exists(folder_loc) and folder_loc != '':\n",
    "        os.makedirs(folder_loc)\n",
    "    df = pd.read_excel(\"Data/Submission_Format.xlsx\")\n",
    "    df[\"Kelas\"] = predicted\n",
    "    df.to_csv(path, index=False)"
   ]
  },
  {
   "cell_type": "code",
   "execution_count": 3,
   "metadata": {},
   "outputs": [
    {
     "name": "stdout",
     "output_type": "stream",
     "text": [
      "PY version   : 3.11.9 (tags/v3.11.9:de54cf5, Apr  2 2024, 10:12:12) [MSC v.1938 64 bit (AMD64)]\n",
      "Hardware     : PhysicalDevice(name='/physical_device:CPU:0', device_type='CPU')\n"
     ]
    }
   ],
   "source": [
    "# Was run on\n",
    "print(f'PY version   : {sys.version}\\nHardware     : {tf.config.list_physical_devices()[0]}')"
   ]
  },
  {
   "cell_type": "markdown",
   "metadata": {},
   "source": [
    "# Wrangling"
   ]
  },
  {
   "cell_type": "code",
   "execution_count": 4,
   "metadata": {},
   "outputs": [],
   "source": [
    "# input Data\n",
    "train_data = pd.read_excel(\"Data/train.xlsx\")\n",
    "test_data = pd.read_excel(\"Data/Test.xlsx\")"
   ]
  },
  {
   "cell_type": "markdown",
   "metadata": {},
   "source": [
    "## Exploration"
   ]
  },
  {
   "cell_type": "code",
   "execution_count": 5,
   "metadata": {},
   "outputs": [
    {
     "name": "stdout",
     "output_type": "stream",
     "text": [
      "['@gQ+QGmYJ209N7Py+H3gRyakQiic4NLEklTOIIuALnZA= @gqAL2HIcdWKR2U/VFUq3R0TFxXxtxCsKyUXAKn9R5o0= Iya nih penting suara Batak sebagai populasi etnis ketiga terbesar setelah Jawa Sunda. Mayoritas Batak Kristen cukup anti sama Anies karena diframing radikal sejak'\n",
      " 'Demografi']\n",
      "['Adi menginformasikan bahwa isu utama di kampung mereka adalah sulitnya mendapatkan air bersih dan masalah naiknya air laut. #IndonesiaSentris #IndonesiaHijau #02Melanjutkan #AnakMudaIndonesiaEmas Prabowo Subianto'\n",
      " 'Sumber Daya Alam']\n",
      "['Adi menginformasikan bahwa isu utama di kampung mereka adalah sulitnya mendapatkan air bersih dan masalah naiknya air laut. #IndonesiaSentris #IndonesiaHijau #02Melanjutkan #AnakMudaIndonesiaEmas Prabowo Subianto'\n",
      " 'Sumber Daya Alam']\n",
      "['Adi menginformasikan bahwa isu utama di kampung mereka adalah sulitnya mendapatkan air bersih dan masalah naiknya air laut. #IndonesiaSentris #IndonesiaHijau #02Melanjutkan #AnakMudaIndonesiaEmas Prabowo Subianto'\n",
      " 'Sumber Daya Alam']\n",
      "['Adi menginformasikan bahwa isu utama di kampung mereka adalah sulitnya mendapatkan air bersih dan masalah naiknya air laut. #IndonesiaSentris #IndonesiaHijau #02Melanjutkan #AnakMudaIndonesiaEmas Prabowo Subianto'\n",
      " 'Sumber Daya Alam']\n",
      "['Adi menginformasikan bahwa isu utama di kampung mereka adalah sulitnya mendapatkan air bersih dan masalah naiknya air laut. #IndonesiaSentris #IndonesiaHijau #02Melanjutkan #AnakMudaIndonesiaEmas Prabowo Subianto'\n",
      " 'Sumber Daya Alam']\n",
      "['Investor, bersiaplah! Pasangan Capres Cawapres Ganjar Pranowo dan Prof Mahfud MD MD sedang merancang regulasi hukum yang lebih straightforward untuk mendukung pertumbuhan investasi.#GanjarMahfudRebound #GanjarPranowoPilihanUmat #JNK'\n",
      " 'Ekonomi']\n",
      "['Investor, bersiaplah! Pasangan Capres Cawapres Ganjar Pranowo dan Prof Mahfud MD MD sedang merancang regulasi hukum yang lebih straightforward untuk mendukung pertumbuhan investasi.#GanjarMahfudRebound #GanjarPranowoPilihanUmat #JNK'\n",
      " 'Ekonomi']\n",
      "['Investor, bersiaplah! Pasangan Capres Cawapres Ganjar Pranowo dan Prof Mahfud MD MD sedang merancang regulasi hukum yang lebih straightforward untuk mendukung pertumbuhan investasi.#GanjarMahfudRebound #GanjarPranowoPilihanUmat #JNK'\n",
      " 'Ekonomi']\n",
      "['Investor, prepare yourself! Pasangan Capres Cawapres Ganjar Pranowo dan Prof Mahfud MD MD sedang merancang regulasi hukum yang mendukung pertumbuhan investasi di Indonesia.#GanjarMahfudRebound #GanjarPranowoPilihanUmat #JNK'\n",
      " 'Ekonomi']\n",
      "['Investor, prepare yourself! Pasangan Capres Cawapres Ganjar Pranowo dan Prof Mahfud MD MD sedang merancang regulasi hukum yang mendukung pertumbuhan investasi di Indonesia.#GanjarMahfudRebound #GanjarPranowoPilihanUmat #JNK'\n",
      " 'Ekonomi']\n"
     ]
    }
   ],
   "source": [
    "# Check for Dupllicate\n",
    "sum(train_data.duplicated())        # 381\n",
    "\n",
    "# Further examination\n",
    "temp = train_data[train_data.duplicated()].copy()\n",
    "for counter, text in enumerate(temp.sort_values(\"text\").values):\n",
    "    print(text)\n",
    "    if counter==10: break\n",
    "\n",
    "# Conclusion: Ada duplikat pada train data, ada yang fitur dan targetnya sama. Namun, ada juga yang fiturnya sama namun targetnya berbeda"
   ]
  },
  {
   "cell_type": "code",
   "execution_count": 6,
   "metadata": {},
   "outputs": [
    {
     "data": {
      "text/plain": [
       "{'Demografi': 62,\n",
       " 'Ekonomi': 367,\n",
       " 'Geografi': 20,\n",
       " 'Ideologi': 400,\n",
       " 'Pertahanan dan Keamanan': 400,\n",
       " 'Politik': 2972,\n",
       " 'Sosial Budaya': 587,\n",
       " 'Sumber Daya Alam': 192}"
      ]
     },
     "execution_count": 6,
     "metadata": {},
     "output_type": "execute_result"
    }
   ],
   "source": [
    "# Check imbalanced Data\n",
    "temp = {}\n",
    "targets = list(np.unique(train_data[\"label\"].values))\n",
    "\n",
    "for i in targets:\n",
    "    temp[i] = len(train_data[train_data[\"label\"]==i])\n",
    "temp\n",
    "\n",
    "# Conclusion: Data's unbalanced"
   ]
  },
  {
   "cell_type": "code",
   "execution_count": 7,
   "metadata": {},
   "outputs": [
    {
     "data": {
      "text/plain": [
       "[(688,\n",
       "  'RT ÃƒÂ°Ã‚Â\\x9dÃ‚Â\\x90Ã‚â€™ÃƒÂ°Ã‚Â\\x9dÃ‚Â\\x90Ã‚Å“ÃƒÂ°Ã‚Â\\x9dÃ‚Â\\x90Ã‚Â¨ÃƒÂ°Ã‚Â\\x9dÃ‚Â\\x90Ã‚Â«ÃƒÂ°Ã‚Â\\x9dÃ‚Â\\x90Ã‚Å¾ ÃƒÂ°Ã‚Â\\x9dÃ‚Â\\x90Ã‚Â¤ÃƒÂ°Ã‚Â\\x9dÃ‚Â\\x90Ã‚Â¢ÃƒÂ°Ã‚Â\\x9dÃ‚Â\\x90Ã‚Â§ÃƒÂ°Ã‚Â\\x9dÃ‚Â\\x90Ã‚Å¾ÃƒÂ°Ã‚Â\\x9dÃ‚Â\\x90Ã‚Â«ÃƒÂ°Ã‚Â\\x9dÃ‚Â\\x90Ã‚Â£ÃƒÂ°Ã‚Â\\x9dÃ‚Â\\x90Ã‚Å¡ ÃƒÂ°Ã‚Â\\x9dÃ‚Â\\x90Ã‚Â©ÃƒÂ°Ã‚Â\\x9dÃ‚Â\\x90Ã‚Â«ÃƒÂ°Ã‚Â\\x9dÃ‚Â\\x90Ã‚Å¡ÃƒÂ°Ã‚Â\\x9dÃ‚Â\\x90Ã‚â€ºÃƒÂ°Ã‚Â\\x9dÃ‚Â\\x90Ã‚Â¨ÃƒÂ°Ã‚Â\\x9dÃ‚Â\\x90Ã‚Â°ÃƒÂ°Ã‚Â\\x9dÃ‚Â\\x90Ã‚Â¨ ÃƒÂ°Ã‚Â\\x9dÃ‚Â\\x90Ã‚Â\\x9dÃƒÂ°Ã‚Â\\x9dÃ‚Â\\x90Ã‚Â¢ ÃƒÂ°Ã‚Â\\x9dÃ‚Â\\x90Ã‚Å¸ÃƒÂ°Ã‚Â\\x9dÃ‚Â\\x90Ã‚Â¨ÃƒÂ°Ã‚Â\\x9dÃ‚Â\\x90Ã‚Â¨ÃƒÂ°Ã‚Â\\x9dÃ‚Â\\x90Ã‚Â\\x9d ÃƒÂ°Ã‚Â\\x9dÃ‚Â\\x90Ã‚Å¾ÃƒÂ°Ã‚Â\\x9dÃ‚Â\\x90Ã‚Â¬ÃƒÂ°Ã‚Â\\x9dÃ‚Â\\x90Ã‚Â\\xadÃƒÂ°Ã‚Â\\x9dÃ‚Â\\x90Ã‚Å¡ÃƒÂ°Ã‚Â\\x9dÃ‚Â\\x90Ã‚Â\\xadÃƒÂ°Ã‚Â\\x9dÃ‚Â\\x90Ã‚Å¾ 0,7 ÃƒÂ°Ã‚Â\\x9dÃ‚Â\\x90Ã‚Â\\x9dÃƒÂ°Ã‚Â\\x9dÃ‚Â\\x90Ã‚Å¡ÃƒÂ°Ã‚Â\\x9dÃ‚Â\\x90Ã‚Â«ÃƒÂ°Ã‚Â\\x9dÃ‚Â\\x90Ã‚Â¢ 100 Food estate mulai dicanangkan pada 3 tahun lalu, tepatnya pada 6 Juli 2020 ÃƒÂ°Ã‚Â\\x9dÃ‚Â\\x90Ã‚Â\\x8fÃƒÂ°Ã‚Â\\x9dÃ‚Â\\x90Ã‚Â«ÃƒÂ°Ã‚Â\\x9dÃ‚Â\\x90Ã‚Å¾ÃƒÂ°Ã‚Â\\x9dÃ‚Â\\x90Ã‚Â¬ÃƒÂ°Ã‚Â\\x9dÃ‚Â\\x90Ã‚Â¢ÃƒÂ°Ã‚Â\\x9dÃ‚Â\\x90Ã‚Â\\x9dÃƒÂ°Ã‚Â\\x9dÃ‚Â\\x90Ã‚Å¾ÃƒÂ°Ã‚Â\\x9dÃ‚Â\\x90Ã‚Â§ ÃƒÂ°Ã‚Â\\x9dÃ‚Â\\x90Ã‚Â¦ÃƒÂ°Ã‚Â\\x9dÃ‚Â\\x90Ã‚Å¾ÃƒÂ°Ã‚Â\\x9dÃ‚Â\\x90Ã‚Â§ÃƒÂ°Ã‚Â\\x9dÃ‚Â\\x90Ã‚Â®ÃƒÂ°Ã‚Â\\x9dÃ‚Â\\x90Ã‚Â§ÃƒÂ°Ã‚Â\\x9dÃ‚Â\\x90Ã‚Â£ÃƒÂ°Ã‚Â\\x9dÃ‚Â\\x90Ã‚Â®ÃƒÂ°Ã‚Â\\x9dÃ‚Â\\x90Ã‚Â¤ ÃƒÂ°Ã‚Â\\x9dÃ‚Â\\x90Ã‚Â\\x8fÃƒÂ°Ã‚Â\\x9dÃ‚Â\\x90Ã‚Â«ÃƒÂ°Ã‚Â\\x9dÃ‚Â\\x90Ã‚Å¡ÃƒÂ°Ã‚Â\\x9dÃ‚Â\\x90Ã‚â€ºÃƒÂ°Ã‚Â\\x9dÃ‚Â\\x90Ã‚Â¨ÃƒÂ°Ã‚Â\\x9dÃ‚Â\\x90Ã‚Â°ÃƒÂ°Ã‚Â\\x9dÃ‚Â\\x90Ã‚Â¨ ÃƒÂ°Ã‚Â\\x9dÃ‚Â\\x90Ã‚Â¬ÃƒÂ°Ã‚Â\\x9dÃ‚Â\\x90Ã‚Å¾ÃƒÂ°Ã‚Â\\x9dÃ‚Â\\x90Ã‚â€ºÃƒÂ°Ã‚Â\\x9dÃ‚Â\\x90Ã‚Å¡ÃƒÂ°Ã‚Â\\x9dÃ‚Â\\x90 ÃƒÂ°Ã‚Â\\x9dÃ‚Â\\x90Ã‚Å¡ÃƒÂ°Ã‚Â\\x9dÃ‚Â\\x90Ã‚Â¢ ÃƒÂ°Ã‚Â\\x9dÃ‚Â\\x90Ã‚Â¥ÃƒÂ°Ã‚Â\\x9dÃ‚Â\\x90Ã‚Å¾ÃƒÂ°Ã‚Â\\x9dÃ‚Â\\x90Ã‚Å¡ÃƒÂ°Ã‚Â\\x9dÃ‚Â\\x90Ã‚Â\\x9dÃƒÂ°Ã‚Â\\x9dÃ‚Â\\x90Ã‚Å¾ÃƒÂ°Ã‚Â\\x9dÃ‚Â\\x90Ã‚Â« ÃƒÂ°Ã‚Â\\x9dÃ‚Â\\x90Ã‚Â®ÃƒÂ°Ã‚Â\\x9dÃ‚Â\\x90Ã‚Â§ÃƒÂ°Ã‚Â\\x9dÃ‚Â\\x90Ã‚Â\\xadÃƒÂ°Ã‚Â\\x9dÃ‚Â\\x90Ã‚Â®ÃƒÂ°Ã‚Â\\x9dÃ‚Â\\x90Ã‚Â¤ ÃƒÂ°Ã‚Â\\x9dÃ‚Â\\x90Ã‚Â©ÃƒÂ°Ã‚Â\\x9dÃ‚Â\\x90Ã‚Â«ÃƒÂ°Ã‚Â\\x9dÃ‚Â\\x90Ã‚Â¨ÃƒÂ°Ã‚Â\\x9dÃ‚Â\\x90 ÃƒÂ°Ã‚Â\\x9dÃ‚Â\\x90Ã‚Â«ÃƒÂ°Ã‚Â\\x9dÃ‚Â\\x90Ã‚Å¡ÃƒÂ°Ã‚Â\\x9dÃ‚Â\\x90Ã‚Â¦ ÃƒÂ°Ã‚Â\\x9dÃ‚Â\\x90Ã‚Â¢ÃƒÂ°Ã‚Â\\x9dÃ‚Â\\x90Ã‚Â§ÃƒÂ°Ã‚Â\\x9dÃ‚Â\\x90Ã‚Â¢, dibantu oleh menteri PUPR dan menteri pertanian. Secara garis besar, food estate adalah program ekstensifikasi pertanian, membuka lahan yg besar dan mengubahnya menjadi lahan pertanian 2 bulan setelah dicanangkan, food estate mulai dikerjakan di Kalimantan tengah, yaitu daerah gunung emas, sedangkan PT yang terlibat dalam program ini berdasarkan penelusuran Tempo, adalah PT yang baru dibentuk 5 bulan sebelumnya yaitu PT Agrinas dimana susunan direksinya terdapat setidaknya 3 dari Gerindra dan banyak juga staff Agrinas merangkap sebagai pegawai kementerian pertahanan, ÃƒÂ°Ã‚Â\\x9dÃ‚Â\\x90Ã‚Â¦ÃƒÂ°Ã‚Â\\x9dÃ‚Â\\x90Ã‚Â®ÃƒÂ°Ã‚Â\\x9dÃ‚Â\\x90Ã‚Â§ÃƒÂ°Ã‚Â\\x9dÃ‚Â\\x90 ÃƒÂ°Ã‚Â\\x9dÃ‚Â\\x90Ã‚Â¤ÃƒÂ°Ã‚Â\\x9dÃ‚Â\\x90Ã‚Â¢ÃƒÂ°Ã‚Â\\x9dÃ‚Â\\x90Ã‚Â§ ÃƒÂ°Ã‚Â\\x9dÃ‚Â\\x90Ã‚Â¢ÃƒÂ°Ã‚Â\\x9dÃ‚Â\\x90Ã‚Â§ÃƒÂ°Ã‚Â\\x9dÃ‚Â\\x90Ã‚Â¢ ÃƒÂ°Ã‚Â\\x9dÃ‚Â\\x90Ã‚Â²ÃƒÂ°Ã‚Â\\x9dÃ‚Â\\x90Ã‚Å¡ÃƒÂ°Ã‚Â\\x9dÃ‚Â\\x90Ã‚Â§ÃƒÂ°Ã‚Â\\x9dÃ‚Â\\x90 ÃƒÂ°Ã‚Â\\x9dÃ‚Â\\x90Ã‚Â\\x9dÃƒÂ°Ã‚Â\\x9dÃ‚Â\\x90Ã‚Â¢ÃƒÂ°Ã‚Â\\x9dÃ‚Â\\x90Ã‚Â¦ÃƒÂ°Ã‚Â\\x9dÃ‚Â\\x90Ã‚Å¡ÃƒÂ°Ã‚Â\\x9dÃ‚Â\\x90Ã‚Â¤ÃƒÂ°Ã‚Â\\x9dÃ‚Â\\x90Ã‚Â¬ÃƒÂ°Ã‚Â\\x9dÃ‚Â\\x90Ã‚Â®ÃƒÂ°Ã‚Â\\x9dÃ‚Â\\x90Ã‚Â\\x9d ÃƒÂ°Ã‚Â\\x9dÃ‚Â\\x90Ã‚â‚¬ÃƒÂ°Ã‚Â\\x9dÃ‚Â\\x90Ã‚Â§ÃƒÂ°Ã‚Â\\x9dÃ‚Â\\x90Ã‚Â¢ÃƒÂ°Ã‚Â\\x9dÃ‚Â\\x90Ã‚Å¾ÃƒÂ°Ã‚Â\\x9dÃ‚Â\\x90Ã‚Â¬ ÃƒÂ°Ã‚Â\\x9dÃ‚Â\\x90Ã‚Â¬ÃƒÂ°Ã‚Â\\x9dÃ‚Â\\x90Ã‚Å¾ÃƒÂ°Ã‚Â\\x9dÃ‚Â\\x90Ã‚â€ºÃƒÂ°Ã‚Â\\x9dÃ‚Â\\x90Ã‚Å¡ÃƒÂ°Ã‚Â\\x9dÃ‚Â\\x90 ÃƒÂ°Ã‚Â\\x9dÃ‚Â\\x90Ã‚Å¡ÃƒÂ°Ã‚Â\\x9dÃ‚Â\\x90Ã‚Â¢ ÃƒÂ°Ã‚Â\\x9dÃ‚Â\\x90Ã‚Â¨ÃƒÂ°Ã‚Â\\x9dÃ‚Â\\x90Ã‚Â«ÃƒÂ°Ã‚Â\\x9dÃ‚Â\\x90Ã‚Å¡ÃƒÂ°Ã‚Â\\x9dÃ‚Â\\x90Ã‚Â§ÃƒÂ°Ã‚Â\\x9dÃ‚Â\\x90 ÃƒÂ°Ã‚Â\\x9dÃ‚Â\\x90Ã‚Â\\x9dÃƒÂ°Ã‚Â\\x9dÃ‚Â\\x90Ã‚Å¡ÃƒÂ°Ã‚Â\\x9dÃ‚Â\\x90Ã‚Â¥ÃƒÂ°Ã‚Â\\x9dÃ‚Â\\x90Ã‚Å¡ÃƒÂ°Ã‚Â\\x9dÃ‚Â\\x90Ã‚Â¦ di food estate Food estate berencana untuk membuka 6 ribu hektar hutan hujan tropis, tepat 4 bulan setelah dicanangkan, beberapa anggota TNI terlibat dalam pembabatan hutan, dimana hutan yang sudah dibuka saat itu sekitar 670 hektar, dan karena itu adalah hutan tentunya banyak kayu yg dihasilkan, kemanakah kayu2 tersebut? Tiada yang tahu dan tiada yg mengerti Awalnya food estate menanam singkong pada bekas hutan tersebut, namun karena tanahnya berpasir, singkong tak kunjung tumbuh dalam kurun waktu 3 tahun, sehingga untuk menutupi kegagalan tersebut didatangkanlah jagung dalam polibag untuk 3-4 hektare lahan tersebut, dan itupun hasilnya juga tidak memuaskan Dari sisi anggaran, food estate masuk dalam kategori PSN, dimana anggaran yg dihabiskan 2021-2022 sekitar 1,5 triliun, di 2023 ada anggaran sekitar 2,4 triliun dan nanti di 2024 dianggarkan 2,56 triliun.. Jokowi sendiri mengatakan anggaran yang dibutuhkan sekitar 108 triliun.. mengingat menurut laporan PPATK 36% masuk ke kantong ASN dan politisi.. maka 38 triliun bisa masuk ke kantong mereka.. apalagi kalo pelaksananya orang dalam.. pasti akan lebih luar biasa.. dan apa hasilnya setelah 3 tahun berjalan? Bisa dibilang 0 besar karena panen jagungnya juga tidak signifikan Sampai disini, kalo kita merasionalkan menjadi skor penilaian kinerja Prabowo di food estate, maka dapat kita hitung dari lahan yang sudah dibabat yaitu sekitar 670 hektar dibandingkan dengan jagung polybag yg dipanen oleh Jokowi sekitar 4 hektare..atau didapat ÃƒÂ°Ã‚Â\\x9dÃ‚Â\\x90Ã‚Â¡ÃƒÂ°Ã‚Â\\x9dÃ‚Â\\x90Ã‚Å¡ÃƒÂ°Ã‚Â\\x9dÃ‚Â\\x90Ã‚Â§ÃƒÂ°Ã‚Â\\x9dÃ‚Â\\x90Ã‚Â²ÃƒÂ°Ã‚Â\\x9dÃ‚Â\\x90Ã‚Å¡ 0,69%.. jadi ÃƒÂ°Ã‚Â\\x9dÃ‚Â\\x90Ã‚Â¬ÃƒÂ°Ã‚Â\\x9dÃ‚Â\\x90Ã‚Å“ÃƒÂ°Ã‚Â\\x9dÃ‚Â\\x90Ã‚Â¨ÃƒÂ°Ã‚Â\\x9dÃ‚Â\\x90Ã‚Â«ÃƒÂ°Ã‚Â\\x9dÃ‚Â\\x90Ã‚Å¾ ÃƒÂ°Ã‚Â\\x9dÃ‚Â\\x90Ã‚Â\\x8fÃƒÂ°Ã‚Â\\x9dÃ‚Â\\x90Ã‚Â«ÃƒÂ°Ã‚Â\\x9dÃ‚Â\\x90Ã‚Å¡ÃƒÂ°Ã‚Â\\x9dÃ‚Â\\x90Ã‚â€ºÃƒÂ°Ã‚Â\\x9dÃ‚Â\\x90Ã‚Â¨ÃƒÂ°Ã‚Â\\x9dÃ‚Â\\x90Ã‚Â°ÃƒÂ°Ã‚Â\\x9dÃ‚Â\\x90Ã‚Â¨ ÃƒÂ°Ã‚Â\\x9dÃ‚Â\\x90Ã‚Â®ÃƒÂ°Ã‚Â\\x9dÃ‚Â\\x90Ã‚Â§ÃƒÂ°Ã‚Â\\x9dÃ‚Â\\x90Ã‚Â\\xadÃƒÂ°Ã‚Â\\x9dÃ‚Â\\x90Ã‚Â®ÃƒÂ°Ã‚Â\\x9dÃ‚Â\\x90Ã‚Â¤ ÃƒÂ°Ã‚Â\\x9dÃ‚Â\\x90Ã‚Å¸ÃƒÂ°Ã‚Â\\x9dÃ‚Â\\x90Ã‚Â¨ÃƒÂ°Ã‚Â\\x9dÃ‚Â\\x90Ã‚Â¨ÃƒÂ°Ã‚Â\\x9dÃ‚Â\\x90Ã‚Â\\x9d ÃƒÂ°Ã‚Â\\x9dÃ‚Â\\x90Ã‚Å¾ÃƒÂ°Ã‚Â\\x9dÃ‚Â\\x90Ã‚Â¬ÃƒÂ°Ã‚Â\\x9dÃ‚Â\\x90Ã‚Â\\xadÃƒÂ°Ã‚Â\\x9dÃ‚Â\\x90Ã‚Å¡ÃƒÂ°Ã‚Â\\x9dÃ‚Â\\x90Ã‚Â\\xadÃƒÂ°Ã‚Â\\x9dÃ‚Â\\x90Ã‚Å¾ ÃƒÂ°Ã‚Â\\x9dÃ‚Â\\x90Ã‚Å¡ÃƒÂ°Ã‚Â\\x9dÃ‚Â\\x90Ã‚Â\\x9dÃƒÂ°Ã‚Â\\x9dÃ‚Â\\x90Ã‚Å¡ÃƒÂ°Ã‚Â\\x9dÃ‚Â\\x90Ã‚Â¥ÃƒÂ°Ã‚Â\\x9dÃ‚Â\\x90Ã‚Å¡ÃƒÂ°Ã‚Â\\x9dÃ‚Â\\x90Ã‚Â¡ 0,7 ÃƒÂ°Ã‚Â\\x9dÃ‚Â\\x90Ã‚Â\\x9dÃƒÂ°Ã‚Â\\x9dÃ‚Â\\x90Ã‚Å¡ÃƒÂ°Ã‚Â\\x9dÃ‚Â\\x90Ã‚Â«ÃƒÂ°Ã‚Â\\x9dÃ‚Â\\x90Ã‚Â¢ 100, walaupun sudah dikatrol oleh jagung polybag..ÃƒÂ°Ã‚Â\\x9dÃ‚Â\\x90Ã‚Â§ÃƒÂ°Ã‚Â\\x9dÃ‚Â\\x90Ã‚Â¢ÃƒÂ°Ã‚Â\\x9dÃ‚Â\\x90Ã‚Â¥ÃƒÂ°Ã‚Â\\x9dÃ‚Â\\x90Ã‚Å¡ÃƒÂ°Ã‚Â\\x9dÃ‚Â\\x90Ã‚Â¢ ÃƒÂ°Ã‚Â\\x9dÃ‚Â\\x90Ã‚Â¢ÃƒÂ°Ã‚Â\\x9dÃ‚Â\\x90Ã‚Â§ÃƒÂ°Ã‚Â\\x9dÃ‚Â\\x90Ã‚Â¢ ÃƒÂ°Ã‚Â\\x9dÃ‚Â\\x90Ã‚Â£ÃƒÂ°Ã‚Â\\x9dÃ‚Â\\x90Ã‚Å¡ÃƒÂ°Ã‚Â\\x9dÃ‚Â\\x90Ã‚Â®ÃƒÂ°Ã‚Â\\x9dÃ‚Â\\x90Ã‚Â¡ ÃƒÂ°Ã‚Â\\x9dÃ‚Â\\x90Ã‚Â¥ÃƒÂ°Ã‚Â\\x9dÃ‚Â\\x90Ã‚Å¾ÃƒÂ°Ã‚Â\\x9dÃ‚Â\\x90Ã‚â€ºÃƒÂ°Ã‚Â\\x9dÃ‚Â\\x90Ã‚Â¢ÃƒÂ°Ã‚Â\\x9dÃ‚Â\\x90Ã‚Â¡ ÃƒÂ°Ã‚Â\\x9dÃ‚Â\\x90Ã‚Â«ÃƒÂ°Ã‚Â\\x9dÃ‚Â\\x90Ã‚Å¾ÃƒÂ°Ã‚Â\\x9dÃ‚Â\\x90Ã‚Â§ÃƒÂ°Ã‚Â\\x9dÃ‚Â\\x90Ã‚Â\\x9dÃƒÂ°Ã‚Â\\x9dÃ‚Â\\x90Ã‚Å¡ÃƒÂ°Ã‚Â\\x9dÃ‚Â\\x90Ã‚Â¡ ÃƒÂ°Ã‚Â\\x9dÃ‚Â\\x90Ã‚Â\\x9dÃƒÂ°Ã‚Â\\x9dÃ‚Â\\x90Ã‚Å¡ÃƒÂ°Ã‚Â\\x9dÃ‚Â\\x90Ã‚Â«ÃƒÂ°Ã‚Â\\x9dÃ‚Â\\x90Ã‚Â¢ ÃƒÂ°Ã‚Â\\x9dÃ‚Â\\x90Ã‚Â²ÃƒÂ°Ã‚Â\\x9dÃ‚Â\\x90Ã‚Å¡ÃƒÂ°Ã‚Â\\x9dÃ‚Â\\x90Ã‚Â§ÃƒÂ°Ã‚Â\\x9dÃ‚Â\\x90 ÃƒÂ°Ã‚Â\\x9dÃ‚Â\\x90Ã‚Â\\x9dÃƒÂ°Ã‚Â\\x9dÃ‚Â\\x90Ã‚Â¢ÃƒÂ°Ã‚Â\\x9dÃ‚Â\\x90Ã‚â€ºÃƒÂ°Ã‚Â\\x9dÃ‚Â\\x90Ã‚Å¾ÃƒÂ°Ã‚Â\\x9dÃ‚Â\\x90Ã‚Â«ÃƒÂ°Ã‚Â\\x9dÃ‚Â\\x90Ã‚Â¢ÃƒÂ°Ã‚Â\\x9dÃ‚Â\\x90Ã‚Â¤ÃƒÂ°Ã‚Â\\x9dÃ‚Â\\x90Ã‚Å¡ÃƒÂ°Ã‚Â\\x9dÃ‚Â\\x90Ã‚Â§ ÃƒÂ°Ã‚Â\\x9dÃ‚Â\\x90Ã‚Â©ÃƒÂ°Ã‚Â\\x9dÃ‚Â\\x90Ã‚Å¡ÃƒÂ°Ã‚Â\\x9dÃ‚Â\\x90Ã‚Â¤ ÃƒÂ°Ã‚Â\\x9dÃ‚Â\\x90Ã‚â‚¬ÃƒÂ°Ã‚Â\\x9dÃ‚Â\\x90Ã‚Â§ÃƒÂ°Ã‚Â\\x9dÃ‚Â\\x90Ã‚Â¢ÃƒÂ°Ã‚Â\\x9dÃ‚Â\\x90Ã‚Å¾ÃƒÂ°Ã‚Â\\x9dÃ‚Â\\x90Ã‚Â¬ ÃƒÂ°Ã‚Â\\x9dÃ‚Â\\x90Ã‚Â\\x81ÃƒÂ°Ã‚Â\\x9dÃ‚Â\\x90Ã‚Å¡ÃƒÂ°Ã‚Â\\x9dÃ‚Â\\x90Ã‚Â¬ÃƒÂ°Ã‚Â\\x9dÃ‚Â\\x90Ã‚Â°ÃƒÂ°Ã‚Â\\x9dÃ‚Â\\x90Ã‚Å¾ÃƒÂ°Ã‚Â\\x9dÃ‚Â\\x90Ã‚Â\\x9dÃƒÂ°Ã‚Â\\x9dÃ‚Â\\x90Ã‚Å¡ÃƒÂ°Ã‚Â\\x9dÃ‚Â\\x90Ã‚Â§.. sepertinya pak Anies Baswedan masih berbaik hati memberikan score 11 dari 100.. Tanam singkong tumbuh jagung 4 Triliun hilang siapa yg nanggung? Sudah diberi proyek untuk dijadikan panggung Hasilnya gak nendang karena kapasitas nanggung Eh, malah maksa ikut pemilu padahal gampang tersinggung Gimana @tCZym3GRF8UJ3r3+BMdHzRCQFYowhTY2DEoWnMSjYt0= ? :) #PesanUntukAbah #AMINAjaDulu [RE HusodoYoga]',\n",
       "  'Sumber Daya Alam',\n",
       "  6307),\n",
       " (2590,\n",
       "  'RT ÃƒÂ°Ã‚Â\\x9dÃ‚Â\\x90Ã‚â€™ÃƒÂ°Ã‚Â\\x9dÃ‚Â\\x90Ã‚Å“ÃƒÂ°Ã‚Â\\x9dÃ‚Â\\x90Ã‚Â¨ÃƒÂ°Ã‚Â\\x9dÃ‚Â\\x90Ã‚Â«ÃƒÂ°Ã‚Â\\x9dÃ‚Â\\x90Ã‚Å¾ ÃƒÂ°Ã‚Â\\x9dÃ‚Â\\x90Ã‚Â¤ÃƒÂ°Ã‚Â\\x9dÃ‚Â\\x90Ã‚Â¢ÃƒÂ°Ã‚Â\\x9dÃ‚Â\\x90Ã‚Â§ÃƒÂ°Ã‚Â\\x9dÃ‚Â\\x90Ã‚Å¾ÃƒÂ°Ã‚Â\\x9dÃ‚Â\\x90Ã‚Â«ÃƒÂ°Ã‚Â\\x9dÃ‚Â\\x90Ã‚Â£ÃƒÂ°Ã‚Â\\x9dÃ‚Â\\x90Ã‚Å¡ ÃƒÂ°Ã‚Â\\x9dÃ‚Â\\x90Ã‚Â©ÃƒÂ°Ã‚Â\\x9dÃ‚Â\\x90Ã‚Â«ÃƒÂ°Ã‚Â\\x9dÃ‚Â\\x90Ã‚Å¡ÃƒÂ°Ã‚Â\\x9dÃ‚Â\\x90Ã‚â€ºÃƒÂ°Ã‚Â\\x9dÃ‚Â\\x90Ã‚Â¨ÃƒÂ°Ã‚Â\\x9dÃ‚Â\\x90Ã‚Â°ÃƒÂ°Ã‚Â\\x9dÃ‚Â\\x90Ã‚Â¨ ÃƒÂ°Ã‚Â\\x9dÃ‚Â\\x90Ã‚Â\\x9dÃƒÂ°Ã‚Â\\x9dÃ‚Â\\x90Ã‚Â¢ ÃƒÂ°Ã‚Â\\x9dÃ‚Â\\x90Ã‚Å¸ÃƒÂ°Ã‚Â\\x9dÃ‚Â\\x90Ã‚Â¨ÃƒÂ°Ã‚Â\\x9dÃ‚Â\\x90Ã‚Â¨ÃƒÂ°Ã‚Â\\x9dÃ‚Â\\x90Ã‚Â\\x9d ÃƒÂ°Ã‚Â\\x9dÃ‚Â\\x90Ã‚Å¾ÃƒÂ°Ã‚Â\\x9dÃ‚Â\\x90Ã‚Â¬ÃƒÂ°Ã‚Â\\x9dÃ‚Â\\x90Ã‚Â\\xadÃƒÂ°Ã‚Â\\x9dÃ‚Â\\x90Ã‚Å¡ÃƒÂ°Ã‚Â\\x9dÃ‚Â\\x90Ã‚Â\\xadÃƒÂ°Ã‚Â\\x9dÃ‚Â\\x90Ã‚Å¾ 0,7 ÃƒÂ°Ã‚Â\\x9dÃ‚Â\\x90Ã‚Â\\x9dÃƒÂ°Ã‚Â\\x9dÃ‚Â\\x90Ã‚Å¡ÃƒÂ°Ã‚Â\\x9dÃ‚Â\\x90Ã‚Â«ÃƒÂ°Ã‚Â\\x9dÃ‚Â\\x90Ã‚Â¢ 100 Food estate mulai dicanangkan pada 3 tahun lalu, tepatnya pada 6 Juli 2020 ÃƒÂ°Ã‚Â\\x9dÃ‚Â\\x90Ã‚Â\\x8fÃƒÂ°Ã‚Â\\x9dÃ‚Â\\x90Ã‚Â«ÃƒÂ°Ã‚Â\\x9dÃ‚Â\\x90Ã‚Å¾ÃƒÂ°Ã‚Â\\x9dÃ‚Â\\x90Ã‚Â¬ÃƒÂ°Ã‚Â\\x9dÃ‚Â\\x90Ã‚Â¢ÃƒÂ°Ã‚Â\\x9dÃ‚Â\\x90Ã‚Â\\x9dÃƒÂ°Ã‚Â\\x9dÃ‚Â\\x90Ã‚Å¾ÃƒÂ°Ã‚Â\\x9dÃ‚Â\\x90Ã‚Â§ ÃƒÂ°Ã‚Â\\x9dÃ‚Â\\x90Ã‚Â¦ÃƒÂ°Ã‚Â\\x9dÃ‚Â\\x90Ã‚Å¾ÃƒÂ°Ã‚Â\\x9dÃ‚Â\\x90Ã‚Â§ÃƒÂ°Ã‚Â\\x9dÃ‚Â\\x90Ã‚Â®ÃƒÂ°Ã‚Â\\x9dÃ‚Â\\x90Ã‚Â§ÃƒÂ°Ã‚Â\\x9dÃ‚Â\\x90Ã‚Â£ÃƒÂ°Ã‚Â\\x9dÃ‚Â\\x90Ã‚Â®ÃƒÂ°Ã‚Â\\x9dÃ‚Â\\x90Ã‚Â¤ ÃƒÂ°Ã‚Â\\x9dÃ‚Â\\x90Ã‚Â\\x8fÃƒÂ°Ã‚Â\\x9dÃ‚Â\\x90Ã‚Â«ÃƒÂ°Ã‚Â\\x9dÃ‚Â\\x90Ã‚Å¡ÃƒÂ°Ã‚Â\\x9dÃ‚Â\\x90Ã‚â€ºÃƒÂ°Ã‚Â\\x9dÃ‚Â\\x90Ã‚Â¨ÃƒÂ°Ã‚Â\\x9dÃ‚Â\\x90Ã‚Â°ÃƒÂ°Ã‚Â\\x9dÃ‚Â\\x90Ã‚Â¨ ÃƒÂ°Ã‚Â\\x9dÃ‚Â\\x90Ã‚Â¬ÃƒÂ°Ã‚Â\\x9dÃ‚Â\\x90Ã‚Å¾ÃƒÂ°Ã‚Â\\x9dÃ‚Â\\x90Ã‚â€ºÃƒÂ°Ã‚Â\\x9dÃ‚Â\\x90Ã‚Å¡ÃƒÂ°Ã‚Â\\x9dÃ‚Â\\x90 ÃƒÂ°Ã‚Â\\x9dÃ‚Â\\x90Ã‚Å¡ÃƒÂ°Ã‚Â\\x9dÃ‚Â\\x90Ã‚Â¢ ÃƒÂ°Ã‚Â\\x9dÃ‚Â\\x90Ã‚Â¥ÃƒÂ°Ã‚Â\\x9dÃ‚Â\\x90Ã‚Å¾ÃƒÂ°Ã‚Â\\x9dÃ‚Â\\x90Ã‚Å¡ÃƒÂ°Ã‚Â\\x9dÃ‚Â\\x90Ã‚Â\\x9dÃƒÂ°Ã‚Â\\x9dÃ‚Â\\x90Ã‚Å¾ÃƒÂ°Ã‚Â\\x9dÃ‚Â\\x90Ã‚Â« ÃƒÂ°Ã‚Â\\x9dÃ‚Â\\x90Ã‚Â®ÃƒÂ°Ã‚Â\\x9dÃ‚Â\\x90Ã‚Â§ÃƒÂ°Ã‚Â\\x9dÃ‚Â\\x90Ã‚Â\\xadÃƒÂ°Ã‚Â\\x9dÃ‚Â\\x90Ã‚Â®ÃƒÂ°Ã‚Â\\x9dÃ‚Â\\x90Ã‚Â¤ ÃƒÂ°Ã‚Â\\x9dÃ‚Â\\x90Ã‚Â©ÃƒÂ°Ã‚Â\\x9dÃ‚Â\\x90Ã‚Â«ÃƒÂ°Ã‚Â\\x9dÃ‚Â\\x90Ã‚Â¨ÃƒÂ°Ã‚Â\\x9dÃ‚Â\\x90 ÃƒÂ°Ã‚Â\\x9dÃ‚Â\\x90Ã‚Â«ÃƒÂ°Ã‚Â\\x9dÃ‚Â\\x90Ã‚Å¡ÃƒÂ°Ã‚Â\\x9dÃ‚Â\\x90Ã‚Â¦ ÃƒÂ°Ã‚Â\\x9dÃ‚Â\\x90Ã‚Â¢ÃƒÂ°Ã‚Â\\x9dÃ‚Â\\x90Ã‚Â§ÃƒÂ°Ã‚Â\\x9dÃ‚Â\\x90Ã‚Â¢, dibantu oleh menteri PUPR dan menteri pertanian. Secara garis besar, food estate adalah program ekstensifikasi pertanian, membuka lahan yg besar dan mengubahnya menjadi lahan pertanian 2 bulan setelah dicanangkan, food estate mulai dikerjakan di Kalimantan tengah, yaitu daerah gunung emas, sedangkan PT yang terlibat dalam program ini berdasarkan penelusuran Tempo, adalah PT yang baru dibentuk 5 bulan sebelumnya yaitu PT Agrinas dimana susunan direksinya terdapat setidaknya 3 dari Gerindra dan banyak juga staff Agrinas merangkap sebagai pegawai kementerian pertahanan, ÃƒÂ°Ã‚Â\\x9dÃ‚Â\\x90Ã‚Â¦ÃƒÂ°Ã‚Â\\x9dÃ‚Â\\x90Ã‚Â®ÃƒÂ°Ã‚Â\\x9dÃ‚Â\\x90Ã‚Â§ÃƒÂ°Ã‚Â\\x9dÃ‚Â\\x90 ÃƒÂ°Ã‚Â\\x9dÃ‚Â\\x90Ã‚Â¤ÃƒÂ°Ã‚Â\\x9dÃ‚Â\\x90Ã‚Â¢ÃƒÂ°Ã‚Â\\x9dÃ‚Â\\x90Ã‚Â§ ÃƒÂ°Ã‚Â\\x9dÃ‚Â\\x90Ã‚Â¢ÃƒÂ°Ã‚Â\\x9dÃ‚Â\\x90Ã‚Â§ÃƒÂ°Ã‚Â\\x9dÃ‚Â\\x90Ã‚Â¢ ÃƒÂ°Ã‚Â\\x9dÃ‚Â\\x90Ã‚Â²ÃƒÂ°Ã‚Â\\x9dÃ‚Â\\x90Ã‚Å¡ÃƒÂ°Ã‚Â\\x9dÃ‚Â\\x90Ã‚Â§ÃƒÂ°Ã‚Â\\x9dÃ‚Â\\x90 ÃƒÂ°Ã‚Â\\x9dÃ‚Â\\x90Ã‚Â\\x9dÃƒÂ°Ã‚Â\\x9dÃ‚Â\\x90Ã‚Â¢ÃƒÂ°Ã‚Â\\x9dÃ‚Â\\x90Ã‚Â¦ÃƒÂ°Ã‚Â\\x9dÃ‚Â\\x90Ã‚Å¡ÃƒÂ°Ã‚Â\\x9dÃ‚Â\\x90Ã‚Â¤ÃƒÂ°Ã‚Â\\x9dÃ‚Â\\x90Ã‚Â¬ÃƒÂ°Ã‚Â\\x9dÃ‚Â\\x90Ã‚Â®ÃƒÂ°Ã‚Â\\x9dÃ‚Â\\x90Ã‚Â\\x9d ÃƒÂ°Ã‚Â\\x9dÃ‚Â\\x90Ã‚â‚¬ÃƒÂ°Ã‚Â\\x9dÃ‚Â\\x90Ã‚Â§ÃƒÂ°Ã‚Â\\x9dÃ‚Â\\x90Ã‚Â¢ÃƒÂ°Ã‚Â\\x9dÃ‚Â\\x90Ã‚Å¾ÃƒÂ°Ã‚Â\\x9dÃ‚Â\\x90Ã‚Â¬ ÃƒÂ°Ã‚Â\\x9dÃ‚Â\\x90Ã‚Â¬ÃƒÂ°Ã‚Â\\x9dÃ‚Â\\x90Ã‚Å¾ÃƒÂ°Ã‚Â\\x9dÃ‚Â\\x90Ã‚â€ºÃƒÂ°Ã‚Â\\x9dÃ‚Â\\x90Ã‚Å¡ÃƒÂ°Ã‚Â\\x9dÃ‚Â\\x90 ÃƒÂ°Ã‚Â\\x9dÃ‚Â\\x90Ã‚Å¡ÃƒÂ°Ã‚Â\\x9dÃ‚Â\\x90Ã‚Â¢ ÃƒÂ°Ã‚Â\\x9dÃ‚Â\\x90Ã‚Â¨ÃƒÂ°Ã‚Â\\x9dÃ‚Â\\x90Ã‚Â«ÃƒÂ°Ã‚Â\\x9dÃ‚Â\\x90Ã‚Å¡ÃƒÂ°Ã‚Â\\x9dÃ‚Â\\x90Ã‚Â§ÃƒÂ°Ã‚Â\\x9dÃ‚Â\\x90 ÃƒÂ°Ã‚Â\\x9dÃ‚Â\\x90Ã‚Â\\x9dÃƒÂ°Ã‚Â\\x9dÃ‚Â\\x90Ã‚Å¡ÃƒÂ°Ã‚Â\\x9dÃ‚Â\\x90Ã‚Â¥ÃƒÂ°Ã‚Â\\x9dÃ‚Â\\x90Ã‚Å¡ÃƒÂ°Ã‚Â\\x9dÃ‚Â\\x90Ã‚Â¦ di food estate Food estate berencana untuk membuka 6 ribu hektar hutan hujan tropis, tepat 4 bulan setelah dicanangkan, beberapa anggota TNI terlibat dalam pembabatan hutan, dimana hutan yang sudah dibuka saat itu sekitar 670 hektar, dan karena itu adalah hutan tentunya banyak kayu yg dihasilkan, kemanakah kayu2 tersebut? Tiada yang tahu dan tiada yg mengerti Awalnya food estate menanam singkong pada bekas hutan tersebut, namun karena tanahnya berpasir, singkong tak kunjung tumbuh dalam kurun waktu 3 tahun, sehingga untuk menutupi kegagalan tersebut didatangkanlah jagung dalam polibag untuk 3-4 hektare lahan tersebut, dan itupun hasilnya juga tidak memuaskan Dari sisi anggaran, food estate masuk dalam kategori PSN, dimana anggaran yg dihabiskan 2021-2022 sekitar 1,5 triliun, di 2023 ada anggaran sekitar 2,4 triliun dan nanti di 2024 dianggarkan 2,56 triliun.. Jokowi sendiri mengatakan anggaran yang dibutuhkan sekitar 108 triliun.. mengingat menurut laporan PPATK 36% masuk ke kantong ASN dan politisi.. maka 38 triliun bisa masuk ke kantong mereka.. apalagi kalo pelaksananya orang dalam.. pasti akan lebih luar biasa.. dan apa hasilnya setelah 3 tahun berjalan? Bisa dibilang 0 besar karena panen jagungnya juga tidak signifikan Sampai disini, kalo kita merasionalkan menjadi skor penilaian kinerja Prabowo di food estate, maka dapat kita hitung dari lahan yang sudah dibabat yaitu sekitar 670 hektar dibandingkan dengan jagung polybag yg dipanen oleh Jokowi sekitar 4 hektare..atau didapat ÃƒÂ°Ã‚Â\\x9dÃ‚Â\\x90Ã‚Â¡ÃƒÂ°Ã‚Â\\x9dÃ‚Â\\x90Ã‚Å¡ÃƒÂ°Ã‚Â\\x9dÃ‚Â\\x90Ã‚Â§ÃƒÂ°Ã‚Â\\x9dÃ‚Â\\x90Ã‚Â²ÃƒÂ°Ã‚Â\\x9dÃ‚Â\\x90Ã‚Å¡ 0,69%.. jadi ÃƒÂ°Ã‚Â\\x9dÃ‚Â\\x90Ã‚Â¬ÃƒÂ°Ã‚Â\\x9dÃ‚Â\\x90Ã‚Å“ÃƒÂ°Ã‚Â\\x9dÃ‚Â\\x90Ã‚Â¨ÃƒÂ°Ã‚Â\\x9dÃ‚Â\\x90Ã‚Â«ÃƒÂ°Ã‚Â\\x9dÃ‚Â\\x90Ã‚Å¾ ÃƒÂ°Ã‚Â\\x9dÃ‚Â\\x90Ã‚Â\\x8fÃƒÂ°Ã‚Â\\x9dÃ‚Â\\x90Ã‚Â«ÃƒÂ°Ã‚Â\\x9dÃ‚Â\\x90Ã‚Å¡ÃƒÂ°Ã‚Â\\x9dÃ‚Â\\x90Ã‚â€ºÃƒÂ°Ã‚Â\\x9dÃ‚Â\\x90Ã‚Â¨ÃƒÂ°Ã‚Â\\x9dÃ‚Â\\x90Ã‚Â°ÃƒÂ°Ã‚Â\\x9dÃ‚Â\\x90Ã‚Â¨ ÃƒÂ°Ã‚Â\\x9dÃ‚Â\\x90Ã‚Â®ÃƒÂ°Ã‚Â\\x9dÃ‚Â\\x90Ã‚Â§ÃƒÂ°Ã‚Â\\x9dÃ‚Â\\x90Ã‚Â\\xadÃƒÂ°Ã‚Â\\x9dÃ‚Â\\x90Ã‚Â®ÃƒÂ°Ã‚Â\\x9dÃ‚Â\\x90Ã‚Â¤ ÃƒÂ°Ã‚Â\\x9dÃ‚Â\\x90Ã‚Å¸ÃƒÂ°Ã‚Â\\x9dÃ‚Â\\x90Ã‚Â¨ÃƒÂ°Ã‚Â\\x9dÃ‚Â\\x90Ã‚Â¨ÃƒÂ°Ã‚Â\\x9dÃ‚Â\\x90Ã‚Â\\x9d ÃƒÂ°Ã‚Â\\x9dÃ‚Â\\x90Ã‚Å¾ÃƒÂ°Ã‚Â\\x9dÃ‚Â\\x90Ã‚Â¬ÃƒÂ°Ã‚Â\\x9dÃ‚Â\\x90Ã‚Â\\xadÃƒÂ°Ã‚Â\\x9dÃ‚Â\\x90Ã‚Å¡ÃƒÂ°Ã‚Â\\x9dÃ‚Â\\x90Ã‚Â\\xadÃƒÂ°Ã‚Â\\x9dÃ‚Â\\x90Ã‚Å¾ ÃƒÂ°Ã‚Â\\x9dÃ‚Â\\x90Ã‚Å¡ÃƒÂ°Ã‚Â\\x9dÃ‚Â\\x90Ã‚Â\\x9dÃƒÂ°Ã‚Â\\x9dÃ‚Â\\x90Ã‚Å¡ÃƒÂ°Ã‚Â\\x9dÃ‚Â\\x90Ã‚Â¥ÃƒÂ°Ã‚Â\\x9dÃ‚Â\\x90Ã‚Å¡ÃƒÂ°Ã‚Â\\x9dÃ‚Â\\x90Ã‚Â¡ 0,7 ÃƒÂ°Ã‚Â\\x9dÃ‚Â\\x90Ã‚Â\\x9dÃƒÂ°Ã‚Â\\x9dÃ‚Â\\x90Ã‚Å¡ÃƒÂ°Ã‚Â\\x9dÃ‚Â\\x90Ã‚Â«ÃƒÂ°Ã‚Â\\x9dÃ‚Â\\x90Ã‚Â¢ 100, walaupun sudah dikatrol oleh jagung polybag..ÃƒÂ°Ã‚Â\\x9dÃ‚Â\\x90Ã‚Â§ÃƒÂ°Ã‚Â\\x9dÃ‚Â\\x90Ã‚Â¢ÃƒÂ°Ã‚Â\\x9dÃ‚Â\\x90Ã‚Â¥ÃƒÂ°Ã‚Â\\x9dÃ‚Â\\x90Ã‚Å¡ÃƒÂ°Ã‚Â\\x9dÃ‚Â\\x90Ã‚Â¢ ÃƒÂ°Ã‚Â\\x9dÃ‚Â\\x90Ã‚Â¢ÃƒÂ°Ã‚Â\\x9dÃ‚Â\\x90Ã‚Â§ÃƒÂ°Ã‚Â\\x9dÃ‚Â\\x90Ã‚Â¢ ÃƒÂ°Ã‚Â\\x9dÃ‚Â\\x90Ã‚Â£ÃƒÂ°Ã‚Â\\x9dÃ‚Â\\x90Ã‚Å¡ÃƒÂ°Ã‚Â\\x9dÃ‚Â\\x90Ã‚Â®ÃƒÂ°Ã‚Â\\x9dÃ‚Â\\x90Ã‚Â¡ ÃƒÂ°Ã‚Â\\x9dÃ‚Â\\x90Ã‚Â¥ÃƒÂ°Ã‚Â\\x9dÃ‚Â\\x90Ã‚Å¾ÃƒÂ°Ã‚Â\\x9dÃ‚Â\\x90Ã‚â€ºÃƒÂ°Ã‚Â\\x9dÃ‚Â\\x90Ã‚Â¢ÃƒÂ°Ã‚Â\\x9dÃ‚Â\\x90Ã‚Â¡ ÃƒÂ°Ã‚Â\\x9dÃ‚Â\\x90Ã‚Â«ÃƒÂ°Ã‚Â\\x9dÃ‚Â\\x90Ã‚Å¾ÃƒÂ°Ã‚Â\\x9dÃ‚Â\\x90Ã‚Â§ÃƒÂ°Ã‚Â\\x9dÃ‚Â\\x90Ã‚Â\\x9dÃƒÂ°Ã‚Â\\x9dÃ‚Â\\x90Ã‚Å¡ÃƒÂ°Ã‚Â\\x9dÃ‚Â\\x90Ã‚Â¡ ÃƒÂ°Ã‚Â\\x9dÃ‚Â\\x90Ã‚Â\\x9dÃƒÂ°Ã‚Â\\x9dÃ‚Â\\x90Ã‚Å¡ÃƒÂ°Ã‚Â\\x9dÃ‚Â\\x90Ã‚Â«ÃƒÂ°Ã‚Â\\x9dÃ‚Â\\x90Ã‚Â¢ ÃƒÂ°Ã‚Â\\x9dÃ‚Â\\x90Ã‚Â²ÃƒÂ°Ã‚Â\\x9dÃ‚Â\\x90Ã‚Å¡ÃƒÂ°Ã‚Â\\x9dÃ‚Â\\x90Ã‚Â§ÃƒÂ°Ã‚Â\\x9dÃ‚Â\\x90 ÃƒÂ°Ã‚Â\\x9dÃ‚Â\\x90Ã‚Â\\x9dÃƒÂ°Ã‚Â\\x9dÃ‚Â\\x90Ã‚Â¢ÃƒÂ°Ã‚Â\\x9dÃ‚Â\\x90Ã‚â€ºÃƒÂ°Ã‚Â\\x9dÃ‚Â\\x90Ã‚Å¾ÃƒÂ°Ã‚Â\\x9dÃ‚Â\\x90Ã‚Â«ÃƒÂ°Ã‚Â\\x9dÃ‚Â\\x90Ã‚Â¢ÃƒÂ°Ã‚Â\\x9dÃ‚Â\\x90Ã‚Â¤ÃƒÂ°Ã‚Â\\x9dÃ‚Â\\x90Ã‚Å¡ÃƒÂ°Ã‚Â\\x9dÃ‚Â\\x90Ã‚Â§ ÃƒÂ°Ã‚Â\\x9dÃ‚Â\\x90Ã‚Â©ÃƒÂ°Ã‚Â\\x9dÃ‚Â\\x90Ã‚Å¡ÃƒÂ°Ã‚Â\\x9dÃ‚Â\\x90Ã‚Â¤ ÃƒÂ°Ã‚Â\\x9dÃ‚Â\\x90Ã‚â‚¬ÃƒÂ°Ã‚Â\\x9dÃ‚Â\\x90Ã‚Â§ÃƒÂ°Ã‚Â\\x9dÃ‚Â\\x90Ã‚Â¢ÃƒÂ°Ã‚Â\\x9dÃ‚Â\\x90Ã‚Å¾ÃƒÂ°Ã‚Â\\x9dÃ‚Â\\x90Ã‚Â¬ ÃƒÂ°Ã‚Â\\x9dÃ‚Â\\x90Ã‚Â\\x81ÃƒÂ°Ã‚Â\\x9dÃ‚Â\\x90Ã‚Å¡ÃƒÂ°Ã‚Â\\x9dÃ‚Â\\x90Ã‚Â¬ÃƒÂ°Ã‚Â\\x9dÃ‚Â\\x90Ã‚Â°ÃƒÂ°Ã‚Â\\x9dÃ‚Â\\x90Ã‚Å¾ÃƒÂ°Ã‚Â\\x9dÃ‚Â\\x90Ã‚Â\\x9dÃƒÂ°Ã‚Â\\x9dÃ‚Â\\x90Ã‚Å¡ÃƒÂ°Ã‚Â\\x9dÃ‚Â\\x90Ã‚Â§.. sepertinya pak Anies Baswedan masih berbaik hati memberikan score 11 dari 100.. Tanam singkong tumbuh jagung 4 Triliun hilang siapa yg nanggung? Sudah diberi proyek untuk dijadikan panggung Hasilnya gak nendang karena kapasitas nanggung Eh, malah maksa ikut pemilu padahal gampang tersinggung Gimana @qYWT4Tlk4I9iu3k8KOBJrLI/6zhY/hvTZ0EzsS4nWpU= ? :) #PesanUntukAbah #AMINAjaDulu [RE HusodoYoga]',\n",
       "  'Politik',\n",
       "  6307),\n",
       " (2604,\n",
       "  'RT ÃƒÂ°Ã‚Â\\x9dÃ‚Â\\x90Ã‚â€™ÃƒÂ°Ã‚Â\\x9dÃ‚Â\\x90Ã‚Å“ÃƒÂ°Ã‚Â\\x9dÃ‚Â\\x90Ã‚Â¨ÃƒÂ°Ã‚Â\\x9dÃ‚Â\\x90Ã‚Â«ÃƒÂ°Ã‚Â\\x9dÃ‚Â\\x90Ã‚Å¾ ÃƒÂ°Ã‚Â\\x9dÃ‚Â\\x90Ã‚Â¤ÃƒÂ°Ã‚Â\\x9dÃ‚Â\\x90Ã‚Â¢ÃƒÂ°Ã‚Â\\x9dÃ‚Â\\x90Ã‚Â§ÃƒÂ°Ã‚Â\\x9dÃ‚Â\\x90Ã‚Å¾ÃƒÂ°Ã‚Â\\x9dÃ‚Â\\x90Ã‚Â«ÃƒÂ°Ã‚Â\\x9dÃ‚Â\\x90Ã‚Â£ÃƒÂ°Ã‚Â\\x9dÃ‚Â\\x90Ã‚Å¡ ÃƒÂ°Ã‚Â\\x9dÃ‚Â\\x90Ã‚Â©ÃƒÂ°Ã‚Â\\x9dÃ‚Â\\x90Ã‚Â«ÃƒÂ°Ã‚Â\\x9dÃ‚Â\\x90Ã‚Å¡ÃƒÂ°Ã‚Â\\x9dÃ‚Â\\x90Ã‚â€ºÃƒÂ°Ã‚Â\\x9dÃ‚Â\\x90Ã‚Â¨ÃƒÂ°Ã‚Â\\x9dÃ‚Â\\x90Ã‚Â°ÃƒÂ°Ã‚Â\\x9dÃ‚Â\\x90Ã‚Â¨ ÃƒÂ°Ã‚Â\\x9dÃ‚Â\\x90Ã‚Â\\x9dÃƒÂ°Ã‚Â\\x9dÃ‚Â\\x90Ã‚Â¢ ÃƒÂ°Ã‚Â\\x9dÃ‚Â\\x90Ã‚Å¸ÃƒÂ°Ã‚Â\\x9dÃ‚Â\\x90Ã‚Â¨ÃƒÂ°Ã‚Â\\x9dÃ‚Â\\x90Ã‚Â¨ÃƒÂ°Ã‚Â\\x9dÃ‚Â\\x90Ã‚Â\\x9d ÃƒÂ°Ã‚Â\\x9dÃ‚Â\\x90Ã‚Å¾ÃƒÂ°Ã‚Â\\x9dÃ‚Â\\x90Ã‚Â¬ÃƒÂ°Ã‚Â\\x9dÃ‚Â\\x90Ã‚Â\\xadÃƒÂ°Ã‚Â\\x9dÃ‚Â\\x90Ã‚Å¡ÃƒÂ°Ã‚Â\\x9dÃ‚Â\\x90Ã‚Â\\xadÃƒÂ°Ã‚Â\\x9dÃ‚Â\\x90Ã‚Å¾ 0,7 ÃƒÂ°Ã‚Â\\x9dÃ‚Â\\x90Ã‚Â\\x9dÃƒÂ°Ã‚Â\\x9dÃ‚Â\\x90Ã‚Å¡ÃƒÂ°Ã‚Â\\x9dÃ‚Â\\x90Ã‚Â«ÃƒÂ°Ã‚Â\\x9dÃ‚Â\\x90Ã‚Â¢ 100 Food estate mulai dicanangkan pada 3 tahun lalu, tepatnya pada 6 Juli 2020 ÃƒÂ°Ã‚Â\\x9dÃ‚Â\\x90Ã‚Â\\x8fÃƒÂ°Ã‚Â\\x9dÃ‚Â\\x90Ã‚Â«ÃƒÂ°Ã‚Â\\x9dÃ‚Â\\x90Ã‚Å¾ÃƒÂ°Ã‚Â\\x9dÃ‚Â\\x90Ã‚Â¬ÃƒÂ°Ã‚Â\\x9dÃ‚Â\\x90Ã‚Â¢ÃƒÂ°Ã‚Â\\x9dÃ‚Â\\x90Ã‚Â\\x9dÃƒÂ°Ã‚Â\\x9dÃ‚Â\\x90Ã‚Å¾ÃƒÂ°Ã‚Â\\x9dÃ‚Â\\x90Ã‚Â§ ÃƒÂ°Ã‚Â\\x9dÃ‚Â\\x90Ã‚Â¦ÃƒÂ°Ã‚Â\\x9dÃ‚Â\\x90Ã‚Å¾ÃƒÂ°Ã‚Â\\x9dÃ‚Â\\x90Ã‚Â§ÃƒÂ°Ã‚Â\\x9dÃ‚Â\\x90Ã‚Â®ÃƒÂ°Ã‚Â\\x9dÃ‚Â\\x90Ã‚Â§ÃƒÂ°Ã‚Â\\x9dÃ‚Â\\x90Ã‚Â£ÃƒÂ°Ã‚Â\\x9dÃ‚Â\\x90Ã‚Â®ÃƒÂ°Ã‚Â\\x9dÃ‚Â\\x90Ã‚Â¤ ÃƒÂ°Ã‚Â\\x9dÃ‚Â\\x90Ã‚Â\\x8fÃƒÂ°Ã‚Â\\x9dÃ‚Â\\x90Ã‚Â«ÃƒÂ°Ã‚Â\\x9dÃ‚Â\\x90Ã‚Å¡ÃƒÂ°Ã‚Â\\x9dÃ‚Â\\x90Ã‚â€ºÃƒÂ°Ã‚Â\\x9dÃ‚Â\\x90Ã‚Â¨ÃƒÂ°Ã‚Â\\x9dÃ‚Â\\x90Ã‚Â°ÃƒÂ°Ã‚Â\\x9dÃ‚Â\\x90Ã‚Â¨ ÃƒÂ°Ã‚Â\\x9dÃ‚Â\\x90Ã‚Â¬ÃƒÂ°Ã‚Â\\x9dÃ‚Â\\x90Ã‚Å¾ÃƒÂ°Ã‚Â\\x9dÃ‚Â\\x90Ã‚â€ºÃƒÂ°Ã‚Â\\x9dÃ‚Â\\x90Ã‚Å¡ÃƒÂ°Ã‚Â\\x9dÃ‚Â\\x90 ÃƒÂ°Ã‚Â\\x9dÃ‚Â\\x90Ã‚Å¡ÃƒÂ°Ã‚Â\\x9dÃ‚Â\\x90Ã‚Â¢ ÃƒÂ°Ã‚Â\\x9dÃ‚Â\\x90Ã‚Â¥ÃƒÂ°Ã‚Â\\x9dÃ‚Â\\x90Ã‚Å¾ÃƒÂ°Ã‚Â\\x9dÃ‚Â\\x90Ã‚Å¡ÃƒÂ°Ã‚Â\\x9dÃ‚Â\\x90Ã‚Â\\x9dÃƒÂ°Ã‚Â\\x9dÃ‚Â\\x90Ã‚Å¾ÃƒÂ°Ã‚Â\\x9dÃ‚Â\\x90Ã‚Â« ÃƒÂ°Ã‚Â\\x9dÃ‚Â\\x90Ã‚Â®ÃƒÂ°Ã‚Â\\x9dÃ‚Â\\x90Ã‚Â§ÃƒÂ°Ã‚Â\\x9dÃ‚Â\\x90Ã‚Â\\xadÃƒÂ°Ã‚Â\\x9dÃ‚Â\\x90Ã‚Â®ÃƒÂ°Ã‚Â\\x9dÃ‚Â\\x90Ã‚Â¤ ÃƒÂ°Ã‚Â\\x9dÃ‚Â\\x90Ã‚Â©ÃƒÂ°Ã‚Â\\x9dÃ‚Â\\x90Ã‚Â«ÃƒÂ°Ã‚Â\\x9dÃ‚Â\\x90Ã‚Â¨ÃƒÂ°Ã‚Â\\x9dÃ‚Â\\x90 ÃƒÂ°Ã‚Â\\x9dÃ‚Â\\x90Ã‚Â«ÃƒÂ°Ã‚Â\\x9dÃ‚Â\\x90Ã‚Å¡ÃƒÂ°Ã‚Â\\x9dÃ‚Â\\x90Ã‚Â¦ ÃƒÂ°Ã‚Â\\x9dÃ‚Â\\x90Ã‚Â¢ÃƒÂ°Ã‚Â\\x9dÃ‚Â\\x90Ã‚Â§ÃƒÂ°Ã‚Â\\x9dÃ‚Â\\x90Ã‚Â¢, dibantu oleh menteri PUPR dan menteri pertanian. Secara garis besar, food estate adalah program ekstensifikasi pertanian, membuka lahan yg besar dan mengubahnya menjadi lahan pertanian 2 bulan setelah dicanangkan, food estate mulai dikerjakan di Kalimantan tengah, yaitu daerah gunung emas, sedangkan PT yang terlibat dalam program ini berdasarkan penelusuran Tempo, adalah PT yang baru dibentuk 5 bulan sebelumnya yaitu PT Agrinas dimana susunan direksinya terdapat setidaknya 3 dari Gerindra dan banyak juga staff Agrinas merangkap sebagai pegawai kementerian pertahanan, ÃƒÂ°Ã‚Â\\x9dÃ‚Â\\x90Ã‚Â¦ÃƒÂ°Ã‚Â\\x9dÃ‚Â\\x90Ã‚Â®ÃƒÂ°Ã‚Â\\x9dÃ‚Â\\x90Ã‚Â§ÃƒÂ°Ã‚Â\\x9dÃ‚Â\\x90 ÃƒÂ°Ã‚Â\\x9dÃ‚Â\\x90Ã‚Â¤ÃƒÂ°Ã‚Â\\x9dÃ‚Â\\x90Ã‚Â¢ÃƒÂ°Ã‚Â\\x9dÃ‚Â\\x90Ã‚Â§ ÃƒÂ°Ã‚Â\\x9dÃ‚Â\\x90Ã‚Â¢ÃƒÂ°Ã‚Â\\x9dÃ‚Â\\x90Ã‚Â§ÃƒÂ°Ã‚Â\\x9dÃ‚Â\\x90Ã‚Â¢ ÃƒÂ°Ã‚Â\\x9dÃ‚Â\\x90Ã‚Â²ÃƒÂ°Ã‚Â\\x9dÃ‚Â\\x90Ã‚Å¡ÃƒÂ°Ã‚Â\\x9dÃ‚Â\\x90Ã‚Â§ÃƒÂ°Ã‚Â\\x9dÃ‚Â\\x90 ÃƒÂ°Ã‚Â\\x9dÃ‚Â\\x90Ã‚Â\\x9dÃƒÂ°Ã‚Â\\x9dÃ‚Â\\x90Ã‚Â¢ÃƒÂ°Ã‚Â\\x9dÃ‚Â\\x90Ã‚Â¦ÃƒÂ°Ã‚Â\\x9dÃ‚Â\\x90Ã‚Å¡ÃƒÂ°Ã‚Â\\x9dÃ‚Â\\x90Ã‚Â¤ÃƒÂ°Ã‚Â\\x9dÃ‚Â\\x90Ã‚Â¬ÃƒÂ°Ã‚Â\\x9dÃ‚Â\\x90Ã‚Â®ÃƒÂ°Ã‚Â\\x9dÃ‚Â\\x90Ã‚Â\\x9d ÃƒÂ°Ã‚Â\\x9dÃ‚Â\\x90Ã‚â‚¬ÃƒÂ°Ã‚Â\\x9dÃ‚Â\\x90Ã‚Â§ÃƒÂ°Ã‚Â\\x9dÃ‚Â\\x90Ã‚Â¢ÃƒÂ°Ã‚Â\\x9dÃ‚Â\\x90Ã‚Å¾ÃƒÂ°Ã‚Â\\x9dÃ‚Â\\x90Ã‚Â¬ ÃƒÂ°Ã‚Â\\x9dÃ‚Â\\x90Ã‚Â¬ÃƒÂ°Ã‚Â\\x9dÃ‚Â\\x90Ã‚Å¾ÃƒÂ°Ã‚Â\\x9dÃ‚Â\\x90Ã‚â€ºÃƒÂ°Ã‚Â\\x9dÃ‚Â\\x90Ã‚Å¡ÃƒÂ°Ã‚Â\\x9dÃ‚Â\\x90 ÃƒÂ°Ã‚Â\\x9dÃ‚Â\\x90Ã‚Å¡ÃƒÂ°Ã‚Â\\x9dÃ‚Â\\x90Ã‚Â¢ ÃƒÂ°Ã‚Â\\x9dÃ‚Â\\x90Ã‚Â¨ÃƒÂ°Ã‚Â\\x9dÃ‚Â\\x90Ã‚Â«ÃƒÂ°Ã‚Â\\x9dÃ‚Â\\x90Ã‚Å¡ÃƒÂ°Ã‚Â\\x9dÃ‚Â\\x90Ã‚Â§ÃƒÂ°Ã‚Â\\x9dÃ‚Â\\x90 ÃƒÂ°Ã‚Â\\x9dÃ‚Â\\x90Ã‚Â\\x9dÃƒÂ°Ã‚Â\\x9dÃ‚Â\\x90Ã‚Å¡ÃƒÂ°Ã‚Â\\x9dÃ‚Â\\x90Ã‚Â¥ÃƒÂ°Ã‚Â\\x9dÃ‚Â\\x90Ã‚Å¡ÃƒÂ°Ã‚Â\\x9dÃ‚Â\\x90Ã‚Â¦ di food estate Food estate berencana untuk membuka 6 ribu hektar hutan hujan tropis, tepat 4 bulan setelah dicanangkan, beberapa anggota TNI terlibat dalam pembabatan hutan, dimana hutan yang sudah dibuka saat itu sekitar 670 hektar, dan karena itu adalah hutan tentunya banyak kayu yg dihasilkan, kemanakah kayu2 tersebut? Tiada yang tahu dan tiada yg mengerti Awalnya food estate menanam singkong pada bekas hutan tersebut, namun karena tanahnya berpasir, singkong tak kunjung tumbuh dalam kurun waktu 3 tahun, sehingga untuk menutupi kegagalan tersebut didatangkanlah jagung dalam polibag untuk 3-4 hektare lahan tersebut, dan itupun hasilnya juga tidak memuaskan Dari sisi anggaran, food estate masuk dalam kategori PSN, dimana anggaran yg dihabiskan 2021-2022 sekitar 1,5 triliun, di 2023 ada anggaran sekitar 2,4 triliun dan nanti di 2024 dianggarkan 2,56 triliun.. Jokowi sendiri mengatakan anggaran yang dibutuhkan sekitar 108 triliun.. mengingat menurut laporan PPATK 36% masuk ke kantong ASN dan politisi.. maka 38 triliun bisa masuk ke kantong mereka.. apalagi kalo pelaksananya orang dalam.. pasti akan lebih luar biasa.. dan apa hasilnya setelah 3 tahun berjalan? Bisa dibilang 0 besar karena panen jagungnya juga tidak signifikan Sampai disini, kalo kita merasionalkan menjadi skor penilaian kinerja Prabowo di food estate, maka dapat kita hitung dari lahan yang sudah dibabat yaitu sekitar 670 hektar dibandingkan dengan jagung polybag yg dipanen oleh Jokowi sekitar 4 hektare..atau didapat ÃƒÂ°Ã‚Â\\x9dÃ‚Â\\x90Ã‚Â¡ÃƒÂ°Ã‚Â\\x9dÃ‚Â\\x90Ã‚Å¡ÃƒÂ°Ã‚Â\\x9dÃ‚Â\\x90Ã‚Â§ÃƒÂ°Ã‚Â\\x9dÃ‚Â\\x90Ã‚Â²ÃƒÂ°Ã‚Â\\x9dÃ‚Â\\x90Ã‚Å¡ 0,69%.. jadi ÃƒÂ°Ã‚Â\\x9dÃ‚Â\\x90Ã‚Â¬ÃƒÂ°Ã‚Â\\x9dÃ‚Â\\x90Ã‚Å“ÃƒÂ°Ã‚Â\\x9dÃ‚Â\\x90Ã‚Â¨ÃƒÂ°Ã‚Â\\x9dÃ‚Â\\x90Ã‚Â«ÃƒÂ°Ã‚Â\\x9dÃ‚Â\\x90Ã‚Å¾ ÃƒÂ°Ã‚Â\\x9dÃ‚Â\\x90Ã‚Â\\x8fÃƒÂ°Ã‚Â\\x9dÃ‚Â\\x90Ã‚Â«ÃƒÂ°Ã‚Â\\x9dÃ‚Â\\x90Ã‚Å¡ÃƒÂ°Ã‚Â\\x9dÃ‚Â\\x90Ã‚â€ºÃƒÂ°Ã‚Â\\x9dÃ‚Â\\x90Ã‚Â¨ÃƒÂ°Ã‚Â\\x9dÃ‚Â\\x90Ã‚Â°ÃƒÂ°Ã‚Â\\x9dÃ‚Â\\x90Ã‚Â¨ ÃƒÂ°Ã‚Â\\x9dÃ‚Â\\x90Ã‚Â®ÃƒÂ°Ã‚Â\\x9dÃ‚Â\\x90Ã‚Â§ÃƒÂ°Ã‚Â\\x9dÃ‚Â\\x90Ã‚Â\\xadÃƒÂ°Ã‚Â\\x9dÃ‚Â\\x90Ã‚Â®ÃƒÂ°Ã‚Â\\x9dÃ‚Â\\x90Ã‚Â¤ ÃƒÂ°Ã‚Â\\x9dÃ‚Â\\x90Ã‚Å¸ÃƒÂ°Ã‚Â\\x9dÃ‚Â\\x90Ã‚Â¨ÃƒÂ°Ã‚Â\\x9dÃ‚Â\\x90Ã‚Â¨ÃƒÂ°Ã‚Â\\x9dÃ‚Â\\x90Ã‚Â\\x9d ÃƒÂ°Ã‚Â\\x9dÃ‚Â\\x90Ã‚Å¾ÃƒÂ°Ã‚Â\\x9dÃ‚Â\\x90Ã‚Â¬ÃƒÂ°Ã‚Â\\x9dÃ‚Â\\x90Ã‚Â\\xadÃƒÂ°Ã‚Â\\x9dÃ‚Â\\x90Ã‚Å¡ÃƒÂ°Ã‚Â\\x9dÃ‚Â\\x90Ã‚Â\\xadÃƒÂ°Ã‚Â\\x9dÃ‚Â\\x90Ã‚Å¾ ÃƒÂ°Ã‚Â\\x9dÃ‚Â\\x90Ã‚Å¡ÃƒÂ°Ã‚Â\\x9dÃ‚Â\\x90Ã‚Â\\x9dÃƒÂ°Ã‚Â\\x9dÃ‚Â\\x90Ã‚Å¡ÃƒÂ°Ã‚Â\\x9dÃ‚Â\\x90Ã‚Â¥ÃƒÂ°Ã‚Â\\x9dÃ‚Â\\x90Ã‚Å¡ÃƒÂ°Ã‚Â\\x9dÃ‚Â\\x90Ã‚Â¡ 0,7 ÃƒÂ°Ã‚Â\\x9dÃ‚Â\\x90Ã‚Â\\x9dÃƒÂ°Ã‚Â\\x9dÃ‚Â\\x90Ã‚Å¡ÃƒÂ°Ã‚Â\\x9dÃ‚Â\\x90Ã‚Â«ÃƒÂ°Ã‚Â\\x9dÃ‚Â\\x90Ã‚Â¢ 100, walaupun sudah dikatrol oleh jagung polybag..ÃƒÂ°Ã‚Â\\x9dÃ‚Â\\x90Ã‚Â§ÃƒÂ°Ã‚Â\\x9dÃ‚Â\\x90Ã‚Â¢ÃƒÂ°Ã‚Â\\x9dÃ‚Â\\x90Ã‚Â¥ÃƒÂ°Ã‚Â\\x9dÃ‚Â\\x90Ã‚Å¡ÃƒÂ°Ã‚Â\\x9dÃ‚Â\\x90Ã‚Â¢ ÃƒÂ°Ã‚Â\\x9dÃ‚Â\\x90Ã‚Â¢ÃƒÂ°Ã‚Â\\x9dÃ‚Â\\x90Ã‚Â§ÃƒÂ°Ã‚Â\\x9dÃ‚Â\\x90Ã‚Â¢ ÃƒÂ°Ã‚Â\\x9dÃ‚Â\\x90Ã‚Â£ÃƒÂ°Ã‚Â\\x9dÃ‚Â\\x90Ã‚Å¡ÃƒÂ°Ã‚Â\\x9dÃ‚Â\\x90Ã‚Â®ÃƒÂ°Ã‚Â\\x9dÃ‚Â\\x90Ã‚Â¡ ÃƒÂ°Ã‚Â\\x9dÃ‚Â\\x90Ã‚Â¥ÃƒÂ°Ã‚Â\\x9dÃ‚Â\\x90Ã‚Å¾ÃƒÂ°Ã‚Â\\x9dÃ‚Â\\x90Ã‚â€ºÃƒÂ°Ã‚Â\\x9dÃ‚Â\\x90Ã‚Â¢ÃƒÂ°Ã‚Â\\x9dÃ‚Â\\x90Ã‚Â¡ ÃƒÂ°Ã‚Â\\x9dÃ‚Â\\x90Ã‚Â«ÃƒÂ°Ã‚Â\\x9dÃ‚Â\\x90Ã‚Å¾ÃƒÂ°Ã‚Â\\x9dÃ‚Â\\x90Ã‚Â§ÃƒÂ°Ã‚Â\\x9dÃ‚Â\\x90Ã‚Â\\x9dÃƒÂ°Ã‚Â\\x9dÃ‚Â\\x90Ã‚Å¡ÃƒÂ°Ã‚Â\\x9dÃ‚Â\\x90Ã‚Â¡ ÃƒÂ°Ã‚Â\\x9dÃ‚Â\\x90Ã‚Â\\x9dÃƒÂ°Ã‚Â\\x9dÃ‚Â\\x90Ã‚Å¡ÃƒÂ°Ã‚Â\\x9dÃ‚Â\\x90Ã‚Â«ÃƒÂ°Ã‚Â\\x9dÃ‚Â\\x90Ã‚Â¢ ÃƒÂ°Ã‚Â\\x9dÃ‚Â\\x90Ã‚Â²ÃƒÂ°Ã‚Â\\x9dÃ‚Â\\x90Ã‚Å¡ÃƒÂ°Ã‚Â\\x9dÃ‚Â\\x90Ã‚Â§ÃƒÂ°Ã‚Â\\x9dÃ‚Â\\x90 ÃƒÂ°Ã‚Â\\x9dÃ‚Â\\x90Ã‚Â\\x9dÃƒÂ°Ã‚Â\\x9dÃ‚Â\\x90Ã‚Â¢ÃƒÂ°Ã‚Â\\x9dÃ‚Â\\x90Ã‚â€ºÃƒÂ°Ã‚Â\\x9dÃ‚Â\\x90Ã‚Å¾ÃƒÂ°Ã‚Â\\x9dÃ‚Â\\x90Ã‚Â«ÃƒÂ°Ã‚Â\\x9dÃ‚Â\\x90Ã‚Â¢ÃƒÂ°Ã‚Â\\x9dÃ‚Â\\x90Ã‚Â¤ÃƒÂ°Ã‚Â\\x9dÃ‚Â\\x90Ã‚Å¡ÃƒÂ°Ã‚Â\\x9dÃ‚Â\\x90Ã‚Â§ ÃƒÂ°Ã‚Â\\x9dÃ‚Â\\x90Ã‚Â©ÃƒÂ°Ã‚Â\\x9dÃ‚Â\\x90Ã‚Å¡ÃƒÂ°Ã‚Â\\x9dÃ‚Â\\x90Ã‚Â¤ ÃƒÂ°Ã‚Â\\x9dÃ‚Â\\x90Ã‚â‚¬ÃƒÂ°Ã‚Â\\x9dÃ‚Â\\x90Ã‚Â§ÃƒÂ°Ã‚Â\\x9dÃ‚Â\\x90Ã‚Â¢ÃƒÂ°Ã‚Â\\x9dÃ‚Â\\x90Ã‚Å¾ÃƒÂ°Ã‚Â\\x9dÃ‚Â\\x90Ã‚Â¬ ÃƒÂ°Ã‚Â\\x9dÃ‚Â\\x90Ã‚Â\\x81ÃƒÂ°Ã‚Â\\x9dÃ‚Â\\x90Ã‚Å¡ÃƒÂ°Ã‚Â\\x9dÃ‚Â\\x90Ã‚Â¬ÃƒÂ°Ã‚Â\\x9dÃ‚Â\\x90Ã‚Â°ÃƒÂ°Ã‚Â\\x9dÃ‚Â\\x90Ã‚Å¾ÃƒÂ°Ã‚Â\\x9dÃ‚Â\\x90Ã‚Â\\x9dÃƒÂ°Ã‚Â\\x9dÃ‚Â\\x90Ã‚Å¡ÃƒÂ°Ã‚Â\\x9dÃ‚Â\\x90Ã‚Â§.. sepertinya pak Anies Baswedan masih berbaik hati memberikan score 11 dari 100.. Tanam singkong tumbuh jagung 4 Triliun hilang siapa yg nanggung? Sudah diberi proyek untuk dijadikan panggung Hasilnya gak nendang karena kapasitas nanggung Eh, malah maksa ikut pemilu padahal gampang tersinggung Gimana @7+g48/TncX0eZRZGicZoQ3knXz6iCmDgMrADI4NB+D0= ? :) #PesanUntukAbah #AMINAjaDulu [RE HusodoYoga]',\n",
       "  'Ekonomi',\n",
       "  6307),\n",
       " (3186,\n",
       "  'RT ÃƒÂ°Ã‚Â\\x9dÃ‚Â\\x90Ã‚â€™ÃƒÂ°Ã‚Â\\x9dÃ‚Â\\x90Ã‚Å“ÃƒÂ°Ã‚Â\\x9dÃ‚Â\\x90Ã‚Â¨ÃƒÂ°Ã‚Â\\x9dÃ‚Â\\x90Ã‚Â«ÃƒÂ°Ã‚Â\\x9dÃ‚Â\\x90Ã‚Å¾ ÃƒÂ°Ã‚Â\\x9dÃ‚Â\\x90Ã‚Â¤ÃƒÂ°Ã‚Â\\x9dÃ‚Â\\x90Ã‚Â¢ÃƒÂ°Ã‚Â\\x9dÃ‚Â\\x90Ã‚Â§ÃƒÂ°Ã‚Â\\x9dÃ‚Â\\x90Ã‚Å¾ÃƒÂ°Ã‚Â\\x9dÃ‚Â\\x90Ã‚Â«ÃƒÂ°Ã‚Â\\x9dÃ‚Â\\x90Ã‚Â£ÃƒÂ°Ã‚Â\\x9dÃ‚Â\\x90Ã‚Å¡ ÃƒÂ°Ã‚Â\\x9dÃ‚Â\\x90Ã‚Â©ÃƒÂ°Ã‚Â\\x9dÃ‚Â\\x90Ã‚Â«ÃƒÂ°Ã‚Â\\x9dÃ‚Â\\x90Ã‚Å¡ÃƒÂ°Ã‚Â\\x9dÃ‚Â\\x90Ã‚â€ºÃƒÂ°Ã‚Â\\x9dÃ‚Â\\x90Ã‚Â¨ÃƒÂ°Ã‚Â\\x9dÃ‚Â\\x90Ã‚Â°ÃƒÂ°Ã‚Â\\x9dÃ‚Â\\x90Ã‚Â¨ ÃƒÂ°Ã‚Â\\x9dÃ‚Â\\x90Ã‚Â\\x9dÃƒÂ°Ã‚Â\\x9dÃ‚Â\\x90Ã‚Â¢ ÃƒÂ°Ã‚Â\\x9dÃ‚Â\\x90Ã‚Å¸ÃƒÂ°Ã‚Â\\x9dÃ‚Â\\x90Ã‚Â¨ÃƒÂ°Ã‚Â\\x9dÃ‚Â\\x90Ã‚Â¨ÃƒÂ°Ã‚Â\\x9dÃ‚Â\\x90Ã‚Â\\x9d ÃƒÂ°Ã‚Â\\x9dÃ‚Â\\x90Ã‚Å¾ÃƒÂ°Ã‚Â\\x9dÃ‚Â\\x90Ã‚Â¬ÃƒÂ°Ã‚Â\\x9dÃ‚Â\\x90Ã‚Â\\xadÃƒÂ°Ã‚Â\\x9dÃ‚Â\\x90Ã‚Å¡ÃƒÂ°Ã‚Â\\x9dÃ‚Â\\x90Ã‚Â\\xadÃƒÂ°Ã‚Â\\x9dÃ‚Â\\x90Ã‚Å¾ 0,7 ÃƒÂ°Ã‚Â\\x9dÃ‚Â\\x90Ã‚Â\\x9dÃƒÂ°Ã‚Â\\x9dÃ‚Â\\x90Ã‚Å¡ÃƒÂ°Ã‚Â\\x9dÃ‚Â\\x90Ã‚Â«ÃƒÂ°Ã‚Â\\x9dÃ‚Â\\x90Ã‚Â¢ 100 Food estate mulai dicanangkan pada 3 tahun lalu, tepatnya pada 6 Juli 2020 ÃƒÂ°Ã‚Â\\x9dÃ‚Â\\x90Ã‚Â\\x8fÃƒÂ°Ã‚Â\\x9dÃ‚Â\\x90Ã‚Â«ÃƒÂ°Ã‚Â\\x9dÃ‚Â\\x90Ã‚Å¾ÃƒÂ°Ã‚Â\\x9dÃ‚Â\\x90Ã‚Â¬ÃƒÂ°Ã‚Â\\x9dÃ‚Â\\x90Ã‚Â¢ÃƒÂ°Ã‚Â\\x9dÃ‚Â\\x90Ã‚Â\\x9dÃƒÂ°Ã‚Â\\x9dÃ‚Â\\x90Ã‚Å¾ÃƒÂ°Ã‚Â\\x9dÃ‚Â\\x90Ã‚Â§ ÃƒÂ°Ã‚Â\\x9dÃ‚Â\\x90Ã‚Â¦ÃƒÂ°Ã‚Â\\x9dÃ‚Â\\x90Ã‚Å¾ÃƒÂ°Ã‚Â\\x9dÃ‚Â\\x90Ã‚Â§ÃƒÂ°Ã‚Â\\x9dÃ‚Â\\x90Ã‚Â®ÃƒÂ°Ã‚Â\\x9dÃ‚Â\\x90Ã‚Â§ÃƒÂ°Ã‚Â\\x9dÃ‚Â\\x90Ã‚Â£ÃƒÂ°Ã‚Â\\x9dÃ‚Â\\x90Ã‚Â®ÃƒÂ°Ã‚Â\\x9dÃ‚Â\\x90Ã‚Â¤ ÃƒÂ°Ã‚Â\\x9dÃ‚Â\\x90Ã‚Â\\x8fÃƒÂ°Ã‚Â\\x9dÃ‚Â\\x90Ã‚Â«ÃƒÂ°Ã‚Â\\x9dÃ‚Â\\x90Ã‚Å¡ÃƒÂ°Ã‚Â\\x9dÃ‚Â\\x90Ã‚â€ºÃƒÂ°Ã‚Â\\x9dÃ‚Â\\x90Ã‚Â¨ÃƒÂ°Ã‚Â\\x9dÃ‚Â\\x90Ã‚Â°ÃƒÂ°Ã‚Â\\x9dÃ‚Â\\x90Ã‚Â¨ ÃƒÂ°Ã‚Â\\x9dÃ‚Â\\x90Ã‚Â¬ÃƒÂ°Ã‚Â\\x9dÃ‚Â\\x90Ã‚Å¾ÃƒÂ°Ã‚Â\\x9dÃ‚Â\\x90Ã‚â€ºÃƒÂ°Ã‚Â\\x9dÃ‚Â\\x90Ã‚Å¡ÃƒÂ°Ã‚Â\\x9dÃ‚Â\\x90 ÃƒÂ°Ã‚Â\\x9dÃ‚Â\\x90Ã‚Å¡ÃƒÂ°Ã‚Â\\x9dÃ‚Â\\x90Ã‚Â¢ ÃƒÂ°Ã‚Â\\x9dÃ‚Â\\x90Ã‚Â¥ÃƒÂ°Ã‚Â\\x9dÃ‚Â\\x90Ã‚Å¾ÃƒÂ°Ã‚Â\\x9dÃ‚Â\\x90Ã‚Å¡ÃƒÂ°Ã‚Â\\x9dÃ‚Â\\x90Ã‚Â\\x9dÃƒÂ°Ã‚Â\\x9dÃ‚Â\\x90Ã‚Å¾ÃƒÂ°Ã‚Â\\x9dÃ‚Â\\x90Ã‚Â« ÃƒÂ°Ã‚Â\\x9dÃ‚Â\\x90Ã‚Â®ÃƒÂ°Ã‚Â\\x9dÃ‚Â\\x90Ã‚Â§ÃƒÂ°Ã‚Â\\x9dÃ‚Â\\x90Ã‚Â\\xadÃƒÂ°Ã‚Â\\x9dÃ‚Â\\x90Ã‚Â®ÃƒÂ°Ã‚Â\\x9dÃ‚Â\\x90Ã‚Â¤ ÃƒÂ°Ã‚Â\\x9dÃ‚Â\\x90Ã‚Â©ÃƒÂ°Ã‚Â\\x9dÃ‚Â\\x90Ã‚Â«ÃƒÂ°Ã‚Â\\x9dÃ‚Â\\x90Ã‚Â¨ÃƒÂ°Ã‚Â\\x9dÃ‚Â\\x90 ÃƒÂ°Ã‚Â\\x9dÃ‚Â\\x90Ã‚Â«ÃƒÂ°Ã‚Â\\x9dÃ‚Â\\x90Ã‚Å¡ÃƒÂ°Ã‚Â\\x9dÃ‚Â\\x90Ã‚Â¦ ÃƒÂ°Ã‚Â\\x9dÃ‚Â\\x90Ã‚Â¢ÃƒÂ°Ã‚Â\\x9dÃ‚Â\\x90Ã‚Â§ÃƒÂ°Ã‚Â\\x9dÃ‚Â\\x90Ã‚Â¢, dibantu oleh menteri PUPR dan menteri pertanian. Secara garis besar, food estate adalah program ekstensifikasi pertanian, membuka lahan yg besar dan mengubahnya menjadi lahan pertanian 2 bulan setelah dicanangkan, food estate mulai dikerjakan di Kalimantan tengah, yaitu daerah gunung emas, sedangkan PT yang terlibat dalam program ini berdasarkan penelusuran Tempo, adalah PT yang baru dibentuk 5 bulan sebelumnya yaitu PT Agrinas dimana susunan direksinya terdapat setidaknya 3 dari Gerindra dan banyak juga staff Agrinas merangkap sebagai pegawai kementerian pertahanan, ÃƒÂ°Ã‚Â\\x9dÃ‚Â\\x90Ã‚Â¦ÃƒÂ°Ã‚Â\\x9dÃ‚Â\\x90Ã‚Â®ÃƒÂ°Ã‚Â\\x9dÃ‚Â\\x90Ã‚Â§ÃƒÂ°Ã‚Â\\x9dÃ‚Â\\x90 ÃƒÂ°Ã‚Â\\x9dÃ‚Â\\x90Ã‚Â¤ÃƒÂ°Ã‚Â\\x9dÃ‚Â\\x90Ã‚Â¢ÃƒÂ°Ã‚Â\\x9dÃ‚Â\\x90Ã‚Â§ ÃƒÂ°Ã‚Â\\x9dÃ‚Â\\x90Ã‚Â¢ÃƒÂ°Ã‚Â\\x9dÃ‚Â\\x90Ã‚Â§ÃƒÂ°Ã‚Â\\x9dÃ‚Â\\x90Ã‚Â¢ ÃƒÂ°Ã‚Â\\x9dÃ‚Â\\x90Ã‚Â²ÃƒÂ°Ã‚Â\\x9dÃ‚Â\\x90Ã‚Å¡ÃƒÂ°Ã‚Â\\x9dÃ‚Â\\x90Ã‚Â§ÃƒÂ°Ã‚Â\\x9dÃ‚Â\\x90 ÃƒÂ°Ã‚Â\\x9dÃ‚Â\\x90Ã‚Â\\x9dÃƒÂ°Ã‚Â\\x9dÃ‚Â\\x90Ã‚Â¢ÃƒÂ°Ã‚Â\\x9dÃ‚Â\\x90Ã‚Â¦ÃƒÂ°Ã‚Â\\x9dÃ‚Â\\x90Ã‚Å¡ÃƒÂ°Ã‚Â\\x9dÃ‚Â\\x90Ã‚Â¤ÃƒÂ°Ã‚Â\\x9dÃ‚Â\\x90Ã‚Â¬ÃƒÂ°Ã‚Â\\x9dÃ‚Â\\x90Ã‚Â®ÃƒÂ°Ã‚Â\\x9dÃ‚Â\\x90Ã‚Â\\x9d ÃƒÂ°Ã‚Â\\x9dÃ‚Â\\x90Ã‚â‚¬ÃƒÂ°Ã‚Â\\x9dÃ‚Â\\x90Ã‚Â§ÃƒÂ°Ã‚Â\\x9dÃ‚Â\\x90Ã‚Â¢ÃƒÂ°Ã‚Â\\x9dÃ‚Â\\x90Ã‚Å¾ÃƒÂ°Ã‚Â\\x9dÃ‚Â\\x90Ã‚Â¬ ÃƒÂ°Ã‚Â\\x9dÃ‚Â\\x90Ã‚Â¬ÃƒÂ°Ã‚Â\\x9dÃ‚Â\\x90Ã‚Å¾ÃƒÂ°Ã‚Â\\x9dÃ‚Â\\x90Ã‚â€ºÃƒÂ°Ã‚Â\\x9dÃ‚Â\\x90Ã‚Å¡ÃƒÂ°Ã‚Â\\x9dÃ‚Â\\x90 ÃƒÂ°Ã‚Â\\x9dÃ‚Â\\x90Ã‚Å¡ÃƒÂ°Ã‚Â\\x9dÃ‚Â\\x90Ã‚Â¢ ÃƒÂ°Ã‚Â\\x9dÃ‚Â\\x90Ã‚Â¨ÃƒÂ°Ã‚Â\\x9dÃ‚Â\\x90Ã‚Â«ÃƒÂ°Ã‚Â\\x9dÃ‚Â\\x90Ã‚Å¡ÃƒÂ°Ã‚Â\\x9dÃ‚Â\\x90Ã‚Â§ÃƒÂ°Ã‚Â\\x9dÃ‚Â\\x90 ÃƒÂ°Ã‚Â\\x9dÃ‚Â\\x90Ã‚Â\\x9dÃƒÂ°Ã‚Â\\x9dÃ‚Â\\x90Ã‚Å¡ÃƒÂ°Ã‚Â\\x9dÃ‚Â\\x90Ã‚Â¥ÃƒÂ°Ã‚Â\\x9dÃ‚Â\\x90Ã‚Å¡ÃƒÂ°Ã‚Â\\x9dÃ‚Â\\x90Ã‚Â¦ di food estate Food estate berencana untuk membuka 6 ribu hektar hutan hujan tropis, tepat 4 bulan setelah dicanangkan, beberapa anggota TNI terlibat dalam pembabatan hutan, dimana hutan yang sudah dibuka saat itu sekitar 670 hektar, dan karena itu adalah hutan tentunya banyak kayu yg dihasilkan, kemanakah kayu2 tersebut? Tiada yang tahu dan tiada yg mengerti Awalnya food estate menanam singkong pada bekas hutan tersebut, namun karena tanahnya berpasir, singkong tak kunjung tumbuh dalam kurun waktu 3 tahun, sehingga untuk menutupi kegagalan tersebut didatangkanlah jagung dalam polibag untuk 3-4 hektare lahan tersebut, dan itupun hasilnya juga tidak memuaskan Dari sisi anggaran, food estate masuk dalam kategori PSN, dimana anggaran yg dihabiskan 2021-2022 sekitar 1,5 triliun, di 2023 ada anggaran sekitar 2,4 triliun dan nanti di 2024 dianggarkan 2,56 triliun.. Jokowi sendiri mengatakan anggaran yang dibutuhkan sekitar 108 triliun.. mengingat menurut laporan PPATK 36% masuk ke kantong ASN dan politisi.. maka 38 triliun bisa masuk ke kantong mereka.. apalagi kalo pelaksananya orang dalam.. pasti akan lebih luar biasa.. dan apa hasilnya setelah 3 tahun berjalan? Bisa dibilang 0 besar karena panen jagungnya juga tidak signifikan Sampai disini, kalo kita merasionalkan menjadi skor penilaian kinerja Prabowo di food estate, maka dapat kita hitung dari lahan yang sudah dibabat yaitu sekitar 670 hektar dibandingkan dengan jagung polybag yg dipanen oleh Jokowi sekitar 4 hektare..atau didapat ÃƒÂ°Ã‚Â\\x9dÃ‚Â\\x90Ã‚Â¡ÃƒÂ°Ã‚Â\\x9dÃ‚Â\\x90Ã‚Å¡ÃƒÂ°Ã‚Â\\x9dÃ‚Â\\x90Ã‚Â§ÃƒÂ°Ã‚Â\\x9dÃ‚Â\\x90Ã‚Â²ÃƒÂ°Ã‚Â\\x9dÃ‚Â\\x90Ã‚Å¡ 0,69%.. jadi ÃƒÂ°Ã‚Â\\x9dÃ‚Â\\x90Ã‚Â¬ÃƒÂ°Ã‚Â\\x9dÃ‚Â\\x90Ã‚Å“ÃƒÂ°Ã‚Â\\x9dÃ‚Â\\x90Ã‚Â¨ÃƒÂ°Ã‚Â\\x9dÃ‚Â\\x90Ã‚Â«ÃƒÂ°Ã‚Â\\x9dÃ‚Â\\x90Ã‚Å¾ ÃƒÂ°Ã‚Â\\x9dÃ‚Â\\x90Ã‚Â\\x8fÃƒÂ°Ã‚Â\\x9dÃ‚Â\\x90Ã‚Â«ÃƒÂ°Ã‚Â\\x9dÃ‚Â\\x90Ã‚Å¡ÃƒÂ°Ã‚Â\\x9dÃ‚Â\\x90Ã‚â€ºÃƒÂ°Ã‚Â\\x9dÃ‚Â\\x90Ã‚Â¨ÃƒÂ°Ã‚Â\\x9dÃ‚Â\\x90Ã‚Â°ÃƒÂ°Ã‚Â\\x9dÃ‚Â\\x90Ã‚Â¨ ÃƒÂ°Ã‚Â\\x9dÃ‚Â\\x90Ã‚Â®ÃƒÂ°Ã‚Â\\x9dÃ‚Â\\x90Ã‚Â§ÃƒÂ°Ã‚Â\\x9dÃ‚Â\\x90Ã‚Â\\xadÃƒÂ°Ã‚Â\\x9dÃ‚Â\\x90Ã‚Â®ÃƒÂ°Ã‚Â\\x9dÃ‚Â\\x90Ã‚Â¤ ÃƒÂ°Ã‚Â\\x9dÃ‚Â\\x90Ã‚Å¸ÃƒÂ°Ã‚Â\\x9dÃ‚Â\\x90Ã‚Â¨ÃƒÂ°Ã‚Â\\x9dÃ‚Â\\x90Ã‚Â¨ÃƒÂ°Ã‚Â\\x9dÃ‚Â\\x90Ã‚Â\\x9d ÃƒÂ°Ã‚Â\\x9dÃ‚Â\\x90Ã‚Å¾ÃƒÂ°Ã‚Â\\x9dÃ‚Â\\x90Ã‚Â¬ÃƒÂ°Ã‚Â\\x9dÃ‚Â\\x90Ã‚Â\\xadÃƒÂ°Ã‚Â\\x9dÃ‚Â\\x90Ã‚Å¡ÃƒÂ°Ã‚Â\\x9dÃ‚Â\\x90Ã‚Â\\xadÃƒÂ°Ã‚Â\\x9dÃ‚Â\\x90Ã‚Å¾ ÃƒÂ°Ã‚Â\\x9dÃ‚Â\\x90Ã‚Å¡ÃƒÂ°Ã‚Â\\x9dÃ‚Â\\x90Ã‚Â\\x9dÃƒÂ°Ã‚Â\\x9dÃ‚Â\\x90Ã‚Å¡ÃƒÂ°Ã‚Â\\x9dÃ‚Â\\x90Ã‚Â¥ÃƒÂ°Ã‚Â\\x9dÃ‚Â\\x90Ã‚Å¡ÃƒÂ°Ã‚Â\\x9dÃ‚Â\\x90Ã‚Â¡ 0,7 ÃƒÂ°Ã‚Â\\x9dÃ‚Â\\x90Ã‚Â\\x9dÃƒÂ°Ã‚Â\\x9dÃ‚Â\\x90Ã‚Å¡ÃƒÂ°Ã‚Â\\x9dÃ‚Â\\x90Ã‚Â«ÃƒÂ°Ã‚Â\\x9dÃ‚Â\\x90Ã‚Â¢ 100, walaupun sudah dikatrol oleh jagung polybag..ÃƒÂ°Ã‚Â\\x9dÃ‚Â\\x90Ã‚Â§ÃƒÂ°Ã‚Â\\x9dÃ‚Â\\x90Ã‚Â¢ÃƒÂ°Ã‚Â\\x9dÃ‚Â\\x90Ã‚Â¥ÃƒÂ°Ã‚Â\\x9dÃ‚Â\\x90Ã‚Å¡ÃƒÂ°Ã‚Â\\x9dÃ‚Â\\x90Ã‚Â¢ ÃƒÂ°Ã‚Â\\x9dÃ‚Â\\x90Ã‚Â¢ÃƒÂ°Ã‚Â\\x9dÃ‚Â\\x90Ã‚Â§ÃƒÂ°Ã‚Â\\x9dÃ‚Â\\x90Ã‚Â¢ ÃƒÂ°Ã‚Â\\x9dÃ‚Â\\x90Ã‚Â£ÃƒÂ°Ã‚Â\\x9dÃ‚Â\\x90Ã‚Å¡ÃƒÂ°Ã‚Â\\x9dÃ‚Â\\x90Ã‚Â®ÃƒÂ°Ã‚Â\\x9dÃ‚Â\\x90Ã‚Â¡ ÃƒÂ°Ã‚Â\\x9dÃ‚Â\\x90Ã‚Â¥ÃƒÂ°Ã‚Â\\x9dÃ‚Â\\x90Ã‚Å¾ÃƒÂ°Ã‚Â\\x9dÃ‚Â\\x90Ã‚â€ºÃƒÂ°Ã‚Â\\x9dÃ‚Â\\x90Ã‚Â¢ÃƒÂ°Ã‚Â\\x9dÃ‚Â\\x90Ã‚Â¡ ÃƒÂ°Ã‚Â\\x9dÃ‚Â\\x90Ã‚Â«ÃƒÂ°Ã‚Â\\x9dÃ‚Â\\x90Ã‚Å¾ÃƒÂ°Ã‚Â\\x9dÃ‚Â\\x90Ã‚Â§ÃƒÂ°Ã‚Â\\x9dÃ‚Â\\x90Ã‚Â\\x9dÃƒÂ°Ã‚Â\\x9dÃ‚Â\\x90Ã‚Å¡ÃƒÂ°Ã‚Â\\x9dÃ‚Â\\x90Ã‚Â¡ ÃƒÂ°Ã‚Â\\x9dÃ‚Â\\x90Ã‚Â\\x9dÃƒÂ°Ã‚Â\\x9dÃ‚Â\\x90Ã‚Å¡ÃƒÂ°Ã‚Â\\x9dÃ‚Â\\x90Ã‚Â«ÃƒÂ°Ã‚Â\\x9dÃ‚Â\\x90Ã‚Â¢ ÃƒÂ°Ã‚Â\\x9dÃ‚Â\\x90Ã‚Â²ÃƒÂ°Ã‚Â\\x9dÃ‚Â\\x90Ã‚Å¡ÃƒÂ°Ã‚Â\\x9dÃ‚Â\\x90Ã‚Â§ÃƒÂ°Ã‚Â\\x9dÃ‚Â\\x90 ÃƒÂ°Ã‚Â\\x9dÃ‚Â\\x90Ã‚Â\\x9dÃƒÂ°Ã‚Â\\x9dÃ‚Â\\x90Ã‚Â¢ÃƒÂ°Ã‚Â\\x9dÃ‚Â\\x90Ã‚â€ºÃƒÂ°Ã‚Â\\x9dÃ‚Â\\x90Ã‚Å¾ÃƒÂ°Ã‚Â\\x9dÃ‚Â\\x90Ã‚Â«ÃƒÂ°Ã‚Â\\x9dÃ‚Â\\x90Ã‚Â¢ÃƒÂ°Ã‚Â\\x9dÃ‚Â\\x90Ã‚Â¤ÃƒÂ°Ã‚Â\\x9dÃ‚Â\\x90Ã‚Å¡ÃƒÂ°Ã‚Â\\x9dÃ‚Â\\x90Ã‚Â§ ÃƒÂ°Ã‚Â\\x9dÃ‚Â\\x90Ã‚Â©ÃƒÂ°Ã‚Â\\x9dÃ‚Â\\x90Ã‚Å¡ÃƒÂ°Ã‚Â\\x9dÃ‚Â\\x90Ã‚Â¤ ÃƒÂ°Ã‚Â\\x9dÃ‚Â\\x90Ã‚â‚¬ÃƒÂ°Ã‚Â\\x9dÃ‚Â\\x90Ã‚Â§ÃƒÂ°Ã‚Â\\x9dÃ‚Â\\x90Ã‚Â¢ÃƒÂ°Ã‚Â\\x9dÃ‚Â\\x90Ã‚Å¾ÃƒÂ°Ã‚Â\\x9dÃ‚Â\\x90Ã‚Â¬ ÃƒÂ°Ã‚Â\\x9dÃ‚Â\\x90Ã‚Â\\x81ÃƒÂ°Ã‚Â\\x9dÃ‚Â\\x90Ã‚Å¡ÃƒÂ°Ã‚Â\\x9dÃ‚Â\\x90Ã‚Â¬ÃƒÂ°Ã‚Â\\x9dÃ‚Â\\x90Ã‚Â°ÃƒÂ°Ã‚Â\\x9dÃ‚Â\\x90Ã‚Å¾ÃƒÂ°Ã‚Â\\x9dÃ‚Â\\x90Ã‚Â\\x9dÃƒÂ°Ã‚Â\\x9dÃ‚Â\\x90Ã‚Å¡ÃƒÂ°Ã‚Â\\x9dÃ‚Â\\x90Ã‚Â§.. sepertinya pak Anies Baswedan masih berbaik hati memberikan score 11 dari 100.. Tanam singkong tumbuh jagung 4 Triliun hilang siapa yg nanggung? Sudah diberi proyek untuk dijadikan panggung Hasilnya gak nendang karena kapasitas nanggung Eh, malah maksa ikut pemilu padahal gampang tersinggung Gimana @KVUZVUozdc7/HvXwBB2UwbdOyhwnc/IfvKi9xZGCahQ= ? :) #PesanUntukAbah #AMINAjaDulu [RE HusodoYoga]',\n",
       "  'Ekonomi',\n",
       "  6307),\n",
       " (3956,\n",
       "  'RT ÃƒÂ°Ã‚Â\\x9dÃ‚Â\\x90Ã‚â€™ÃƒÂ°Ã‚Â\\x9dÃ‚Â\\x90Ã‚Å“ÃƒÂ°Ã‚Â\\x9dÃ‚Â\\x90Ã‚Â¨ÃƒÂ°Ã‚Â\\x9dÃ‚Â\\x90Ã‚Â«ÃƒÂ°Ã‚Â\\x9dÃ‚Â\\x90Ã‚Å¾ ÃƒÂ°Ã‚Â\\x9dÃ‚Â\\x90Ã‚Â¤ÃƒÂ°Ã‚Â\\x9dÃ‚Â\\x90Ã‚Â¢ÃƒÂ°Ã‚Â\\x9dÃ‚Â\\x90Ã‚Â§ÃƒÂ°Ã‚Â\\x9dÃ‚Â\\x90Ã‚Å¾ÃƒÂ°Ã‚Â\\x9dÃ‚Â\\x90Ã‚Â«ÃƒÂ°Ã‚Â\\x9dÃ‚Â\\x90Ã‚Â£ÃƒÂ°Ã‚Â\\x9dÃ‚Â\\x90Ã‚Å¡ ÃƒÂ°Ã‚Â\\x9dÃ‚Â\\x90Ã‚Â©ÃƒÂ°Ã‚Â\\x9dÃ‚Â\\x90Ã‚Â«ÃƒÂ°Ã‚Â\\x9dÃ‚Â\\x90Ã‚Å¡ÃƒÂ°Ã‚Â\\x9dÃ‚Â\\x90Ã‚â€ºÃƒÂ°Ã‚Â\\x9dÃ‚Â\\x90Ã‚Â¨ÃƒÂ°Ã‚Â\\x9dÃ‚Â\\x90Ã‚Â°ÃƒÂ°Ã‚Â\\x9dÃ‚Â\\x90Ã‚Â¨ ÃƒÂ°Ã‚Â\\x9dÃ‚Â\\x90Ã‚Â\\x9dÃƒÂ°Ã‚Â\\x9dÃ‚Â\\x90Ã‚Â¢ ÃƒÂ°Ã‚Â\\x9dÃ‚Â\\x90Ã‚Å¸ÃƒÂ°Ã‚Â\\x9dÃ‚Â\\x90Ã‚Â¨ÃƒÂ°Ã‚Â\\x9dÃ‚Â\\x90Ã‚Â¨ÃƒÂ°Ã‚Â\\x9dÃ‚Â\\x90Ã‚Â\\x9d ÃƒÂ°Ã‚Â\\x9dÃ‚Â\\x90Ã‚Å¾ÃƒÂ°Ã‚Â\\x9dÃ‚Â\\x90Ã‚Â¬ÃƒÂ°Ã‚Â\\x9dÃ‚Â\\x90Ã‚Â\\xadÃƒÂ°Ã‚Â\\x9dÃ‚Â\\x90Ã‚Å¡ÃƒÂ°Ã‚Â\\x9dÃ‚Â\\x90Ã‚Â\\xadÃƒÂ°Ã‚Â\\x9dÃ‚Â\\x90Ã‚Å¾ 0,7 ÃƒÂ°Ã‚Â\\x9dÃ‚Â\\x90Ã‚Â\\x9dÃƒÂ°Ã‚Â\\x9dÃ‚Â\\x90Ã‚Å¡ÃƒÂ°Ã‚Â\\x9dÃ‚Â\\x90Ã‚Â«ÃƒÂ°Ã‚Â\\x9dÃ‚Â\\x90Ã‚Â¢ 100 Food estate mulai dicanangkan pada 3 tahun lalu, tepatnya pada 6 Juli 2020 ÃƒÂ°Ã‚Â\\x9dÃ‚Â\\x90Ã‚Â\\x8fÃƒÂ°Ã‚Â\\x9dÃ‚Â\\x90Ã‚Â«ÃƒÂ°Ã‚Â\\x9dÃ‚Â\\x90Ã‚Å¾ÃƒÂ°Ã‚Â\\x9dÃ‚Â\\x90Ã‚Â¬ÃƒÂ°Ã‚Â\\x9dÃ‚Â\\x90Ã‚Â¢ÃƒÂ°Ã‚Â\\x9dÃ‚Â\\x90Ã‚Â\\x9dÃƒÂ°Ã‚Â\\x9dÃ‚Â\\x90Ã‚Å¾ÃƒÂ°Ã‚Â\\x9dÃ‚Â\\x90Ã‚Â§ ÃƒÂ°Ã‚Â\\x9dÃ‚Â\\x90Ã‚Â¦ÃƒÂ°Ã‚Â\\x9dÃ‚Â\\x90Ã‚Å¾ÃƒÂ°Ã‚Â\\x9dÃ‚Â\\x90Ã‚Â§ÃƒÂ°Ã‚Â\\x9dÃ‚Â\\x90Ã‚Â®ÃƒÂ°Ã‚Â\\x9dÃ‚Â\\x90Ã‚Â§ÃƒÂ°Ã‚Â\\x9dÃ‚Â\\x90Ã‚Â£ÃƒÂ°Ã‚Â\\x9dÃ‚Â\\x90Ã‚Â®ÃƒÂ°Ã‚Â\\x9dÃ‚Â\\x90Ã‚Â¤ ÃƒÂ°Ã‚Â\\x9dÃ‚Â\\x90Ã‚Â\\x8fÃƒÂ°Ã‚Â\\x9dÃ‚Â\\x90Ã‚Â«ÃƒÂ°Ã‚Â\\x9dÃ‚Â\\x90Ã‚Å¡ÃƒÂ°Ã‚Â\\x9dÃ‚Â\\x90Ã‚â€ºÃƒÂ°Ã‚Â\\x9dÃ‚Â\\x90Ã‚Â¨ÃƒÂ°Ã‚Â\\x9dÃ‚Â\\x90Ã‚Â°ÃƒÂ°Ã‚Â\\x9dÃ‚Â\\x90Ã‚Â¨ ÃƒÂ°Ã‚Â\\x9dÃ‚Â\\x90Ã‚Â¬ÃƒÂ°Ã‚Â\\x9dÃ‚Â\\x90Ã‚Å¾ÃƒÂ°Ã‚Â\\x9dÃ‚Â\\x90Ã‚â€ºÃƒÂ°Ã‚Â\\x9dÃ‚Â\\x90Ã‚Å¡ÃƒÂ°Ã‚Â\\x9dÃ‚Â\\x90 ÃƒÂ°Ã‚Â\\x9dÃ‚Â\\x90Ã‚Å¡ÃƒÂ°Ã‚Â\\x9dÃ‚Â\\x90Ã‚Â¢ ÃƒÂ°Ã‚Â\\x9dÃ‚Â\\x90Ã‚Â¥ÃƒÂ°Ã‚Â\\x9dÃ‚Â\\x90Ã‚Å¾ÃƒÂ°Ã‚Â\\x9dÃ‚Â\\x90Ã‚Å¡ÃƒÂ°Ã‚Â\\x9dÃ‚Â\\x90Ã‚Â\\x9dÃƒÂ°Ã‚Â\\x9dÃ‚Â\\x90Ã‚Å¾ÃƒÂ°Ã‚Â\\x9dÃ‚Â\\x90Ã‚Â« ÃƒÂ°Ã‚Â\\x9dÃ‚Â\\x90Ã‚Â®ÃƒÂ°Ã‚Â\\x9dÃ‚Â\\x90Ã‚Â§ÃƒÂ°Ã‚Â\\x9dÃ‚Â\\x90Ã‚Â\\xadÃƒÂ°Ã‚Â\\x9dÃ‚Â\\x90Ã‚Â®ÃƒÂ°Ã‚Â\\x9dÃ‚Â\\x90Ã‚Â¤ ÃƒÂ°Ã‚Â\\x9dÃ‚Â\\x90Ã‚Â©ÃƒÂ°Ã‚Â\\x9dÃ‚Â\\x90Ã‚Â«ÃƒÂ°Ã‚Â\\x9dÃ‚Â\\x90Ã‚Â¨ÃƒÂ°Ã‚Â\\x9dÃ‚Â\\x90 ÃƒÂ°Ã‚Â\\x9dÃ‚Â\\x90Ã‚Â«ÃƒÂ°Ã‚Â\\x9dÃ‚Â\\x90Ã‚Å¡ÃƒÂ°Ã‚Â\\x9dÃ‚Â\\x90Ã‚Â¦ ÃƒÂ°Ã‚Â\\x9dÃ‚Â\\x90Ã‚Â¢ÃƒÂ°Ã‚Â\\x9dÃ‚Â\\x90Ã‚Â§ÃƒÂ°Ã‚Â\\x9dÃ‚Â\\x90Ã‚Â¢, dibantu oleh menteri PUPR dan menteri pertanian. Secara garis besar, food estate adalah program ekstensifikasi pertanian, membuka lahan yg besar dan mengubahnya menjadi lahan pertanian 2 bulan setelah dicanangkan, food estate mulai dikerjakan di Kalimantan tengah, yaitu daerah gunung emas, sedangkan PT yang terlibat dalam program ini berdasarkan penelusuran Tempo, adalah PT yang baru dibentuk 5 bulan sebelumnya yaitu PT Agrinas dimana susunan direksinya terdapat setidaknya 3 dari Gerindra dan banyak juga staff Agrinas merangkap sebagai pegawai kementerian pertahanan, ÃƒÂ°Ã‚Â\\x9dÃ‚Â\\x90Ã‚Â¦ÃƒÂ°Ã‚Â\\x9dÃ‚Â\\x90Ã‚Â®ÃƒÂ°Ã‚Â\\x9dÃ‚Â\\x90Ã‚Â§ÃƒÂ°Ã‚Â\\x9dÃ‚Â\\x90 ÃƒÂ°Ã‚Â\\x9dÃ‚Â\\x90Ã‚Â¤ÃƒÂ°Ã‚Â\\x9dÃ‚Â\\x90Ã‚Â¢ÃƒÂ°Ã‚Â\\x9dÃ‚Â\\x90Ã‚Â§ ÃƒÂ°Ã‚Â\\x9dÃ‚Â\\x90Ã‚Â¢ÃƒÂ°Ã‚Â\\x9dÃ‚Â\\x90Ã‚Â§ÃƒÂ°Ã‚Â\\x9dÃ‚Â\\x90Ã‚Â¢ ÃƒÂ°Ã‚Â\\x9dÃ‚Â\\x90Ã‚Â²ÃƒÂ°Ã‚Â\\x9dÃ‚Â\\x90Ã‚Å¡ÃƒÂ°Ã‚Â\\x9dÃ‚Â\\x90Ã‚Â§ÃƒÂ°Ã‚Â\\x9dÃ‚Â\\x90 ÃƒÂ°Ã‚Â\\x9dÃ‚Â\\x90Ã‚Â\\x9dÃƒÂ°Ã‚Â\\x9dÃ‚Â\\x90Ã‚Â¢ÃƒÂ°Ã‚Â\\x9dÃ‚Â\\x90Ã‚Â¦ÃƒÂ°Ã‚Â\\x9dÃ‚Â\\x90Ã‚Å¡ÃƒÂ°Ã‚Â\\x9dÃ‚Â\\x90Ã‚Â¤ÃƒÂ°Ã‚Â\\x9dÃ‚Â\\x90Ã‚Â¬ÃƒÂ°Ã‚Â\\x9dÃ‚Â\\x90Ã‚Â®ÃƒÂ°Ã‚Â\\x9dÃ‚Â\\x90Ã‚Â\\x9d ÃƒÂ°Ã‚Â\\x9dÃ‚Â\\x90Ã‚â‚¬ÃƒÂ°Ã‚Â\\x9dÃ‚Â\\x90Ã‚Â§ÃƒÂ°Ã‚Â\\x9dÃ‚Â\\x90Ã‚Â¢ÃƒÂ°Ã‚Â\\x9dÃ‚Â\\x90Ã‚Å¾ÃƒÂ°Ã‚Â\\x9dÃ‚Â\\x90Ã‚Â¬ ÃƒÂ°Ã‚Â\\x9dÃ‚Â\\x90Ã‚Â¬ÃƒÂ°Ã‚Â\\x9dÃ‚Â\\x90Ã‚Å¾ÃƒÂ°Ã‚Â\\x9dÃ‚Â\\x90Ã‚â€ºÃƒÂ°Ã‚Â\\x9dÃ‚Â\\x90Ã‚Å¡ÃƒÂ°Ã‚Â\\x9dÃ‚Â\\x90 ÃƒÂ°Ã‚Â\\x9dÃ‚Â\\x90Ã‚Å¡ÃƒÂ°Ã‚Â\\x9dÃ‚Â\\x90Ã‚Â¢ ÃƒÂ°Ã‚Â\\x9dÃ‚Â\\x90Ã‚Â¨ÃƒÂ°Ã‚Â\\x9dÃ‚Â\\x90Ã‚Â«ÃƒÂ°Ã‚Â\\x9dÃ‚Â\\x90Ã‚Å¡ÃƒÂ°Ã‚Â\\x9dÃ‚Â\\x90Ã‚Â§ÃƒÂ°Ã‚Â\\x9dÃ‚Â\\x90 ÃƒÂ°Ã‚Â\\x9dÃ‚Â\\x90Ã‚Â\\x9dÃƒÂ°Ã‚Â\\x9dÃ‚Â\\x90Ã‚Å¡ÃƒÂ°Ã‚Â\\x9dÃ‚Â\\x90Ã‚Â¥ÃƒÂ°Ã‚Â\\x9dÃ‚Â\\x90Ã‚Å¡ÃƒÂ°Ã‚Â\\x9dÃ‚Â\\x90Ã‚Â¦ di food estate Food estate berencana untuk membuka 6 ribu hektar hutan hujan tropis, tepat 4 bulan setelah dicanangkan, beberapa anggota TNI terlibat dalam pembabatan hutan, dimana hutan yang sudah dibuka saat itu sekitar 670 hektar, dan karena itu adalah hutan tentunya banyak kayu yg dihasilkan, kemanakah kayu2 tersebut? Tiada yang tahu dan tiada yg mengerti Awalnya food estate menanam singkong pada bekas hutan tersebut, namun karena tanahnya berpasir, singkong tak kunjung tumbuh dalam kurun waktu 3 tahun, sehingga untuk menutupi kegagalan tersebut didatangkanlah jagung dalam polibag untuk 3-4 hektare lahan tersebut, dan itupun hasilnya juga tidak memuaskan Dari sisi anggaran, food estate masuk dalam kategori PSN, dimana anggaran yg dihabiskan 2021-2022 sekitar 1,5 triliun, di 2023 ada anggaran sekitar 2,4 triliun dan nanti di 2024 dianggarkan 2,56 triliun.. Jokowi sendiri mengatakan anggaran yang dibutuhkan sekitar 108 triliun.. mengingat menurut laporan PPATK 36% masuk ke kantong ASN dan politisi.. maka 38 triliun bisa masuk ke kantong mereka.. apalagi kalo pelaksananya orang dalam.. pasti akan lebih luar biasa.. dan apa hasilnya setelah 3 tahun berjalan? Bisa dibilang 0 besar karena panen jagungnya juga tidak signifikan Sampai disini, kalo kita merasionalkan menjadi skor penilaian kinerja Prabowo di food estate, maka dapat kita hitung dari lahan yang sudah dibabat yaitu sekitar 670 hektar dibandingkan dengan jagung polybag yg dipanen oleh Jokowi sekitar 4 hektare..atau didapat ÃƒÂ°Ã‚Â\\x9dÃ‚Â\\x90Ã‚Â¡ÃƒÂ°Ã‚Â\\x9dÃ‚Â\\x90Ã‚Å¡ÃƒÂ°Ã‚Â\\x9dÃ‚Â\\x90Ã‚Â§ÃƒÂ°Ã‚Â\\x9dÃ‚Â\\x90Ã‚Â²ÃƒÂ°Ã‚Â\\x9dÃ‚Â\\x90Ã‚Å¡ 0,69%.. jadi ÃƒÂ°Ã‚Â\\x9dÃ‚Â\\x90Ã‚Â¬ÃƒÂ°Ã‚Â\\x9dÃ‚Â\\x90Ã‚Å“ÃƒÂ°Ã‚Â\\x9dÃ‚Â\\x90Ã‚Â¨ÃƒÂ°Ã‚Â\\x9dÃ‚Â\\x90Ã‚Â«ÃƒÂ°Ã‚Â\\x9dÃ‚Â\\x90Ã‚Å¾ ÃƒÂ°Ã‚Â\\x9dÃ‚Â\\x90Ã‚Â\\x8fÃƒÂ°Ã‚Â\\x9dÃ‚Â\\x90Ã‚Â«ÃƒÂ°Ã‚Â\\x9dÃ‚Â\\x90Ã‚Å¡ÃƒÂ°Ã‚Â\\x9dÃ‚Â\\x90Ã‚â€ºÃƒÂ°Ã‚Â\\x9dÃ‚Â\\x90Ã‚Â¨ÃƒÂ°Ã‚Â\\x9dÃ‚Â\\x90Ã‚Â°ÃƒÂ°Ã‚Â\\x9dÃ‚Â\\x90Ã‚Â¨ ÃƒÂ°Ã‚Â\\x9dÃ‚Â\\x90Ã‚Â®ÃƒÂ°Ã‚Â\\x9dÃ‚Â\\x90Ã‚Â§ÃƒÂ°Ã‚Â\\x9dÃ‚Â\\x90Ã‚Â\\xadÃƒÂ°Ã‚Â\\x9dÃ‚Â\\x90Ã‚Â®ÃƒÂ°Ã‚Â\\x9dÃ‚Â\\x90Ã‚Â¤ ÃƒÂ°Ã‚Â\\x9dÃ‚Â\\x90Ã‚Å¸ÃƒÂ°Ã‚Â\\x9dÃ‚Â\\x90Ã‚Â¨ÃƒÂ°Ã‚Â\\x9dÃ‚Â\\x90Ã‚Â¨ÃƒÂ°Ã‚Â\\x9dÃ‚Â\\x90Ã‚Â\\x9d ÃƒÂ°Ã‚Â\\x9dÃ‚Â\\x90Ã‚Å¾ÃƒÂ°Ã‚Â\\x9dÃ‚Â\\x90Ã‚Â¬ÃƒÂ°Ã‚Â\\x9dÃ‚Â\\x90Ã‚Â\\xadÃƒÂ°Ã‚Â\\x9dÃ‚Â\\x90Ã‚Å¡ÃƒÂ°Ã‚Â\\x9dÃ‚Â\\x90Ã‚Â\\xadÃƒÂ°Ã‚Â\\x9dÃ‚Â\\x90Ã‚Å¾ ÃƒÂ°Ã‚Â\\x9dÃ‚Â\\x90Ã‚Å¡ÃƒÂ°Ã‚Â\\x9dÃ‚Â\\x90Ã‚Â\\x9dÃƒÂ°Ã‚Â\\x9dÃ‚Â\\x90Ã‚Å¡ÃƒÂ°Ã‚Â\\x9dÃ‚Â\\x90Ã‚Â¥ÃƒÂ°Ã‚Â\\x9dÃ‚Â\\x90Ã‚Å¡ÃƒÂ°Ã‚Â\\x9dÃ‚Â\\x90Ã‚Â¡ 0,7 ÃƒÂ°Ã‚Â\\x9dÃ‚Â\\x90Ã‚Â\\x9dÃƒÂ°Ã‚Â\\x9dÃ‚Â\\x90Ã‚Å¡ÃƒÂ°Ã‚Â\\x9dÃ‚Â\\x90Ã‚Â«ÃƒÂ°Ã‚Â\\x9dÃ‚Â\\x90Ã‚Â¢ 100, walaupun sudah dikatrol oleh jagung polybag..ÃƒÂ°Ã‚Â\\x9dÃ‚Â\\x90Ã‚Â§ÃƒÂ°Ã‚Â\\x9dÃ‚Â\\x90Ã‚Â¢ÃƒÂ°Ã‚Â\\x9dÃ‚Â\\x90Ã‚Â¥ÃƒÂ°Ã‚Â\\x9dÃ‚Â\\x90Ã‚Å¡ÃƒÂ°Ã‚Â\\x9dÃ‚Â\\x90Ã‚Â¢ ÃƒÂ°Ã‚Â\\x9dÃ‚Â\\x90Ã‚Â¢ÃƒÂ°Ã‚Â\\x9dÃ‚Â\\x90Ã‚Â§ÃƒÂ°Ã‚Â\\x9dÃ‚Â\\x90Ã‚Â¢ ÃƒÂ°Ã‚Â\\x9dÃ‚Â\\x90Ã‚Â£ÃƒÂ°Ã‚Â\\x9dÃ‚Â\\x90Ã‚Å¡ÃƒÂ°Ã‚Â\\x9dÃ‚Â\\x90Ã‚Â®ÃƒÂ°Ã‚Â\\x9dÃ‚Â\\x90Ã‚Â¡ ÃƒÂ°Ã‚Â\\x9dÃ‚Â\\x90Ã‚Â¥ÃƒÂ°Ã‚Â\\x9dÃ‚Â\\x90Ã‚Å¾ÃƒÂ°Ã‚Â\\x9dÃ‚Â\\x90Ã‚â€ºÃƒÂ°Ã‚Â\\x9dÃ‚Â\\x90Ã‚Â¢ÃƒÂ°Ã‚Â\\x9dÃ‚Â\\x90Ã‚Â¡ ÃƒÂ°Ã‚Â\\x9dÃ‚Â\\x90Ã‚Â«ÃƒÂ°Ã‚Â\\x9dÃ‚Â\\x90Ã‚Å¾ÃƒÂ°Ã‚Â\\x9dÃ‚Â\\x90Ã‚Â§ÃƒÂ°Ã‚Â\\x9dÃ‚Â\\x90Ã‚Â\\x9dÃƒÂ°Ã‚Â\\x9dÃ‚Â\\x90Ã‚Å¡ÃƒÂ°Ã‚Â\\x9dÃ‚Â\\x90Ã‚Â¡ ÃƒÂ°Ã‚Â\\x9dÃ‚Â\\x90Ã‚Â\\x9dÃƒÂ°Ã‚Â\\x9dÃ‚Â\\x90Ã‚Å¡ÃƒÂ°Ã‚Â\\x9dÃ‚Â\\x90Ã‚Â«ÃƒÂ°Ã‚Â\\x9dÃ‚Â\\x90Ã‚Â¢ ÃƒÂ°Ã‚Â\\x9dÃ‚Â\\x90Ã‚Â²ÃƒÂ°Ã‚Â\\x9dÃ‚Â\\x90Ã‚Å¡ÃƒÂ°Ã‚Â\\x9dÃ‚Â\\x90Ã‚Â§ÃƒÂ°Ã‚Â\\x9dÃ‚Â\\x90 ÃƒÂ°Ã‚Â\\x9dÃ‚Â\\x90Ã‚Â\\x9dÃƒÂ°Ã‚Â\\x9dÃ‚Â\\x90Ã‚Â¢ÃƒÂ°Ã‚Â\\x9dÃ‚Â\\x90Ã‚â€ºÃƒÂ°Ã‚Â\\x9dÃ‚Â\\x90Ã‚Å¾ÃƒÂ°Ã‚Â\\x9dÃ‚Â\\x90Ã‚Â«ÃƒÂ°Ã‚Â\\x9dÃ‚Â\\x90Ã‚Â¢ÃƒÂ°Ã‚Â\\x9dÃ‚Â\\x90Ã‚Â¤ÃƒÂ°Ã‚Â\\x9dÃ‚Â\\x90Ã‚Å¡ÃƒÂ°Ã‚Â\\x9dÃ‚Â\\x90Ã‚Â§ ÃƒÂ°Ã‚Â\\x9dÃ‚Â\\x90Ã‚Â©ÃƒÂ°Ã‚Â\\x9dÃ‚Â\\x90Ã‚Å¡ÃƒÂ°Ã‚Â\\x9dÃ‚Â\\x90Ã‚Â¤ ÃƒÂ°Ã‚Â\\x9dÃ‚Â\\x90Ã‚â‚¬ÃƒÂ°Ã‚Â\\x9dÃ‚Â\\x90Ã‚Â§ÃƒÂ°Ã‚Â\\x9dÃ‚Â\\x90Ã‚Â¢ÃƒÂ°Ã‚Â\\x9dÃ‚Â\\x90Ã‚Å¾ÃƒÂ°Ã‚Â\\x9dÃ‚Â\\x90Ã‚Â¬ ÃƒÂ°Ã‚Â\\x9dÃ‚Â\\x90Ã‚Â\\x81ÃƒÂ°Ã‚Â\\x9dÃ‚Â\\x90Ã‚Å¡ÃƒÂ°Ã‚Â\\x9dÃ‚Â\\x90Ã‚Â¬ÃƒÂ°Ã‚Â\\x9dÃ‚Â\\x90Ã‚Â°ÃƒÂ°Ã‚Â\\x9dÃ‚Â\\x90Ã‚Å¾ÃƒÂ°Ã‚Â\\x9dÃ‚Â\\x90Ã‚Â\\x9dÃƒÂ°Ã‚Â\\x9dÃ‚Â\\x90Ã‚Å¡ÃƒÂ°Ã‚Â\\x9dÃ‚Â\\x90Ã‚Â§.. sepertinya pak Anies Baswedan masih berbaik hati memberikan score 11 dari 100.. Tanam singkong tumbuh jagung 4 Triliun hilang siapa yg nanggung? Sudah diberi proyek untuk dijadikan panggung Hasilnya gak nendang karena kapasitas nanggung Eh, malah maksa ikut pemilu padahal gampang tersinggung Gimana @wToSCsIzchhe1gMINLvEitHpnPabRweHVJ6hqJxYbbM= ? :) #PesanUntukAbah #AMINAjaDulu [RE HusodoYoga]',\n",
       "  'Ekonomi',\n",
       "  6307),\n",
       " (4267,\n",
       "  'RT ÃƒÂ°Ã‚Â\\x9dÃ‚Â\\x90Ã‚â€™ÃƒÂ°Ã‚Â\\x9dÃ‚Â\\x90Ã‚Å“ÃƒÂ°Ã‚Â\\x9dÃ‚Â\\x90Ã‚Â¨ÃƒÂ°Ã‚Â\\x9dÃ‚Â\\x90Ã‚Â«ÃƒÂ°Ã‚Â\\x9dÃ‚Â\\x90Ã‚Å¾ ÃƒÂ°Ã‚Â\\x9dÃ‚Â\\x90Ã‚Â¤ÃƒÂ°Ã‚Â\\x9dÃ‚Â\\x90Ã‚Â¢ÃƒÂ°Ã‚Â\\x9dÃ‚Â\\x90Ã‚Â§ÃƒÂ°Ã‚Â\\x9dÃ‚Â\\x90Ã‚Å¾ÃƒÂ°Ã‚Â\\x9dÃ‚Â\\x90Ã‚Â«ÃƒÂ°Ã‚Â\\x9dÃ‚Â\\x90Ã‚Â£ÃƒÂ°Ã‚Â\\x9dÃ‚Â\\x90Ã‚Å¡ ÃƒÂ°Ã‚Â\\x9dÃ‚Â\\x90Ã‚Â©ÃƒÂ°Ã‚Â\\x9dÃ‚Â\\x90Ã‚Â«ÃƒÂ°Ã‚Â\\x9dÃ‚Â\\x90Ã‚Å¡ÃƒÂ°Ã‚Â\\x9dÃ‚Â\\x90Ã‚â€ºÃƒÂ°Ã‚Â\\x9dÃ‚Â\\x90Ã‚Â¨ÃƒÂ°Ã‚Â\\x9dÃ‚Â\\x90Ã‚Â°ÃƒÂ°Ã‚Â\\x9dÃ‚Â\\x90Ã‚Â¨ ÃƒÂ°Ã‚Â\\x9dÃ‚Â\\x90Ã‚Â\\x9dÃƒÂ°Ã‚Â\\x9dÃ‚Â\\x90Ã‚Â¢ ÃƒÂ°Ã‚Â\\x9dÃ‚Â\\x90Ã‚Å¸ÃƒÂ°Ã‚Â\\x9dÃ‚Â\\x90Ã‚Â¨ÃƒÂ°Ã‚Â\\x9dÃ‚Â\\x90Ã‚Â¨ÃƒÂ°Ã‚Â\\x9dÃ‚Â\\x90Ã‚Â\\x9d ÃƒÂ°Ã‚Â\\x9dÃ‚Â\\x90Ã‚Å¾ÃƒÂ°Ã‚Â\\x9dÃ‚Â\\x90Ã‚Â¬ÃƒÂ°Ã‚Â\\x9dÃ‚Â\\x90Ã‚Â\\xadÃƒÂ°Ã‚Â\\x9dÃ‚Â\\x90Ã‚Å¡ÃƒÂ°Ã‚Â\\x9dÃ‚Â\\x90Ã‚Â\\xadÃƒÂ°Ã‚Â\\x9dÃ‚Â\\x90Ã‚Å¾ 0,7 ÃƒÂ°Ã‚Â\\x9dÃ‚Â\\x90Ã‚Â\\x9dÃƒÂ°Ã‚Â\\x9dÃ‚Â\\x90Ã‚Å¡ÃƒÂ°Ã‚Â\\x9dÃ‚Â\\x90Ã‚Â«ÃƒÂ°Ã‚Â\\x9dÃ‚Â\\x90Ã‚Â¢ 100 Food estate mulai dicanangkan pada 3 tahun lalu, tepatnya pada 6 Juli 2020 ÃƒÂ°Ã‚Â\\x9dÃ‚Â\\x90Ã‚Â\\x8fÃƒÂ°Ã‚Â\\x9dÃ‚Â\\x90Ã‚Â«ÃƒÂ°Ã‚Â\\x9dÃ‚Â\\x90Ã‚Å¾ÃƒÂ°Ã‚Â\\x9dÃ‚Â\\x90Ã‚Â¬ÃƒÂ°Ã‚Â\\x9dÃ‚Â\\x90Ã‚Â¢ÃƒÂ°Ã‚Â\\x9dÃ‚Â\\x90Ã‚Â\\x9dÃƒÂ°Ã‚Â\\x9dÃ‚Â\\x90Ã‚Å¾ÃƒÂ°Ã‚Â\\x9dÃ‚Â\\x90Ã‚Â§ ÃƒÂ°Ã‚Â\\x9dÃ‚Â\\x90Ã‚Â¦ÃƒÂ°Ã‚Â\\x9dÃ‚Â\\x90Ã‚Å¾ÃƒÂ°Ã‚Â\\x9dÃ‚Â\\x90Ã‚Â§ÃƒÂ°Ã‚Â\\x9dÃ‚Â\\x90Ã‚Â®ÃƒÂ°Ã‚Â\\x9dÃ‚Â\\x90Ã‚Â§ÃƒÂ°Ã‚Â\\x9dÃ‚Â\\x90Ã‚Â£ÃƒÂ°Ã‚Â\\x9dÃ‚Â\\x90Ã‚Â®ÃƒÂ°Ã‚Â\\x9dÃ‚Â\\x90Ã‚Â¤ ÃƒÂ°Ã‚Â\\x9dÃ‚Â\\x90Ã‚Â\\x8fÃƒÂ°Ã‚Â\\x9dÃ‚Â\\x90Ã‚Â«ÃƒÂ°Ã‚Â\\x9dÃ‚Â\\x90Ã‚Å¡ÃƒÂ°Ã‚Â\\x9dÃ‚Â\\x90Ã‚â€ºÃƒÂ°Ã‚Â\\x9dÃ‚Â\\x90Ã‚Â¨ÃƒÂ°Ã‚Â\\x9dÃ‚Â\\x90Ã‚Â°ÃƒÂ°Ã‚Â\\x9dÃ‚Â\\x90Ã‚Â¨ ÃƒÂ°Ã‚Â\\x9dÃ‚Â\\x90Ã‚Â¬ÃƒÂ°Ã‚Â\\x9dÃ‚Â\\x90Ã‚Å¾ÃƒÂ°Ã‚Â\\x9dÃ‚Â\\x90Ã‚â€ºÃƒÂ°Ã‚Â\\x9dÃ‚Â\\x90Ã‚Å¡ÃƒÂ°Ã‚Â\\x9dÃ‚Â\\x90 ÃƒÂ°Ã‚Â\\x9dÃ‚Â\\x90Ã‚Å¡ÃƒÂ°Ã‚Â\\x9dÃ‚Â\\x90Ã‚Â¢ ÃƒÂ°Ã‚Â\\x9dÃ‚Â\\x90Ã‚Â¥ÃƒÂ°Ã‚Â\\x9dÃ‚Â\\x90Ã‚Å¾ÃƒÂ°Ã‚Â\\x9dÃ‚Â\\x90Ã‚Å¡ÃƒÂ°Ã‚Â\\x9dÃ‚Â\\x90Ã‚Â\\x9dÃƒÂ°Ã‚Â\\x9dÃ‚Â\\x90Ã‚Å¾ÃƒÂ°Ã‚Â\\x9dÃ‚Â\\x90Ã‚Â« ÃƒÂ°Ã‚Â\\x9dÃ‚Â\\x90Ã‚Â®ÃƒÂ°Ã‚Â\\x9dÃ‚Â\\x90Ã‚Â§ÃƒÂ°Ã‚Â\\x9dÃ‚Â\\x90Ã‚Â\\xadÃƒÂ°Ã‚Â\\x9dÃ‚Â\\x90Ã‚Â®ÃƒÂ°Ã‚Â\\x9dÃ‚Â\\x90Ã‚Â¤ ÃƒÂ°Ã‚Â\\x9dÃ‚Â\\x90Ã‚Â©ÃƒÂ°Ã‚Â\\x9dÃ‚Â\\x90Ã‚Â«ÃƒÂ°Ã‚Â\\x9dÃ‚Â\\x90Ã‚Â¨ÃƒÂ°Ã‚Â\\x9dÃ‚Â\\x90 ÃƒÂ°Ã‚Â\\x9dÃ‚Â\\x90Ã‚Â«ÃƒÂ°Ã‚Â\\x9dÃ‚Â\\x90Ã‚Å¡ÃƒÂ°Ã‚Â\\x9dÃ‚Â\\x90Ã‚Â¦ ÃƒÂ°Ã‚Â\\x9dÃ‚Â\\x90Ã‚Â¢ÃƒÂ°Ã‚Â\\x9dÃ‚Â\\x90Ã‚Â§ÃƒÂ°Ã‚Â\\x9dÃ‚Â\\x90Ã‚Â¢, dibantu oleh menteri PUPR dan menteri pertanian. Secara garis besar, food estate adalah program ekstensifikasi pertanian, membuka lahan yg besar dan mengubahnya menjadi lahan pertanian 2 bulan setelah dicanangkan, food estate mulai dikerjakan di Kalimantan tengah, yaitu daerah gunung emas, sedangkan PT yang terlibat dalam program ini berdasarkan penelusuran Tempo, adalah PT yang baru dibentuk 5 bulan sebelumnya yaitu PT Agrinas dimana susunan direksinya terdapat setidaknya 3 dari Gerindra dan banyak juga staff Agrinas merangkap sebagai pegawai kementerian pertahanan, ÃƒÂ°Ã‚Â\\x9dÃ‚Â\\x90Ã‚Â¦ÃƒÂ°Ã‚Â\\x9dÃ‚Â\\x90Ã‚Â®ÃƒÂ°Ã‚Â\\x9dÃ‚Â\\x90Ã‚Â§ÃƒÂ°Ã‚Â\\x9dÃ‚Â\\x90 ÃƒÂ°Ã‚Â\\x9dÃ‚Â\\x90Ã‚Â¤ÃƒÂ°Ã‚Â\\x9dÃ‚Â\\x90Ã‚Â¢ÃƒÂ°Ã‚Â\\x9dÃ‚Â\\x90Ã‚Â§ ÃƒÂ°Ã‚Â\\x9dÃ‚Â\\x90Ã‚Â¢ÃƒÂ°Ã‚Â\\x9dÃ‚Â\\x90Ã‚Â§ÃƒÂ°Ã‚Â\\x9dÃ‚Â\\x90Ã‚Â¢ ÃƒÂ°Ã‚Â\\x9dÃ‚Â\\x90Ã‚Â²ÃƒÂ°Ã‚Â\\x9dÃ‚Â\\x90Ã‚Å¡ÃƒÂ°Ã‚Â\\x9dÃ‚Â\\x90Ã‚Â§ÃƒÂ°Ã‚Â\\x9dÃ‚Â\\x90 ÃƒÂ°Ã‚Â\\x9dÃ‚Â\\x90Ã‚Â\\x9dÃƒÂ°Ã‚Â\\x9dÃ‚Â\\x90Ã‚Â¢ÃƒÂ°Ã‚Â\\x9dÃ‚Â\\x90Ã‚Â¦ÃƒÂ°Ã‚Â\\x9dÃ‚Â\\x90Ã‚Å¡ÃƒÂ°Ã‚Â\\x9dÃ‚Â\\x90Ã‚Â¤ÃƒÂ°Ã‚Â\\x9dÃ‚Â\\x90Ã‚Â¬ÃƒÂ°Ã‚Â\\x9dÃ‚Â\\x90Ã‚Â®ÃƒÂ°Ã‚Â\\x9dÃ‚Â\\x90Ã‚Â\\x9d ÃƒÂ°Ã‚Â\\x9dÃ‚Â\\x90Ã‚â‚¬ÃƒÂ°Ã‚Â\\x9dÃ‚Â\\x90Ã‚Â§ÃƒÂ°Ã‚Â\\x9dÃ‚Â\\x90Ã‚Â¢ÃƒÂ°Ã‚Â\\x9dÃ‚Â\\x90Ã‚Å¾ÃƒÂ°Ã‚Â\\x9dÃ‚Â\\x90Ã‚Â¬ ÃƒÂ°Ã‚Â\\x9dÃ‚Â\\x90Ã‚Â¬ÃƒÂ°Ã‚Â\\x9dÃ‚Â\\x90Ã‚Å¾ÃƒÂ°Ã‚Â\\x9dÃ‚Â\\x90Ã‚â€ºÃƒÂ°Ã‚Â\\x9dÃ‚Â\\x90Ã‚Å¡ÃƒÂ°Ã‚Â\\x9dÃ‚Â\\x90 ÃƒÂ°Ã‚Â\\x9dÃ‚Â\\x90Ã‚Å¡ÃƒÂ°Ã‚Â\\x9dÃ‚Â\\x90Ã‚Â¢ ÃƒÂ°Ã‚Â\\x9dÃ‚Â\\x90Ã‚Â¨ÃƒÂ°Ã‚Â\\x9dÃ‚Â\\x90Ã‚Â«ÃƒÂ°Ã‚Â\\x9dÃ‚Â\\x90Ã‚Å¡ÃƒÂ°Ã‚Â\\x9dÃ‚Â\\x90Ã‚Â§ÃƒÂ°Ã‚Â\\x9dÃ‚Â\\x90 ÃƒÂ°Ã‚Â\\x9dÃ‚Â\\x90Ã‚Â\\x9dÃƒÂ°Ã‚Â\\x9dÃ‚Â\\x90Ã‚Å¡ÃƒÂ°Ã‚Â\\x9dÃ‚Â\\x90Ã‚Â¥ÃƒÂ°Ã‚Â\\x9dÃ‚Â\\x90Ã‚Å¡ÃƒÂ°Ã‚Â\\x9dÃ‚Â\\x90Ã‚Â¦ di food estate Food estate berencana untuk membuka 6 ribu hektar hutan hujan tropis, tepat 4 bulan setelah dicanangkan, beberapa anggota TNI terlibat dalam pembabatan hutan, dimana hutan yang sudah dibuka saat itu sekitar 670 hektar, dan karena itu adalah hutan tentunya banyak kayu yg dihasilkan, kemanakah kayu2 tersebut? Tiada yang tahu dan tiada yg mengerti Awalnya food estate menanam singkong pada bekas hutan tersebut, namun karena tanahnya berpasir, singkong tak kunjung tumbuh dalam kurun waktu 3 tahun, sehingga untuk menutupi kegagalan tersebut didatangkanlah jagung dalam polibag untuk 3-4 hektare lahan tersebut, dan itupun hasilnya juga tidak memuaskan Dari sisi anggaran, food estate masuk dalam kategori PSN, dimana anggaran yg dihabiskan 2021-2022 sekitar 1,5 triliun, di 2023 ada anggaran sekitar 2,4 triliun dan nanti di 2024 dianggarkan 2,56 triliun.. Jokowi sendiri mengatakan anggaran yang dibutuhkan sekitar 108 triliun.. mengingat menurut laporan PPATK 36% masuk ke kantong ASN dan politisi.. maka 38 triliun bisa masuk ke kantong mereka.. apalagi kalo pelaksananya orang dalam.. pasti akan lebih luar biasa.. dan apa hasilnya setelah 3 tahun berjalan? Bisa dibilang 0 besar karena panen jagungnya juga tidak signifikan Sampai disini, kalo kita merasionalkan menjadi skor penilaian kinerja Prabowo di food estate, maka dapat kita hitung dari lahan yang sudah dibabat yaitu sekitar 670 hektar dibandingkan dengan jagung polybag yg dipanen oleh Jokowi sekitar 4 hektare..atau didapat ÃƒÂ°Ã‚Â\\x9dÃ‚Â\\x90Ã‚Â¡ÃƒÂ°Ã‚Â\\x9dÃ‚Â\\x90Ã‚Å¡ÃƒÂ°Ã‚Â\\x9dÃ‚Â\\x90Ã‚Â§ÃƒÂ°Ã‚Â\\x9dÃ‚Â\\x90Ã‚Â²ÃƒÂ°Ã‚Â\\x9dÃ‚Â\\x90Ã‚Å¡ 0,69%.. jadi ÃƒÂ°Ã‚Â\\x9dÃ‚Â\\x90Ã‚Â¬ÃƒÂ°Ã‚Â\\x9dÃ‚Â\\x90Ã‚Å“ÃƒÂ°Ã‚Â\\x9dÃ‚Â\\x90Ã‚Â¨ÃƒÂ°Ã‚Â\\x9dÃ‚Â\\x90Ã‚Â«ÃƒÂ°Ã‚Â\\x9dÃ‚Â\\x90Ã‚Å¾ ÃƒÂ°Ã‚Â\\x9dÃ‚Â\\x90Ã‚Â\\x8fÃƒÂ°Ã‚Â\\x9dÃ‚Â\\x90Ã‚Â«ÃƒÂ°Ã‚Â\\x9dÃ‚Â\\x90Ã‚Å¡ÃƒÂ°Ã‚Â\\x9dÃ‚Â\\x90Ã‚â€ºÃƒÂ°Ã‚Â\\x9dÃ‚Â\\x90Ã‚Â¨ÃƒÂ°Ã‚Â\\x9dÃ‚Â\\x90Ã‚Â°ÃƒÂ°Ã‚Â\\x9dÃ‚Â\\x90Ã‚Â¨ ÃƒÂ°Ã‚Â\\x9dÃ‚Â\\x90Ã‚Â®ÃƒÂ°Ã‚Â\\x9dÃ‚Â\\x90Ã‚Â§ÃƒÂ°Ã‚Â\\x9dÃ‚Â\\x90Ã‚Â\\xadÃƒÂ°Ã‚Â\\x9dÃ‚Â\\x90Ã‚Â®ÃƒÂ°Ã‚Â\\x9dÃ‚Â\\x90Ã‚Â¤ ÃƒÂ°Ã‚Â\\x9dÃ‚Â\\x90Ã‚Å¸ÃƒÂ°Ã‚Â\\x9dÃ‚Â\\x90Ã‚Â¨ÃƒÂ°Ã‚Â\\x9dÃ‚Â\\x90Ã‚Â¨ÃƒÂ°Ã‚Â\\x9dÃ‚Â\\x90Ã‚Â\\x9d ÃƒÂ°Ã‚Â\\x9dÃ‚Â\\x90Ã‚Å¾ÃƒÂ°Ã‚Â\\x9dÃ‚Â\\x90Ã‚Â¬ÃƒÂ°Ã‚Â\\x9dÃ‚Â\\x90Ã‚Â\\xadÃƒÂ°Ã‚Â\\x9dÃ‚Â\\x90Ã‚Å¡ÃƒÂ°Ã‚Â\\x9dÃ‚Â\\x90Ã‚Â\\xadÃƒÂ°Ã‚Â\\x9dÃ‚Â\\x90Ã‚Å¾ ÃƒÂ°Ã‚Â\\x9dÃ‚Â\\x90Ã‚Å¡ÃƒÂ°Ã‚Â\\x9dÃ‚Â\\x90Ã‚Â\\x9dÃƒÂ°Ã‚Â\\x9dÃ‚Â\\x90Ã‚Å¡ÃƒÂ°Ã‚Â\\x9dÃ‚Â\\x90Ã‚Â¥ÃƒÂ°Ã‚Â\\x9dÃ‚Â\\x90Ã‚Å¡ÃƒÂ°Ã‚Â\\x9dÃ‚Â\\x90Ã‚Â¡ 0,7 ÃƒÂ°Ã‚Â\\x9dÃ‚Â\\x90Ã‚Â\\x9dÃƒÂ°Ã‚Â\\x9dÃ‚Â\\x90Ã‚Å¡ÃƒÂ°Ã‚Â\\x9dÃ‚Â\\x90Ã‚Â«ÃƒÂ°Ã‚Â\\x9dÃ‚Â\\x90Ã‚Â¢ 100, walaupun sudah dikatrol oleh jagung polybag..ÃƒÂ°Ã‚Â\\x9dÃ‚Â\\x90Ã‚Â§ÃƒÂ°Ã‚Â\\x9dÃ‚Â\\x90Ã‚Â¢ÃƒÂ°Ã‚Â\\x9dÃ‚Â\\x90Ã‚Â¥ÃƒÂ°Ã‚Â\\x9dÃ‚Â\\x90Ã‚Å¡ÃƒÂ°Ã‚Â\\x9dÃ‚Â\\x90Ã‚Â¢ ÃƒÂ°Ã‚Â\\x9dÃ‚Â\\x90Ã‚Â¢ÃƒÂ°Ã‚Â\\x9dÃ‚Â\\x90Ã‚Â§ÃƒÂ°Ã‚Â\\x9dÃ‚Â\\x90Ã‚Â¢ ÃƒÂ°Ã‚Â\\x9dÃ‚Â\\x90Ã‚Â£ÃƒÂ°Ã‚Â\\x9dÃ‚Â\\x90Ã‚Å¡ÃƒÂ°Ã‚Â\\x9dÃ‚Â\\x90Ã‚Â®ÃƒÂ°Ã‚Â\\x9dÃ‚Â\\x90Ã‚Â¡ ÃƒÂ°Ã‚Â\\x9dÃ‚Â\\x90Ã‚Â¥ÃƒÂ°Ã‚Â\\x9dÃ‚Â\\x90Ã‚Å¾ÃƒÂ°Ã‚Â\\x9dÃ‚Â\\x90Ã‚â€ºÃƒÂ°Ã‚Â\\x9dÃ‚Â\\x90Ã‚Â¢ÃƒÂ°Ã‚Â\\x9dÃ‚Â\\x90Ã‚Â¡ ÃƒÂ°Ã‚Â\\x9dÃ‚Â\\x90Ã‚Â«ÃƒÂ°Ã‚Â\\x9dÃ‚Â\\x90Ã‚Å¾ÃƒÂ°Ã‚Â\\x9dÃ‚Â\\x90Ã‚Â§ÃƒÂ°Ã‚Â\\x9dÃ‚Â\\x90Ã‚Â\\x9dÃƒÂ°Ã‚Â\\x9dÃ‚Â\\x90Ã‚Å¡ÃƒÂ°Ã‚Â\\x9dÃ‚Â\\x90Ã‚Â¡ ÃƒÂ°Ã‚Â\\x9dÃ‚Â\\x90Ã‚Â\\x9dÃƒÂ°Ã‚Â\\x9dÃ‚Â\\x90Ã‚Å¡ÃƒÂ°Ã‚Â\\x9dÃ‚Â\\x90Ã‚Â«ÃƒÂ°Ã‚Â\\x9dÃ‚Â\\x90Ã‚Â¢ ÃƒÂ°Ã‚Â\\x9dÃ‚Â\\x90Ã‚Â²ÃƒÂ°Ã‚Â\\x9dÃ‚Â\\x90Ã‚Å¡ÃƒÂ°Ã‚Â\\x9dÃ‚Â\\x90Ã‚Â§ÃƒÂ°Ã‚Â\\x9dÃ‚Â\\x90 ÃƒÂ°Ã‚Â\\x9dÃ‚Â\\x90Ã‚Â\\x9dÃƒÂ°Ã‚Â\\x9dÃ‚Â\\x90Ã‚Â¢ÃƒÂ°Ã‚Â\\x9dÃ‚Â\\x90Ã‚â€ºÃƒÂ°Ã‚Â\\x9dÃ‚Â\\x90Ã‚Å¾ÃƒÂ°Ã‚Â\\x9dÃ‚Â\\x90Ã‚Â«ÃƒÂ°Ã‚Â\\x9dÃ‚Â\\x90Ã‚Â¢ÃƒÂ°Ã‚Â\\x9dÃ‚Â\\x90Ã‚Â¤ÃƒÂ°Ã‚Â\\x9dÃ‚Â\\x90Ã‚Å¡ÃƒÂ°Ã‚Â\\x9dÃ‚Â\\x90Ã‚Â§ ÃƒÂ°Ã‚Â\\x9dÃ‚Â\\x90Ã‚Â©ÃƒÂ°Ã‚Â\\x9dÃ‚Â\\x90Ã‚Å¡ÃƒÂ°Ã‚Â\\x9dÃ‚Â\\x90Ã‚Â¤ ÃƒÂ°Ã‚Â\\x9dÃ‚Â\\x90Ã‚â‚¬ÃƒÂ°Ã‚Â\\x9dÃ‚Â\\x90Ã‚Â§ÃƒÂ°Ã‚Â\\x9dÃ‚Â\\x90Ã‚Â¢ÃƒÂ°Ã‚Â\\x9dÃ‚Â\\x90Ã‚Å¾ÃƒÂ°Ã‚Â\\x9dÃ‚Â\\x90Ã‚Â¬ ÃƒÂ°Ã‚Â\\x9dÃ‚Â\\x90Ã‚Â\\x81ÃƒÂ°Ã‚Â\\x9dÃ‚Â\\x90Ã‚Å¡ÃƒÂ°Ã‚Â\\x9dÃ‚Â\\x90Ã‚Â¬ÃƒÂ°Ã‚Â\\x9dÃ‚Â\\x90Ã‚Â°ÃƒÂ°Ã‚Â\\x9dÃ‚Â\\x90Ã‚Å¾ÃƒÂ°Ã‚Â\\x9dÃ‚Â\\x90Ã‚Â\\x9dÃƒÂ°Ã‚Â\\x9dÃ‚Â\\x90Ã‚Å¡ÃƒÂ°Ã‚Â\\x9dÃ‚Â\\x90Ã‚Â§.. sepertinya pak Anies Baswedan masih berbaik hati memberikan score 11 dari 100.. Tanam singkong tumbuh jagung 4 Triliun hilang siapa yg nanggung? Sudah diberi proyek untuk dijadikan panggung Hasilnya gak nendang karena kapasitas nanggung Eh, malah maksa ikut pemilu padahal gampang tersinggung Gimana @yPbM66cI5KrbNX/WYrKKVO8yT8CxLYEvoYqzzBFVCOk= ? :) #PesanUntukAbah #AMINAjaDulu [RE HusodoYoga]',\n",
       "  'Ekonomi',\n",
       "  6307),\n",
       " (4300,\n",
       "  'RT ÃƒÂ°Ã‚Â\\x9dÃ‚Â\\x90Ã‚â€™ÃƒÂ°Ã‚Â\\x9dÃ‚Â\\x90Ã‚Å“ÃƒÂ°Ã‚Â\\x9dÃ‚Â\\x90Ã‚Â¨ÃƒÂ°Ã‚Â\\x9dÃ‚Â\\x90Ã‚Â«ÃƒÂ°Ã‚Â\\x9dÃ‚Â\\x90Ã‚Å¾ ÃƒÂ°Ã‚Â\\x9dÃ‚Â\\x90Ã‚Â¤ÃƒÂ°Ã‚Â\\x9dÃ‚Â\\x90Ã‚Â¢ÃƒÂ°Ã‚Â\\x9dÃ‚Â\\x90Ã‚Â§ÃƒÂ°Ã‚Â\\x9dÃ‚Â\\x90Ã‚Å¾ÃƒÂ°Ã‚Â\\x9dÃ‚Â\\x90Ã‚Â«ÃƒÂ°Ã‚Â\\x9dÃ‚Â\\x90Ã‚Â£ÃƒÂ°Ã‚Â\\x9dÃ‚Â\\x90Ã‚Å¡ ÃƒÂ°Ã‚Â\\x9dÃ‚Â\\x90Ã‚Â©ÃƒÂ°Ã‚Â\\x9dÃ‚Â\\x90Ã‚Â«ÃƒÂ°Ã‚Â\\x9dÃ‚Â\\x90Ã‚Å¡ÃƒÂ°Ã‚Â\\x9dÃ‚Â\\x90Ã‚â€ºÃƒÂ°Ã‚Â\\x9dÃ‚Â\\x90Ã‚Â¨ÃƒÂ°Ã‚Â\\x9dÃ‚Â\\x90Ã‚Â°ÃƒÂ°Ã‚Â\\x9dÃ‚Â\\x90Ã‚Â¨ ÃƒÂ°Ã‚Â\\x9dÃ‚Â\\x90Ã‚Â\\x9dÃƒÂ°Ã‚Â\\x9dÃ‚Â\\x90Ã‚Â¢ ÃƒÂ°Ã‚Â\\x9dÃ‚Â\\x90Ã‚Å¸ÃƒÂ°Ã‚Â\\x9dÃ‚Â\\x90Ã‚Â¨ÃƒÂ°Ã‚Â\\x9dÃ‚Â\\x90Ã‚Â¨ÃƒÂ°Ã‚Â\\x9dÃ‚Â\\x90Ã‚Â\\x9d ÃƒÂ°Ã‚Â\\x9dÃ‚Â\\x90Ã‚Å¾ÃƒÂ°Ã‚Â\\x9dÃ‚Â\\x90Ã‚Â¬ÃƒÂ°Ã‚Â\\x9dÃ‚Â\\x90Ã‚Â\\xadÃƒÂ°Ã‚Â\\x9dÃ‚Â\\x90Ã‚Å¡ÃƒÂ°Ã‚Â\\x9dÃ‚Â\\x90Ã‚Â\\xadÃƒÂ°Ã‚Â\\x9dÃ‚Â\\x90Ã‚Å¾ 0,7 ÃƒÂ°Ã‚Â\\x9dÃ‚Â\\x90Ã‚Â\\x9dÃƒÂ°Ã‚Â\\x9dÃ‚Â\\x90Ã‚Å¡ÃƒÂ°Ã‚Â\\x9dÃ‚Â\\x90Ã‚Â«ÃƒÂ°Ã‚Â\\x9dÃ‚Â\\x90Ã‚Â¢ 100 Food estate mulai dicanangkan pada 3 tahun lalu, tepatnya pada 6 Juli 2020 ÃƒÂ°Ã‚Â\\x9dÃ‚Â\\x90Ã‚Â\\x8fÃƒÂ°Ã‚Â\\x9dÃ‚Â\\x90Ã‚Â«ÃƒÂ°Ã‚Â\\x9dÃ‚Â\\x90Ã‚Å¾ÃƒÂ°Ã‚Â\\x9dÃ‚Â\\x90Ã‚Â¬ÃƒÂ°Ã‚Â\\x9dÃ‚Â\\x90Ã‚Â¢ÃƒÂ°Ã‚Â\\x9dÃ‚Â\\x90Ã‚Â\\x9dÃƒÂ°Ã‚Â\\x9dÃ‚Â\\x90Ã‚Å¾ÃƒÂ°Ã‚Â\\x9dÃ‚Â\\x90Ã‚Â§ ÃƒÂ°Ã‚Â\\x9dÃ‚Â\\x90Ã‚Â¦ÃƒÂ°Ã‚Â\\x9dÃ‚Â\\x90Ã‚Å¾ÃƒÂ°Ã‚Â\\x9dÃ‚Â\\x90Ã‚Â§ÃƒÂ°Ã‚Â\\x9dÃ‚Â\\x90Ã‚Â®ÃƒÂ°Ã‚Â\\x9dÃ‚Â\\x90Ã‚Â§ÃƒÂ°Ã‚Â\\x9dÃ‚Â\\x90Ã‚Â£ÃƒÂ°Ã‚Â\\x9dÃ‚Â\\x90Ã‚Â®ÃƒÂ°Ã‚Â\\x9dÃ‚Â\\x90Ã‚Â¤ ÃƒÂ°Ã‚Â\\x9dÃ‚Â\\x90Ã‚Â\\x8fÃƒÂ°Ã‚Â\\x9dÃ‚Â\\x90Ã‚Â«ÃƒÂ°Ã‚Â\\x9dÃ‚Â\\x90Ã‚Å¡ÃƒÂ°Ã‚Â\\x9dÃ‚Â\\x90Ã‚â€ºÃƒÂ°Ã‚Â\\x9dÃ‚Â\\x90Ã‚Â¨ÃƒÂ°Ã‚Â\\x9dÃ‚Â\\x90Ã‚Â°ÃƒÂ°Ã‚Â\\x9dÃ‚Â\\x90Ã‚Â¨ ÃƒÂ°Ã‚Â\\x9dÃ‚Â\\x90Ã‚Â¬ÃƒÂ°Ã‚Â\\x9dÃ‚Â\\x90Ã‚Å¾ÃƒÂ°Ã‚Â\\x9dÃ‚Â\\x90Ã‚â€ºÃƒÂ°Ã‚Â\\x9dÃ‚Â\\x90Ã‚Å¡ÃƒÂ°Ã‚Â\\x9dÃ‚Â\\x90 ÃƒÂ°Ã‚Â\\x9dÃ‚Â\\x90Ã‚Å¡ÃƒÂ°Ã‚Â\\x9dÃ‚Â\\x90Ã‚Â¢ ÃƒÂ°Ã‚Â\\x9dÃ‚Â\\x90Ã‚Â¥ÃƒÂ°Ã‚Â\\x9dÃ‚Â\\x90Ã‚Å¾ÃƒÂ°Ã‚Â\\x9dÃ‚Â\\x90Ã‚Å¡ÃƒÂ°Ã‚Â\\x9dÃ‚Â\\x90Ã‚Â\\x9dÃƒÂ°Ã‚Â\\x9dÃ‚Â\\x90Ã‚Å¾ÃƒÂ°Ã‚Â\\x9dÃ‚Â\\x90Ã‚Â« ÃƒÂ°Ã‚Â\\x9dÃ‚Â\\x90Ã‚Â®ÃƒÂ°Ã‚Â\\x9dÃ‚Â\\x90Ã‚Â§ÃƒÂ°Ã‚Â\\x9dÃ‚Â\\x90Ã‚Â\\xadÃƒÂ°Ã‚Â\\x9dÃ‚Â\\x90Ã‚Â®ÃƒÂ°Ã‚Â\\x9dÃ‚Â\\x90Ã‚Â¤ ÃƒÂ°Ã‚Â\\x9dÃ‚Â\\x90Ã‚Â©ÃƒÂ°Ã‚Â\\x9dÃ‚Â\\x90Ã‚Â«ÃƒÂ°Ã‚Â\\x9dÃ‚Â\\x90Ã‚Â¨ÃƒÂ°Ã‚Â\\x9dÃ‚Â\\x90 ÃƒÂ°Ã‚Â\\x9dÃ‚Â\\x90Ã‚Â«ÃƒÂ°Ã‚Â\\x9dÃ‚Â\\x90Ã‚Å¡ÃƒÂ°Ã‚Â\\x9dÃ‚Â\\x90Ã‚Â¦ ÃƒÂ°Ã‚Â\\x9dÃ‚Â\\x90Ã‚Â¢ÃƒÂ°Ã‚Â\\x9dÃ‚Â\\x90Ã‚Â§ÃƒÂ°Ã‚Â\\x9dÃ‚Â\\x90Ã‚Â¢, dibantu oleh menteri PUPR dan menteri pertanian. Secara garis besar, food estate adalah program ekstensifikasi pertanian, membuka lahan yg besar dan mengubahnya menjadi lahan pertanian 2 bulan setelah dicanangkan, food estate mulai dikerjakan di Kalimantan tengah, yaitu daerah gunung emas, sedangkan PT yang terlibat dalam program ini berdasarkan penelusuran Tempo, adalah PT yang baru dibentuk 5 bulan sebelumnya yaitu PT Agrinas dimana susunan direksinya terdapat setidaknya 3 dari Gerindra dan banyak juga staff Agrinas merangkap sebagai pegawai kementerian pertahanan, ÃƒÂ°Ã‚Â\\x9dÃ‚Â\\x90Ã‚Â¦ÃƒÂ°Ã‚Â\\x9dÃ‚Â\\x90Ã‚Â®ÃƒÂ°Ã‚Â\\x9dÃ‚Â\\x90Ã‚Â§ÃƒÂ°Ã‚Â\\x9dÃ‚Â\\x90 ÃƒÂ°Ã‚Â\\x9dÃ‚Â\\x90Ã‚Â¤ÃƒÂ°Ã‚Â\\x9dÃ‚Â\\x90Ã‚Â¢ÃƒÂ°Ã‚Â\\x9dÃ‚Â\\x90Ã‚Â§ ÃƒÂ°Ã‚Â\\x9dÃ‚Â\\x90Ã‚Â¢ÃƒÂ°Ã‚Â\\x9dÃ‚Â\\x90Ã‚Â§ÃƒÂ°Ã‚Â\\x9dÃ‚Â\\x90Ã‚Â¢ ÃƒÂ°Ã‚Â\\x9dÃ‚Â\\x90Ã‚Â²ÃƒÂ°Ã‚Â\\x9dÃ‚Â\\x90Ã‚Å¡ÃƒÂ°Ã‚Â\\x9dÃ‚Â\\x90Ã‚Â§ÃƒÂ°Ã‚Â\\x9dÃ‚Â\\x90 ÃƒÂ°Ã‚Â\\x9dÃ‚Â\\x90Ã‚Â\\x9dÃƒÂ°Ã‚Â\\x9dÃ‚Â\\x90Ã‚Â¢ÃƒÂ°Ã‚Â\\x9dÃ‚Â\\x90Ã‚Â¦ÃƒÂ°Ã‚Â\\x9dÃ‚Â\\x90Ã‚Å¡ÃƒÂ°Ã‚Â\\x9dÃ‚Â\\x90Ã‚Â¤ÃƒÂ°Ã‚Â\\x9dÃ‚Â\\x90Ã‚Â¬ÃƒÂ°Ã‚Â\\x9dÃ‚Â\\x90Ã‚Â®ÃƒÂ°Ã‚Â\\x9dÃ‚Â\\x90Ã‚Â\\x9d ÃƒÂ°Ã‚Â\\x9dÃ‚Â\\x90Ã‚â‚¬ÃƒÂ°Ã‚Â\\x9dÃ‚Â\\x90Ã‚Â§ÃƒÂ°Ã‚Â\\x9dÃ‚Â\\x90Ã‚Â¢ÃƒÂ°Ã‚Â\\x9dÃ‚Â\\x90Ã‚Å¾ÃƒÂ°Ã‚Â\\x9dÃ‚Â\\x90Ã‚Â¬ ÃƒÂ°Ã‚Â\\x9dÃ‚Â\\x90Ã‚Â¬ÃƒÂ°Ã‚Â\\x9dÃ‚Â\\x90Ã‚Å¾ÃƒÂ°Ã‚Â\\x9dÃ‚Â\\x90Ã‚â€ºÃƒÂ°Ã‚Â\\x9dÃ‚Â\\x90Ã‚Å¡ÃƒÂ°Ã‚Â\\x9dÃ‚Â\\x90 ÃƒÂ°Ã‚Â\\x9dÃ‚Â\\x90Ã‚Å¡ÃƒÂ°Ã‚Â\\x9dÃ‚Â\\x90Ã‚Â¢ ÃƒÂ°Ã‚Â\\x9dÃ‚Â\\x90Ã‚Â¨ÃƒÂ°Ã‚Â\\x9dÃ‚Â\\x90Ã‚Â«ÃƒÂ°Ã‚Â\\x9dÃ‚Â\\x90Ã‚Å¡ÃƒÂ°Ã‚Â\\x9dÃ‚Â\\x90Ã‚Â§ÃƒÂ°Ã‚Â\\x9dÃ‚Â\\x90 ÃƒÂ°Ã‚Â\\x9dÃ‚Â\\x90Ã‚Â\\x9dÃƒÂ°Ã‚Â\\x9dÃ‚Â\\x90Ã‚Å¡ÃƒÂ°Ã‚Â\\x9dÃ‚Â\\x90Ã‚Â¥ÃƒÂ°Ã‚Â\\x9dÃ‚Â\\x90Ã‚Å¡ÃƒÂ°Ã‚Â\\x9dÃ‚Â\\x90Ã‚Â¦ di food estate Food estate berencana untuk membuka 6 ribu hektar hutan hujan tropis, tepat 4 bulan setelah dicanangkan, beberapa anggota TNI terlibat dalam pembabatan hutan, dimana hutan yang sudah dibuka saat itu sekitar 670 hektar, dan karena itu adalah hutan tentunya banyak kayu yg dihasilkan, kemanakah kayu2 tersebut? Tiada yang tahu dan tiada yg mengerti Awalnya food estate menanam singkong pada bekas hutan tersebut, namun karena tanahnya berpasir, singkong tak kunjung tumbuh dalam kurun waktu 3 tahun, sehingga untuk menutupi kegagalan tersebut didatangkanlah jagung dalam polibag untuk 3-4 hektare lahan tersebut, dan itupun hasilnya juga tidak memuaskan Dari sisi anggaran, food estate masuk dalam kategori PSN, dimana anggaran yg dihabiskan 2021-2022 sekitar 1,5 triliun, di 2023 ada anggaran sekitar 2,4 triliun dan nanti di 2024 dianggarkan 2,56 triliun.. Jokowi sendiri mengatakan anggaran yang dibutuhkan sekitar 108 triliun.. mengingat menurut laporan PPATK 36% masuk ke kantong ASN dan politisi.. maka 38 triliun bisa masuk ke kantong mereka.. apalagi kalo pelaksananya orang dalam.. pasti akan lebih luar biasa.. dan apa hasilnya setelah 3 tahun berjalan? Bisa dibilang 0 besar karena panen jagungnya juga tidak signifikan Sampai disini, kalo kita merasionalkan menjadi skor penilaian kinerja Prabowo di food estate, maka dapat kita hitung dari lahan yang sudah dibabat yaitu sekitar 670 hektar dibandingkan dengan jagung polybag yg dipanen oleh Jokowi sekitar 4 hektare..atau didapat ÃƒÂ°Ã‚Â\\x9dÃ‚Â\\x90Ã‚Â¡ÃƒÂ°Ã‚Â\\x9dÃ‚Â\\x90Ã‚Å¡ÃƒÂ°Ã‚Â\\x9dÃ‚Â\\x90Ã‚Â§ÃƒÂ°Ã‚Â\\x9dÃ‚Â\\x90Ã‚Â²ÃƒÂ°Ã‚Â\\x9dÃ‚Â\\x90Ã‚Å¡ 0,69%.. jadi ÃƒÂ°Ã‚Â\\x9dÃ‚Â\\x90Ã‚Â¬ÃƒÂ°Ã‚Â\\x9dÃ‚Â\\x90Ã‚Å“ÃƒÂ°Ã‚Â\\x9dÃ‚Â\\x90Ã‚Â¨ÃƒÂ°Ã‚Â\\x9dÃ‚Â\\x90Ã‚Â«ÃƒÂ°Ã‚Â\\x9dÃ‚Â\\x90Ã‚Å¾ ÃƒÂ°Ã‚Â\\x9dÃ‚Â\\x90Ã‚Â\\x8fÃƒÂ°Ã‚Â\\x9dÃ‚Â\\x90Ã‚Â«ÃƒÂ°Ã‚Â\\x9dÃ‚Â\\x90Ã‚Å¡ÃƒÂ°Ã‚Â\\x9dÃ‚Â\\x90Ã‚â€ºÃƒÂ°Ã‚Â\\x9dÃ‚Â\\x90Ã‚Â¨ÃƒÂ°Ã‚Â\\x9dÃ‚Â\\x90Ã‚Â°ÃƒÂ°Ã‚Â\\x9dÃ‚Â\\x90Ã‚Â¨ ÃƒÂ°Ã‚Â\\x9dÃ‚Â\\x90Ã‚Â®ÃƒÂ°Ã‚Â\\x9dÃ‚Â\\x90Ã‚Â§ÃƒÂ°Ã‚Â\\x9dÃ‚Â\\x90Ã‚Â\\xadÃƒÂ°Ã‚Â\\x9dÃ‚Â\\x90Ã‚Â®ÃƒÂ°Ã‚Â\\x9dÃ‚Â\\x90Ã‚Â¤ ÃƒÂ°Ã‚Â\\x9dÃ‚Â\\x90Ã‚Å¸ÃƒÂ°Ã‚Â\\x9dÃ‚Â\\x90Ã‚Â¨ÃƒÂ°Ã‚Â\\x9dÃ‚Â\\x90Ã‚Â¨ÃƒÂ°Ã‚Â\\x9dÃ‚Â\\x90Ã‚Â\\x9d ÃƒÂ°Ã‚Â\\x9dÃ‚Â\\x90Ã‚Å¾ÃƒÂ°Ã‚Â\\x9dÃ‚Â\\x90Ã‚Â¬ÃƒÂ°Ã‚Â\\x9dÃ‚Â\\x90Ã‚Â\\xadÃƒÂ°Ã‚Â\\x9dÃ‚Â\\x90Ã‚Å¡ÃƒÂ°Ã‚Â\\x9dÃ‚Â\\x90Ã‚Â\\xadÃƒÂ°Ã‚Â\\x9dÃ‚Â\\x90Ã‚Å¾ ÃƒÂ°Ã‚Â\\x9dÃ‚Â\\x90Ã‚Å¡ÃƒÂ°Ã‚Â\\x9dÃ‚Â\\x90Ã‚Â\\x9dÃƒÂ°Ã‚Â\\x9dÃ‚Â\\x90Ã‚Å¡ÃƒÂ°Ã‚Â\\x9dÃ‚Â\\x90Ã‚Â¥ÃƒÂ°Ã‚Â\\x9dÃ‚Â\\x90Ã‚Å¡ÃƒÂ°Ã‚Â\\x9dÃ‚Â\\x90Ã‚Â¡ 0,7 ÃƒÂ°Ã‚Â\\x9dÃ‚Â\\x90Ã‚Â\\x9dÃƒÂ°Ã‚Â\\x9dÃ‚Â\\x90Ã‚Å¡ÃƒÂ°Ã‚Â\\x9dÃ‚Â\\x90Ã‚Â«ÃƒÂ°Ã‚Â\\x9dÃ‚Â\\x90Ã‚Â¢ 100, walaupun sudah dikatrol oleh jagung polybag..ÃƒÂ°Ã‚Â\\x9dÃ‚Â\\x90Ã‚Â§ÃƒÂ°Ã‚Â\\x9dÃ‚Â\\x90Ã‚Â¢ÃƒÂ°Ã‚Â\\x9dÃ‚Â\\x90Ã‚Â¥ÃƒÂ°Ã‚Â\\x9dÃ‚Â\\x90Ã‚Å¡ÃƒÂ°Ã‚Â\\x9dÃ‚Â\\x90Ã‚Â¢ ÃƒÂ°Ã‚Â\\x9dÃ‚Â\\x90Ã‚Â¢ÃƒÂ°Ã‚Â\\x9dÃ‚Â\\x90Ã‚Â§ÃƒÂ°Ã‚Â\\x9dÃ‚Â\\x90Ã‚Â¢ ÃƒÂ°Ã‚Â\\x9dÃ‚Â\\x90Ã‚Â£ÃƒÂ°Ã‚Â\\x9dÃ‚Â\\x90Ã‚Å¡ÃƒÂ°Ã‚Â\\x9dÃ‚Â\\x90Ã‚Â®ÃƒÂ°Ã‚Â\\x9dÃ‚Â\\x90Ã‚Â¡ ÃƒÂ°Ã‚Â\\x9dÃ‚Â\\x90Ã‚Â¥ÃƒÂ°Ã‚Â\\x9dÃ‚Â\\x90Ã‚Å¾ÃƒÂ°Ã‚Â\\x9dÃ‚Â\\x90Ã‚â€ºÃƒÂ°Ã‚Â\\x9dÃ‚Â\\x90Ã‚Â¢ÃƒÂ°Ã‚Â\\x9dÃ‚Â\\x90Ã‚Â¡ ÃƒÂ°Ã‚Â\\x9dÃ‚Â\\x90Ã‚Â«ÃƒÂ°Ã‚Â\\x9dÃ‚Â\\x90Ã‚Å¾ÃƒÂ°Ã‚Â\\x9dÃ‚Â\\x90Ã‚Â§ÃƒÂ°Ã‚Â\\x9dÃ‚Â\\x90Ã‚Â\\x9dÃƒÂ°Ã‚Â\\x9dÃ‚Â\\x90Ã‚Å¡ÃƒÂ°Ã‚Â\\x9dÃ‚Â\\x90Ã‚Â¡ ÃƒÂ°Ã‚Â\\x9dÃ‚Â\\x90Ã‚Â\\x9dÃƒÂ°Ã‚Â\\x9dÃ‚Â\\x90Ã‚Å¡ÃƒÂ°Ã‚Â\\x9dÃ‚Â\\x90Ã‚Â«ÃƒÂ°Ã‚Â\\x9dÃ‚Â\\x90Ã‚Â¢ ÃƒÂ°Ã‚Â\\x9dÃ‚Â\\x90Ã‚Â²ÃƒÂ°Ã‚Â\\x9dÃ‚Â\\x90Ã‚Å¡ÃƒÂ°Ã‚Â\\x9dÃ‚Â\\x90Ã‚Â§ÃƒÂ°Ã‚Â\\x9dÃ‚Â\\x90 ÃƒÂ°Ã‚Â\\x9dÃ‚Â\\x90Ã‚Â\\x9dÃƒÂ°Ã‚Â\\x9dÃ‚Â\\x90Ã‚Â¢ÃƒÂ°Ã‚Â\\x9dÃ‚Â\\x90Ã‚â€ºÃƒÂ°Ã‚Â\\x9dÃ‚Â\\x90Ã‚Å¾ÃƒÂ°Ã‚Â\\x9dÃ‚Â\\x90Ã‚Â«ÃƒÂ°Ã‚Â\\x9dÃ‚Â\\x90Ã‚Â¢ÃƒÂ°Ã‚Â\\x9dÃ‚Â\\x90Ã‚Â¤ÃƒÂ°Ã‚Â\\x9dÃ‚Â\\x90Ã‚Å¡ÃƒÂ°Ã‚Â\\x9dÃ‚Â\\x90Ã‚Â§ ÃƒÂ°Ã‚Â\\x9dÃ‚Â\\x90Ã‚Â©ÃƒÂ°Ã‚Â\\x9dÃ‚Â\\x90Ã‚Å¡ÃƒÂ°Ã‚Â\\x9dÃ‚Â\\x90Ã‚Â¤ ÃƒÂ°Ã‚Â\\x9dÃ‚Â\\x90Ã‚â‚¬ÃƒÂ°Ã‚Â\\x9dÃ‚Â\\x90Ã‚Â§ÃƒÂ°Ã‚Â\\x9dÃ‚Â\\x90Ã‚Â¢ÃƒÂ°Ã‚Â\\x9dÃ‚Â\\x90Ã‚Å¾ÃƒÂ°Ã‚Â\\x9dÃ‚Â\\x90Ã‚Â¬ ÃƒÂ°Ã‚Â\\x9dÃ‚Â\\x90Ã‚Â\\x81ÃƒÂ°Ã‚Â\\x9dÃ‚Â\\x90Ã‚Å¡ÃƒÂ°Ã‚Â\\x9dÃ‚Â\\x90Ã‚Â¬ÃƒÂ°Ã‚Â\\x9dÃ‚Â\\x90Ã‚Â°ÃƒÂ°Ã‚Â\\x9dÃ‚Â\\x90Ã‚Å¾ÃƒÂ°Ã‚Â\\x9dÃ‚Â\\x90Ã‚Â\\x9dÃƒÂ°Ã‚Â\\x9dÃ‚Â\\x90Ã‚Å¡ÃƒÂ°Ã‚Â\\x9dÃ‚Â\\x90Ã‚Â§.. sepertinya pak Anies Baswedan masih berbaik hati memberikan score 11 dari 100.. Tanam singkong tumbuh jagung 4 Triliun hilang siapa yg nanggung? Sudah diberi proyek untuk dijadikan panggung Hasilnya gak nendang karena kapasitas nanggung Eh, malah maksa ikut pemilu padahal gampang tersinggung Gimana @BsMWw+QvnUOTF6t9j3WUrS48x/fVyn/fCgLUQzKtEVQ= ? :) #PesanUntukAbah #AMINAjaDulu [RE HusodoYoga]',\n",
       "  'Ekonomi',\n",
       "  6307),\n",
       " (3079,\n",
       "  'RT ÃƒÂ°Ã‚Â\\x9dÃ‚â€”Ã‚â€\\x9dÃƒÂ°Ã‚Â\\x9dÃ‚â€”Ã‚Â»ÃƒÂ°Ã‚Â\\x9dÃ‚â€”Ã‚Â¶ÃƒÂ°Ã‚Â\\x9dÃ‚â€”Ã‚Â²ÃƒÂ°Ã‚Â\\x9dÃ‚ËœÃ‚â‚¬ & ÃƒÂ°Ã‚Â\\x9dÃ‚â€” ÃƒÂ°Ã‚Â\\x9dÃ‚â€”Ã‚Â®ÃƒÂ°Ã‚Â\\x9dÃ‚â€”Ã‚Â¿ÃƒÂ¢Ã‚â‚¬Ã‚â„¢ÃƒÂ°Ã‚Â\\x9dÃ‚â€”Ã‚Â¶ ÃƒÂ°Ã‚Â\\x9dÃ‚â€”Ã‚â„¢ÃƒÂ°Ã‚Â\\x9dÃ‚â€”Ã‚Â²ÃƒÂ°Ã‚Â\\x9dÃ‚â€”Ã‚Â»ÃƒÂ°Ã‚Â\\x9dÃ‚â€”Ã‚Â¼ÃƒÂ°Ã‚Â\\x9dÃ‚â€”Ã‚ÂºÃƒÂ°Ã‚Â\\x9dÃ‚â€”Ã‚Â²ÃƒÂ°Ã‚Â\\x9dÃ‚â€”Ã‚Â»ÃƒÂ°Ã‚Â\\x9dÃ‚â€”Ã‚Â® ÃƒÂ°Ã‚Â\\x9dÃ‚â€”Ã‚Â§ÃƒÂ°Ã‚Â\\x9dÃ‚â€”Ã‚Â¿ÃƒÂ°Ã‚Â\\x9dÃ‚â€”Ã‚Â®ÃƒÂ°Ã‚Â\\x9dÃ‚â€”Ã‚Â»ÃƒÂ°Ã‚Â\\x9dÃ‚ËœÃ‚â‚¬ÃƒÂ°Ã‚Â\\x9dÃ‚â€”Ã‚Â³ÃƒÂ°Ã‚Â\\x9dÃ‚â€”Ã‚Â¼ÃƒÂ°Ã‚Â\\x9dÃ‚â€”Ã‚Â¿ÃƒÂ°Ã‚Â\\x9dÃ‚â€”Ã‚ÂºÃƒÂ°Ã‚Â\\x9dÃ‚â€”Ã‚Â®ÃƒÂ°Ã‚Â\\x9dÃ‚ËœÃ‚â‚¬ÃƒÂ°Ã‚Â\\x9dÃ‚â€”Ã‚Â¶ ÃƒÂ°Ã‚Â\\x9dÃ‚â€”Ã‚Â£ÃƒÂ°Ã‚Â\\x9dÃ‚â€”Ã‚Â¼ÃƒÂ°Ã‚Â\\x9dÃ‚â€”Ã‚Â¹ÃƒÂ°Ã‚Â\\x9dÃ‚â€”Ã‚Â¶ÃƒÂ°Ã‚Â\\x9dÃ‚ËœÃ‚Â\\x81ÃƒÂ°Ã‚Â\\x9dÃ‚â€”Ã‚Â¶ÃƒÂ°Ã‚Â\\x9dÃ‚â€”Ã‚Â¸ ÃƒÂ°Ã‚Â\\x9dÃ‚â€” ÃƒÂ°Ã‚Â\\x9dÃ‚â€”Ã‚Â¶ÃƒÂ°Ã‚Â\\x9dÃ‚â€”Ã‚Â¹ÃƒÂ°Ã‚Â\\x9dÃ‚â€”Ã‚Â¶ÃƒÂ°Ã‚Â\\x9dÃ‚ËœÃ‚Â\\x81ÃƒÂ°Ã‚Â\\x9dÃ‚â€”Ã‚Â²ÃƒÂ°Ã‚Â\\x9dÃ‚â€”Ã‚Â¿ÃƒÂ°Ã‚Â\\x9dÃ‚â€”Ã‚Â¶ÃƒÂ°Ã‚Â\\x9dÃ‚ËœÃ‚â‚¬ÃƒÂ°Ã‚Â\\x9dÃ‚ËœÃ‚Â\\x81ÃƒÂ°Ã‚Â\\x9dÃ‚â€”Ã‚Â¶ÃƒÂ°Ã‚Â\\x9dÃ‚â€”Ã‚Â¸ ÃƒÂ°Ã‚Â\\x9dÃ‚â€” ÃƒÂ°Ã‚Â\\x9dÃ‚â€”Ã‚Â²ÃƒÂ°Ã‚Â\\x9dÃ‚â€”Ã‚Â»ÃƒÂ°Ã‚Â\\x9dÃ‚ËœÃ‚â€šÃƒÂ°Ã‚Â\\x9dÃ‚â€”Ã‚Â·ÃƒÂ°Ã‚Â\\x9dÃ‚ËœÃ‚â€š ÃƒÂ°Ã‚Â\\x9dÃ‚â€”Ã‚Â£ÃƒÂ°Ã‚Â\\x9dÃ‚â€”Ã‚Â¼ÃƒÂ°Ã‚Â\\x9dÃ‚â€”Ã‚Â¹ÃƒÂ°Ã‚Â\\x9dÃ‚â€”Ã‚Â¶ÃƒÂ°Ã‚Â\\x9dÃ‚ËœÃ‚Â\\x81ÃƒÂ°Ã‚Â\\x9dÃ‚â€”Ã‚Â¶ÃƒÂ°Ã‚Â\\x9dÃ‚â€”Ã‚Â¸ ÃƒÂ°Ã‚Â\\x9dÃ‚â€” ÃƒÂ°Ã‚Â\\x9dÃ‚â€”Ã‚Â²ÃƒÂ°Ã‚Â\\x9dÃ‚â€”Ã‚Â¿ÃƒÂ°Ã‚Â\\x9dÃ‚â€”Ã‚Â¶ÃƒÂ°Ã‚Â\\x9dÃ‚ËœÃ‚Â\\x81ÃƒÂ°Ã‚Â\\x9dÃ‚â€”Ã‚Â¼ÃƒÂ°Ã‚Â\\x9dÃ‚â€”Ã‚Â¸ÃƒÂ°Ã‚Â\\x9dÃ‚â€”Ã‚Â¿ÃƒÂ°Ã‚Â\\x9dÃ‚â€”Ã‚Â®ÃƒÂ°Ã‚Â\\x9dÃ‚ËœÃ‚â‚¬ÃƒÂ°Ã‚Â\\x9dÃ‚â€”Ã‚Â¶. Ada yang berpendapat sinis mengatakan bahwa ÃƒÂ¢Ã‚â‚¬Ã‚Å“Sikap dukungan dan Penerimaan Masyarakat PapuaÃƒÂ¢Ã‚â‚¬Ã‚Â\\x9d terhadap Anies Baswedan hanya gimmick kampanye saja. Mereka yang menuduh demikian kali ini justru membawa isue politik identitas dengan mengatakan, ÃƒÂ¢Ã‚â‚¬Ã‚Å“Papua 70% Kristen & Katolik tak mungkin mendukung Anies yang muslim, mestinya pasti mendukung Prabowo, karena Prabowo ibunya beragama KristenÃƒÂ¢Ã‚â‚¬Ã‚Â\\x9d. Tuduhan ini sungguh menggelikan sekaligus memalukan karena pikiran mereka begitu picik dan buta literasi. Mereka pasti tidak kenal dengan ÃƒÂ°Ã‚Â\\x9dÃ‚â€” ÃƒÂ°Ã‚Â\\x9dÃ‚â€”Ã‚Â®ÃƒÂ°Ã‚Â\\x9dÃ‚â€”Ã‚Â¿ÃƒÂ°Ã‚Â\\x9dÃ‚â€”Ã‚Â¶ ÃƒÂ°Ã‚Â\\x9dÃ‚â€”Ã‚Â¯ÃƒÂ°Ã‚Â\\x9dÃ‚â€”Ã‚Â¶ÃƒÂ°Ã‚Â\\x9dÃ‚â€”Ã‚Â» ÃƒÂ°Ã‚Â\\x9dÃ‚â€”Ã‚â€\\x9dÃƒÂ°Ã‚Â\\x9dÃ‚â€”Ã‚ÂºÃƒÂ°Ã‚Â\\x9dÃ‚ËœÃ‚â€šÃƒÂ°Ã‚Â\\x9dÃ‚â€”Ã‚Â±ÃƒÂ°Ã‚Â\\x9dÃ‚â€”Ã‚Â² ÃƒÂ°Ã‚Â\\x9dÃ‚â€”Ã‚â€\\x9dÃƒÂ°Ã‚Â\\x9dÃ‚â€”Ã‚Â¹ÃƒÂ°Ã‚Â\\x9dÃ‚â€”Ã‚Â¸ÃƒÂ°Ã‚Â\\x9dÃ‚â€”Ã‚Â®ÃƒÂ°Ã‚Â\\x9dÃ‚ËœÃ‚Â\\x81ÃƒÂ°Ã‚Â\\x9dÃ‚â€”Ã‚Â¶ÃƒÂ°Ã‚Â\\x9dÃ‚â€”Ã‚Â¿ÃƒÂ°Ã‚Â\\x9dÃ‚â€”Ã‚Â¶, Perdana Menteri Timor Timur yang dilantik pada Tahun 2002 dan 2017. ÃƒÂ°Ã‚Â\\x9dÃ‚â€” ÃƒÂ°Ã‚Â\\x9dÃ‚â€”Ã‚Â®ÃƒÂ°Ã‚Â\\x9dÃ‚â€”Ã‚Â¿ÃƒÂ°Ã‚Â\\x9dÃ‚â€”Ã‚Â¶ ÃƒÂ°Ã‚Â\\x9dÃ‚â€”Ã‚Â¯ÃƒÂ°Ã‚Â\\x9dÃ‚â€”Ã‚Â¶ÃƒÂ°Ã‚Â\\x9dÃ‚â€”Ã‚Â» ÃƒÂ°Ã‚Â\\x9dÃ‚â€”Ã‚â€\\x9dÃƒÂ°Ã‚Â\\x9dÃ‚â€”Ã‚ÂºÃƒÂ°Ã‚Â\\x9dÃ‚ËœÃ‚â€šÃƒÂ°Ã‚Â\\x9dÃ‚â€”Ã‚Â±ÃƒÂ°Ã‚Â\\x9dÃ‚â€”Ã‚Â² ÃƒÂ°Ã‚Â\\x9dÃ‚â€”Ã‚â€\\x9dÃƒÂ°Ã‚Â\\x9dÃ‚â€”Ã‚Â¹ÃƒÂ°Ã‚Â\\x9dÃ‚â€”Ã‚Â¸ÃƒÂ°Ã‚Â\\x9dÃ‚â€”Ã‚Â®ÃƒÂ°Ã‚Â\\x9dÃ‚ËœÃ‚Â\\x81ÃƒÂ°Ã‚Â\\x9dÃ‚â€”Ã‚Â¶ÃƒÂ°Ã‚Â\\x9dÃ‚â€”Ã‚Â¿ÃƒÂ°Ã‚Â\\x9dÃ‚â€”Ã‚Â¶ adalah seorang Arab Hadhrami dan berasal dari suku Al-Kathiri, cabang yang memerintah kesultanan Kathiri di Hadhramaut, yang sekarang menjadi bagian dari Yaman. Dibandingkan dengan Papua yang 70% Kristiani, penduduk Timor Leste justru 99% lebih adalah penganut agama Kristiani. Lalu yang menjadi pertanyaan, mengapa rakyat Timor Leste sampai dua kali menerima ÃƒÂ°Ã‚Â\\x9dÃ‚â€” ÃƒÂ°Ã‚Â\\x9dÃ‚â€”Ã‚Â®ÃƒÂ°Ã‚Â\\x9dÃ‚â€”Ã‚Â¿ÃƒÂ°Ã‚Â\\x9dÃ‚â€”Ã‚Â¶ ÃƒÂ°Ã‚Â\\x9dÃ‚â€”Ã‚â€\\x9dÃƒÂ°Ã‚Â\\x9dÃ‚â€”Ã‚Â¹ÃƒÂ°Ã‚Â\\x9dÃ‚â€”Ã‚Â¸ÃƒÂ°Ã‚Â\\x9dÃ‚â€”Ã‚Â®ÃƒÂ°Ã‚Â\\x9dÃ‚ËœÃ‚Â\\x81ÃƒÂ°Ã‚Â\\x9dÃ‚â€”Ã‚Â¶ÃƒÂ°Ã‚Â\\x9dÃ‚â€”Ã‚Â¿ÃƒÂ°Ã‚Â\\x9dÃ‚â€”Ã‚Â¶ sebagai Perdana Menteri Muslim di negara yang 99% penduduknya beragama Kristen..? Alasan yang paling utama adalah karena rakyat Timor Leste telah begitu trauma dengan politisi dan pendekatan politik yang berkarakter militeristik. Alasan ini serupa dan begitu identik dengan psikologis masyarakat di Papua. Jadi tidak mengherankan jika masyarakat Papua merindukan pemimpin Indonesia yang mampu memahami psikologis penduduk Papua yang trauma terhadap pendekatan militeristik dan melihat ÃƒÂ°Ã‚Â\\x9dÃ‚â€”Ã‚â€\\x9dÃƒÂ°Ã‚Â\\x9dÃ‚â€”Ã‚Â»ÃƒÂ°Ã‚Â\\x9dÃ‚â€”Ã‚Â¶ÃƒÂ°Ã‚Â\\x9dÃ‚â€”Ã‚Â²ÃƒÂ°Ã‚Â\\x9dÃ‚ËœÃ‚â‚¬ ÃƒÂ°Ã‚Â\\x9dÃ‚â€”Ã‚â€¢ÃƒÂ°Ã‚Â\\x9dÃ‚â€”Ã‚Â®ÃƒÂ°Ã‚Â\\x9dÃ‚ËœÃ‚â‚¬ÃƒÂ°Ã‚Â\\x9dÃ‚ËœÃ‚â€žÃƒÂ°Ã‚Â\\x9dÃ‚â€”Ã‚Â²ÃƒÂ°Ã‚Â\\x9dÃ‚â€”Ã‚Â±ÃƒÂ°Ã‚Â\\x9dÃ‚â€”Ã‚Â®ÃƒÂ°Ã‚Â\\x9dÃ‚â€”Ã‚Â» sebagai figur identik dengan apa yang dilihat oleh rakyat Timor Leste pada sosok ÃƒÂ°Ã‚Â\\x9dÃ‚â€” ÃƒÂ°Ã‚Â\\x9dÃ‚â€”Ã‚Â®ÃƒÂ°Ã‚Â\\x9dÃ‚â€”Ã‚Â¿ÃƒÂ°Ã‚Â\\x9dÃ‚â€”Ã‚Â¶ ÃƒÂ°Ã‚Â\\x9dÃ‚â€”Ã‚Â¯ÃƒÂ°Ã‚Â\\x9dÃ‚â€”Ã‚Â¶ÃƒÂ°Ã‚Â\\x9dÃ‚â€”Ã‚Â» ÃƒÂ°Ã‚Â\\x9dÃ‚â€”Ã‚â€\\x9dÃƒÂ°Ã‚Â\\x9dÃ‚â€”Ã‚ÂºÃƒÂ°Ã‚Â\\x9dÃ‚ËœÃ‚â€šÃƒÂ°Ã‚Â\\x9dÃ‚â€”Ã‚Â±ÃƒÂ°Ã‚Â\\x9dÃ‚â€”Ã‚Â² ÃƒÂ°Ã‚Â\\x9dÃ‚â€”Ã‚â€\\x9dÃƒÂ°Ã‚Â\\x9dÃ‚â€”Ã‚Â¹ÃƒÂ°Ã‚Â\\x9dÃ‚â€”Ã‚Â¸ÃƒÂ°Ã‚Â\\x9dÃ‚â€”Ã‚Â®ÃƒÂ°Ã‚Â\\x9dÃ‚ËœÃ‚Â\\x81ÃƒÂ°Ã‚Â\\x9dÃ‚â€”Ã‚Â¶ÃƒÂ°Ã‚Â\\x9dÃ‚â€”Ã‚Â¿ÃƒÂ°Ã‚Â\\x9dÃ‚â€”Ã‚Â¶. Jadi sungguh sangatlah ÃƒÂ°Ã‚Â\\x9dÃ‚â„¢Ã‚â€¹ÃƒÂ°Ã‚Â\\x9dÃ‚â„¢Ã‚Â§ÃƒÂ°Ã‚Â\\x9dÃ‚â„¢Ã‚Å¾ÃƒÂ°Ã‚Â\\x9dÃ‚â„¢Ã‚Â¢ÃƒÂ°Ã‚Â\\x9dÃ‚â„¢Ã‚Å¾ÃƒÂ°Ã‚Â\\x9dÃ‚â„¢Ã‚Â©ÃƒÂ°Ã‚Â\\x9dÃ‚â„¢Ã‚Å¾ÃƒÂ°Ã‚Â\\x9dÃ‚â„¢Ã‚â€º menebarkan isue politik identitas agama di Papua jika modusnya hanya ingin menjauhkan masyarakat Papua dari ÃƒÂ°Ã‚Â\\x9dÃ‚â€”Ã‚â€\\x9dÃƒÂ°Ã‚Â\\x9dÃ‚â€”Ã‚Â»ÃƒÂ°Ã‚Â\\x9dÃ‚â€”Ã‚Â¶ÃƒÂ°Ã‚Â\\x9dÃ‚â€”Ã‚Â²ÃƒÂ°Ã‚Â\\x9dÃ‚ËœÃ‚â‚¬ ÃƒÂ°Ã‚Â\\x9dÃ‚â€”Ã‚â€¢ÃƒÂ°Ã‚Â\\x9dÃ‚â€”Ã‚Â®ÃƒÂ°Ã‚Â\\x9dÃ‚ËœÃ‚â‚¬ÃƒÂ°Ã‚Â\\x9dÃ‚ËœÃ‚â€žÃƒÂ°Ã‚Â\\x9dÃ‚â€”Ã‚Â²ÃƒÂ°Ã‚Â\\x9dÃ‚â€”Ã‚Â±ÃƒÂ°Ã‚Â\\x9dÃ‚â€”Ã‚Â®ÃƒÂ°Ã‚Â\\x9dÃ‚â€”Ã‚Â», ini fakta yang tak bisa ditampik. Pembangunan di Papua mungkin masih jauh tertinggal dibandingkan dengan kota besar lainnya di Indonesia, tapi pemikiran warganya jauh lebih maju dan beradab dari pada isi kepala mereka yang mengaku pintar dan beradab, tapi ternyata ÃƒÂ°Ã‚Â\\x9dÃ‚â€”Ã‚Â¯ÃƒÂ°Ã‚Â\\x9dÃ‚â€”Ã‚Â®ÃƒÂ°Ã‚Â\\x9dÃ‚â€”Ã‚Â¿-ÃƒÂ°Ã‚Â\\x9dÃ‚â€”Ã‚Â¯ÃƒÂ°Ã‚Â\\x9dÃ‚â€”Ã‚Â®ÃƒÂ°Ã‚Â\\x9dÃ‚â€”Ã‚Â¿ ÃƒÂ°Ã‚Â\\x9dÃ‚â€”Ã‚Â±ÃƒÂ°Ã‚Â\\x9dÃ‚â€”Ã‚Â®ÃƒÂ°Ã‚Â\\x9dÃ‚â€”Ã‚Â» ÃƒÂ°Ã‚Â\\x9dÃ‚â€”Ã‚Â½ÃƒÂ°Ã‚Â\\x9dÃ‚â€”Ã‚Â¿ÃƒÂ°Ã‚Â\\x9dÃ‚â€”Ã‚Â¶ÃƒÂ°Ã‚Â\\x9dÃ‚â€”Ã‚ÂºÃƒÂ°Ã‚Â\\x9dÃ‚â€”Ã‚Â¶ÃƒÂ°Ã‚Â\\x9dÃ‚ËœÃ‚Â\\x81ÃƒÂ°Ã‚Â\\x9dÃ‚â€”Ã‚Â¶ÃƒÂ°Ã‚Â\\x9dÃ‚â€”Ã‚Â³, rela menjual murah integritas serta akal sehatnya demi menghidupkan kembali politik otoritarian dan politik represif yang berbau militeristik. [RE Naz_lira]',\n",
       "  'Ideologi',\n",
       "  5470),\n",
       " (2789,\n",
       "  'RT Nggak nyangka rame bener twit saya kemarin yang ternyata katanya ÃƒÂ¢Ã‚â‚¬Ã‚ËœdeklarasiÃƒÂ¢Ã‚â‚¬Ã‚â„¢ - sampe banyak di circle saya yang screencapture lalu diforward2. :D Padahal saya bukan siapa-siapa, orang biasa aja :) Saya dukung Pak Jokowi 2014, sampai diundang ke Istana waktu pelantikan. Mas Gibran menikah, saya diundang, bersalaman dengan beliau di pelaminan. 2017 saya mendukung Pak Ahok, berpisah jalan politik dengan Mas Anies yang saya kenal sejak saya memotret untuk Indonesia Mengajar. Berat waktu itu rasanya :D 2019 ketika Pak Jokowi maju lagi, saya sepenuh hati bantu rajin buat konten dan kampanye buat beliau. Semua ini tidak dibayar satu sen pun, tidak masuk grup WA koordinasi resmi apapun. Saya ikut bersorak ketika beliau menang. Saya bersyukur buat semua hal baik yang Pak Jokowi lakukan selama memerintah. Banyak sekali hal baiknya, dari gebrakan2 di hari-hari pertama, sampai mungkin terakhir ini, menjalankan negara kemarin ketika pandemi, sehingga Indonesia bisa melaluinya dengan baik. Belum lagi ekonomi Indonesia yang konsisten jauh lebih baik dari tetangga-tetangga dunia. Saya tidak lupa atau menghilangkan itu semua. Bisa jadi, di dunia multiverse, mungkin Indonesia 2014-2024 ini adalah Indonesia yang terbaik. Karena saya seorang yang tidak suka berandai-andai, saya percayanya demikian: Indonesia 2014-2024 adalah Indonesia yang terbaik. Saya cuma melihat bahwa tiba saatnya masa bakti beliau berakhir, sesuai konstitusi. Saatnya beliau menitipkan mandat ini ke pengemban berikutnya, dan saya, sebagai rakyat, harus memilih penerus beliau. Saya suka sekali kutipan Nelson Mandela, \"May your choices reflect your hopes, not your fears.\" Semoga keputusan-keputusanmu menunjukkan harapanmu, bukan ketakutanmu. Saya capek dan juga menolak, memilih calon pemimpin bangsa karena \\'awas lu nanti dia, awas lu nanti kalo dia, wah ngeri lu jangan dia\\'. Awas, awas, awas, supaya jangan, supaya jangan, supaya jangan. Saya kurang suka. Saya hidup selama ini nggak demikian. Jadi orang yang percaya dan berharap memang selalu dikata-katain di jaman sekarang, \"Elu bego apa goblog atau cuma tolol?\" Tapi Puji Tuhan Alhamdulillah, selama saya hidup, jadi orang yang berharap selalu membawa saya naik sampai di puncak-puncak gunung. Seru. Kecewa sekali, senangnya 20 kali. Oke lah :) Orang bertubi2 bertanya terus dari kemarin, kenapa Wad? Sederhana, karena dari pilihan capres yang ada, cuma satu yang membuat saya berharap. Beliau pasti mengecewakan saya, pasti janjinya ada yang nggak bisa beliau deliver, pasti nanti partai oposisi akan terus menghantam beliau, menunjukkan kekurangan-kekurangan beliau. I know all that. I\\'m not a child. And the man definetely not a god, nor a saviour. Saya orang dewasa, dah mau umur lima dekade sebentar lagi. Cukup mengerti bahwa sistem politik banyak cacatnya, tahu partai punya kepentingan, tahu yang namanya kekuasaan memabukkan, yang namanya ego mengendalikan keputusan, tahu manusia tidak ada yang sempurna. Rakus lagi, hehehe... Tapi saat ini, saya memilih, berharap. Elu bego apa goblog atau cuma tolol? Berharap sama politisi? Siap ÃƒÂ°Ã‚Å¸Ã‚Â«Ã‚Â¡ \"Being optimistic is not naive, it\\'s leadership.\" Ketika kita memilih untuk optimis, saya percaya kita itu lagi jadi pemimpin atas diri sendiri, memilih untuk optimis. Kalau tidak, buat apa hidup jika tidak ada lagi yang dipercayai? Banyak teman yang sudah menghubungi saya dari kemarin, \"ga bahaya ta?\" - sungguhan khawatir tekanan dan opresi yang akan datang ke saya dan bisnis saya. Saya cuma jawab, \"Kalau saya sampe dipersekusi karena pilihan saya, bukankah itu tanda paling jelas saya tidak boleh memilih kelompok mereka-mereka yang melakukannya?\" Mungkin kalau saya beneran suatu hari sampai dipersekusi, saya malah akan bersuara lebih keras lagi, hehe... Kaga bener ah... Kalau di barisan teman-teman ada yang demikian, tolong dikoreksi ya :) Indahnya buat saya, adalah dalam pesta demokrasi ini, saya bisa berteman karib dengan mereka yang berbeda pilihan. Banyak teman dekat saya berbeda pilihan, namun ga ada yang berbeda sama sekali dalam pertemanan kita. Kalau mau bahas pilihan capres, ayok, tapi dengan santai, kepala dingin, layaknya orang dewasa. Pemilu akan selesai. Kita akan lupakan copras-capres ini. Tapi nanti, tetangga kita yang beda pilihan akan masih tetangga, mereka yang beda capres masih saudara sebangsa. Semoga kita inget itu. Saya selalu percaya PR kita adalah Indonesia vs the world, not Indonesia vs each other. 10 tahun ke depan, dunia akan bergejolak. Siapapun nanti yang jadi presidennya, kita rakyatnya harus bersatu. Saya siap jadi rakyat Pak Prabowo atau Pak Ganjar. Gaskeun. Saya akan dukung Bapak yang terbaik yang saya bisa. Tapi ketika memilih 14 Feb nanti, saya mau memilih karena saya berharap, bukan karena saya takut. Have a great day everyone. Jangan berantem-berantem ya ÃƒÂ°Ã‚Å¸Ã‚Â©Ã‚Â· Indonesia rumah kita bersama ÃƒÂ°Ã‚Å¸Ã‚â€¡Ã‚Â®ÃƒÂ°Ã‚Å¸Ã‚â€¡Ã‚Â© [RE edwardsuhadi]',\n",
       "  'Ideologi',\n",
       "  4942),\n",
       " (1269,\n",
       "  \"RT REDEFINE COMMON SENSE Prabowo Gibran dan pendukungnya secara luar biasa berhasil mendefinisikan common sense (versi mereka). Apa yg sebelumnya tampak aneh, berhasil mereka buat menjadi 'biasa saja', 'wajarnya gitu', atau paling parah adalah 'kamu yg aneh'. Mereka tahu kok kalo mereka itu adalah tim yang 'tidak pas'. Mereka sadar diri kalo lahir dari sesuatu yg buruk. Lalu bagaimana cara plg efektif untuk membuat mereka tampak oke? Definisikan ulang apa itu 'pas'. Recreate apa itu 'buruk'. Trik berikutnya, tempelkan yg 'tidak pas' dan 'buruk' tadi ke pihak lawan. Trik pamungkas tergambar jelas dalam kutipan berikut, yang kebetulan berasal dari Josep Goebbels, Menteri Propaganda Nazi, ÃƒÆ’Ã‚Â¢Ãƒâ€šÃ¢â€šÂ¬Ãƒâ€šÃ…â€œIt would not be impossible to prove with sufficient repetition and a psychological understanding of the people concerned that a square is in fact a circle. They are mere words, and words can be molded until they clothe ideas and disguise.ÃƒÆ’Ã‚Â¢Ãƒâ€šÃ¢â€šÂ¬Ãƒâ€šÃ‚Â\\x9d Yang dalam bahasa sederhana menjadi 'kelabui-sebarkan-repeat'. Gak percaya? Ini contohnya: (1) Yang mengkritik putusan MK 90/2023 disebut anti generasi muda dan gak move on; (2) Isu penculikan dan pelanggaran HAM dibilang gorengan 5 tahunan; (3) Gesture provokatif Gibran di debat Pilpres I adalah ungkapan semangat; (4) Menilai kinerja Menhan 11/100 adalah penghinaan, dan yg berhak menilai kinerja Menhan hanya orang yg kompeten; (5) Menanyakan aset tanah Prabowo saat debat adalah serangan pribadi; (6) Realisasi anggaran belanja Kemhan adalah rahasia negara; (7) Investor IKN adalah rahasia negara; (8) Gibran cawapres paling beretika karena sungkem selepas debat; (9) Menolak IKN berarti Javasentris dan menolak pemerataan pembangunan; (10) Food estate Gunung Mas bukan proyek gagal, kalaupun gagal itu tanggung jawab Kementerian Pertanian; (11) Menolak hilirisasi nikel berarti tidak nasionalis; (12) Mengkritik glorifikasi Prabowo saat melepas kapal bantuan kemanusiaan Palestina dari Kemhan berarti anti kemanusiaan. (13) 'Ndasmu' adalah bahasa yg biasa saja. Kalo kamu cermati, poin (1) s/d (13) menggunakan formula yg mirip. Dikotomi, hitam dan putih, tidak ada opsi kritik, tidak ada opsi beda pendapat. Kamu tidak setuju berarti kamu langsung mendapat label anti berkelanjutan, anti pembangunan, dst. Untuk temen-temen yg lahir sebelum tahun 1990, mungkin ingat formula di atas digunakan oleh Soeharto untuk merepresi lawan politik dan masyarakat. Saat itu menggunakan 'jasa' Departemen Penerangan (yg tugasnya mirip dengan Kementerian Propaganda Nazi). Dengan menggunakan formula di atas, yang digaungkan berulang kali oleh public figure secara masif di sosial media, portal berita dan media massa, tambahkan bumbu pernyataan menteri anggota Partai Kabinet Indonesia plus klarifikasi presiden, dan simsalabim, yg aneh tampak menjadi wajar, dan yg mempertanyakan malah menjadi aneh. Yang kotak bisa disebut sebagai lingkaran. Sesuai dgn kutipan dari Goebbels di atas. Lalu apa yang bisa kamu lakukan? Try this methods. (a) Diskusi. Argumen mereka biasanya ngawur. Kebanyakan berakhir ke pemahaman legal formal yg tidak konsisten; (b) Ingat bahwa kebebasan berpendapat adalah mutlak. Preseden dari keputusan Haris Fatia menyebutkan 'seseorang tidak bisa dihukum atas apa yg ada di dalam pemikiran mereka.'; (c) Sesuatu yg buruk pantas untuk dihentikan, bukan dipaksa terus berlanjut; (d) Jiwa nasionalis seseorang tidak bisa dinilai dari mendukung/tidak mendukung program kerja paslon; (e) Informasi publik adalah hak warga negara; (f) Jangan pernah ngrasa capek meluruskan pola pikir bengkok ini; (g) last but not least, trust ur arguments. Pendukung 02 aslinya gak percaya sama argumen mereka sendiri. Mereka tau bahwa aslinya argumen mereka bengkok. Mari kita bantu orang-orang yg berdiri di depan dan berhadapan langsung dengan Prabowo Gibran. Dukung @qeS2DOJ/NBMUgPqi0D1sL50KinXLniWMKQVPe462nMQ= , @bG9QJsJh4WbLhwxmaHm0oU2kSPcjExwtZsx4yDBWq5g= , @yAxs3xdQVvlZnCV6CthMCe4Vl1n5y6JfxQ+ymOKzBYo= dan @q0qQ+lW/sqLQ0y4CAM0XS1DIYxASTQgY5I0fFcvL3C0= (not in particular order), dalam menghentikan rezim busuk ini. Mereka bisa kalo kita mau bergerak. [RE pedagang_kritik]\",\n",
       "  'Ideologi',\n",
       "  4170)]"
      ]
     },
     "execution_count": 7,
     "metadata": {},
     "output_type": "execute_result"
    }
   ],
   "source": [
    "# Find the most length text\n",
    "counter=[]\n",
    "for i in train_data[\"text\"].values:\n",
    "    counter.append(len(i))\n",
    "sorted(list(zip([i for i in range(len(train_data))], train_data[\"text\"].values, train_data[\"label\"].values,counter)), key = lambda x: x[3], reverse=True)[:10]\n",
    "\n",
    "# Conclusion: Data needs to be cleaned"
   ]
  },
  {
   "cell_type": "markdown",
   "metadata": {},
   "source": [
    "What needs to be cleaned:\n",
    "1. RT\n",
    "2. TAG\n",
    "3. LINK\n",
    "4. Reply\n",
    "5. UTF-8 encoded and emoji\n",
    "6. Number, comma, dot, etc etc\n",
    "7. Kata dengan 1 huruf"
   ]
  },
  {
   "cell_type": "markdown",
   "metadata": {},
   "source": [
    "## Cleaning"
   ]
  },
  {
   "cell_type": "code",
   "execution_count": 18,
   "metadata": {},
   "outputs": [],
   "source": [
    "def cleantext(text: str,\n",
    "              case1:  bool = True,\n",
    "              case2: bool = False):\n",
    "    '''\n",
    "    returns cleaned string from messy raw string that's unreadable for the model.\n",
    "    \n",
    "    Case1: Removes UTF-8 encoded, number, comma, dot, etc. But keeps number on hastag\n",
    "    Case2: This removes hastag entirely\n",
    "    '''\n",
    "    if case1:\n",
    "        # Removes '&amp;' from text, html stuff.\n",
    "        text = re.sub(r'&amp;', '', text)\n",
    "        text = re.sub(r' +',\" \", ''.join(re.findall(r'[ a-zA-Z@0-9[\\]#]',text)))\n",
    "                \n",
    "        # Split input string into parts: hashtags and non-hashtag parts\n",
    "        parts = re.split(r'(#\\w*)', text)\n",
    "\n",
    "        # Pattern to match hashtags\n",
    "        hashtag_pattern = re.compile(r'#\\w*')\n",
    "        # Apply digit replacement to non-hashtag parts\n",
    "        processed_parts = [\n",
    "            part if hashtag_pattern.match(part) else re.sub(r'\\d', '', part)\n",
    "            for part in parts\n",
    "        ]\n",
    "        # Reconstruct the string\n",
    "        text = ''.join(processed_parts)\n",
    "    \n",
    "    # This removes 'RT ' from the text as the first word.\n",
    "    text =re.sub(r'RT ', '', text)\n",
    "    # Change text into lowercase\n",
    "    text = text = text.lower()\n",
    "    # This removes link https\n",
    "    text = re.sub(r'http\\S+', \"\", text)\n",
    "    # Removes Tags  @xxxx\n",
    "    text = re.sub(r'@\\S+ ',\"\", text)\n",
    "    # Removes word with 1 char\n",
    "    text = re.sub(r' \\w ', \" \", text)\n",
    "    # Removes Reply [re xxxx]\n",
    "    text = re.sub(r' \\[re \\w+]',\"\", text)\n",
    "    \n",
    "    if case2: \n",
    "        text = re.sub(r'#\\S+ ', '', text)\n",
    "    \n",
    "    return re.sub(\" +\", \" \", text).strip(\" \")\n",
    "\n",
    "# a = train_data[\"text\"][4]\n",
    "# cleantext(a)"
   ]
  },
  {
   "cell_type": "code",
   "execution_count": 22,
   "metadata": {},
   "outputs": [],
   "source": [
    "# Get cleaned data\n",
    "train_data_cleaned = train_data.copy()\n",
    "train_data_cleaned[\"text\"] = [cleantext(i) for i in train_data_cleaned[\"text\"]]\n",
    "train_data_cleaned[\"text_uncleaned\"] = train_data[\"text\"]\n",
    "\n",
    "# For further examination\n",
    "#train_data_cleaned.to_csv(\"Temp/cleaned_data.csv\")\n",
    "train_data_cleaned = train_data_cleaned.drop(\"text_uncleaned\", axis=1)"
   ]
  },
  {
   "cell_type": "markdown",
   "metadata": {},
   "source": [
    "## Handling"
   ]
  },
  {
   "cell_type": "code",
   "execution_count": 180,
   "metadata": {},
   "outputs": [],
   "source": [
    "# Same value diff target\n",
    "\n",
    "same_val = []\n",
    "for i in np.unique(train_data_cleaned[\"text\"].values):\n",
    "    if (count:= len(train_data_cleaned[train_data_cleaned[\"text\"] == i])) > 1:\n",
    "        df = train_data_cleaned[train_data_cleaned[\"text\"]== i]\n",
    "        if len(unique_label:= df[\"label\"].unique()) >1:\n",
    "            for j in unique_label:\n",
    "                same_val.append([df[df[\"label\"]==j].index, i, j, len(df[df[\"label\"]==j])])\n",
    "\n",
    "pd.DataFrame(same_val, columns=[\"index\", \"text\", \"label\", \"occurence\"]).to_csv(\"Temp/samevalue_difftarget.csv\", index=False)\n",
    "\n",
    "# Conclusion: There's way too much duplicated data"
   ]
  },
  {
   "cell_type": "code",
   "execution_count": 92,
   "metadata": {},
   "outputs": [],
   "source": [
    "# Check same feature same target\n",
    "temp=[]\n",
    "for i, j in enumerate(train_data_cleaned[train_data_cleaned.duplicated()].sort_values(\"text\").values):\n",
    "    temp.append(f'{j[0]} [{j[1]}]')\n",
    "temp = set(temp)\n",
    "\n",
    "sameval_target = []\n",
    "for i in list(temp):\n",
    "    pattern = r\"\\[(.*?)\\]\"\n",
    "    target = re.search(pattern, i)[1]\n",
    "    text = re.sub(pattern, \"\", i).strip(\" \")\n",
    "    the_index = train_data_cleaned[(train_data_cleaned[\"label\"]== target) &\n",
    "                   (train_data_cleaned[\"text\"] == text)].index\n",
    "    for j in range(len(the_index)):\n",
    "        sameval_target.append([the_index[j], text, target])\n",
    "              \n",
    "# pd.DataFrame(sameval_target, columns=[\"index\", \"text\", \"label\"]).to_csv(\"Temp/Same_Value_Target.csv\")"
   ]
  },
  {
   "cell_type": "markdown",
   "metadata": {},
   "source": [
    "# Modelling (Without Handling)"
   ]
  },
  {
   "cell_type": "code",
   "execution_count": 327,
   "metadata": {},
   "outputs": [
    {
     "data": {
      "text/plain": [
       "[{'col': 'label',\n",
       "  'mapping': Sumber Daya Alam           1\n",
       "  Politik                    2\n",
       "  Demografi                  3\n",
       "  Pertahanan dan Keamanan    4\n",
       "  Ideologi                   5\n",
       "  Ekonomi                    6\n",
       "  Sosial Budaya              7\n",
       "  Geografi                   8\n",
       "  NaN                       -2\n",
       "  dtype: int64,\n",
       "  'data_type': dtype('O')}]"
      ]
     },
     "execution_count": 327,
     "metadata": {},
     "output_type": "execute_result"
    }
   ],
   "source": [
    "train_data_cleaned_encoded = train_data_cleaned.copy()\n",
    "\n",
    "encoder = OrdinalEncoder(cols=\"label\")\n",
    "encoder.fit(train_data_cleaned_encoded[\"label\"])\n",
    "train_data_cleaned_encoded[\"label\"] = encoder.transform(train_data_cleaned_encoded[\"label\"])\n",
    "encoder.mapping"
   ]
  },
  {
   "cell_type": "code",
   "execution_count": 259,
   "metadata": {},
   "outputs": [],
   "source": [
    "# DO NOT CHANGE THIS CODE OR THE TESTS MAY NOT WORK\n",
    "vocab_size = 1000\n",
    "embedding_dim = 16\n",
    "max_length = 120\n",
    "trunc_type='post'\n",
    "padding_type='post'\n",
    "oov_tok = \"<OOV>\"\n",
    "training_size = 20000"
   ]
  },
  {
   "cell_type": "code",
   "execution_count": 316,
   "metadata": {},
   "outputs": [],
   "source": [
    "train_sentences, val_sentences, train_labels, val_labels = train_test_split(train_data_cleaned_encoded[\"text\"], train_data_cleaned_encoded[\"label\"], test_size=0.2, random_state=42)"
   ]
  },
  {
   "cell_type": "code",
   "execution_count": 317,
   "metadata": {},
   "outputs": [],
   "source": [
    "#the token\n",
    "tokenizer = Tokenizer(oov_token=oov_tok, num_words=vocab_size)\n",
    "tokenizer.fit_on_texts(train_sentences)\n",
    "\n",
    "def get_paddedsequences(sentences):\n",
    "    sequences = tokenizer.texts_to_sequences(sentences)\n",
    "    return pad_sequences(sequences, maxlen=max_length, padding=padding_type, truncating=trunc_type)\n",
    "\n",
    "training_pad_sequences=get_paddedsequences(train_sentences)\n",
    "validation_pad_sequences=get_paddedsequences(val_sentences)"
   ]
  },
  {
   "cell_type": "code",
   "execution_count": 324,
   "metadata": {},
   "outputs": [],
   "source": [
    "def get_ds(padsequences, labels):\n",
    "    ds = tf.data.Dataset.from_tensor_slices((padsequences, labels))\n",
    "    ds = ds.cache()\n",
    "    ds = ds.batch(32)\n",
    "    return ds.prefetch(tf.data.AUTOTUNE)\n",
    "\n",
    "train_ds=get_ds(training_pad_sequences, train_labels)\n",
    "val_ds=get_ds(validation_pad_sequences, val_labels)"
   ]
  },
  {
   "cell_type": "code",
   "execution_count": 329,
   "metadata": {},
   "outputs": [],
   "source": [
    "def get_model():\n",
    "    model = tf.keras.Sequential([\n",
    "        keras.layers.Embedding(input_dim=vocab_size, output_dim=embedding_dim, input_length=max_length),\n",
    "        keras.layers.BatchNormalization(),\n",
    "        \n",
    "        keras.layers.Bidirectional(tf.keras.layers.LSTM(64,return_sequences=True)),\n",
    "        \n",
    "        keras.layers.GlobalMaxPool1D(),\n",
    "        keras.layers.BatchNormalization(),\n",
    "        keras.layers.Dense(32, activation='relu'),\n",
    "        keras.layers.Dropout(0.3),\n",
    "        \n",
    "        keras.layers.Dense(64, activation='relu'),\n",
    "        keras.layers.Dropout(0.4),\n",
    "        \n",
    "        keras.layers.Dense(9, activation='softmax')\n",
    "    ])\n",
    "    \n",
    "    model.compile(optimizer = tf.keras.optimizers.Adam(0.001), loss=keras.losses.SparseCategoricalCrossentropy(), metrics=\"accuracy\")\n",
    "    return model"
   ]
  },
  {
   "cell_type": "code",
   "execution_count": 330,
   "metadata": {},
   "outputs": [
    {
     "name": "stdout",
     "output_type": "stream",
     "text": [
      "Epoch 1/100\n",
      "125/125 [==============================] - 13s 60ms/step - loss: 1.5259 - accuracy: 0.5397 - val_loss: 1.8192 - val_accuracy: 0.5860\n",
      "Epoch 2/100\n",
      "125/125 [==============================] - 6s 51ms/step - loss: 1.1633 - accuracy: 0.6298 - val_loss: 1.6857 - val_accuracy: 0.5860\n",
      "Epoch 3/100\n",
      "125/125 [==============================] - 7s 52ms/step - loss: 0.9875 - accuracy: 0.6820 - val_loss: 1.6684 - val_accuracy: 0.6170\n",
      "Epoch 4/100\n",
      "125/125 [==============================] - 8s 60ms/step - loss: 0.8367 - accuracy: 0.7312 - val_loss: 1.4289 - val_accuracy: 0.6340\n",
      "Epoch 5/100\n",
      "125/125 [==============================] - 10s 77ms/step - loss: 0.7116 - accuracy: 0.7630 - val_loss: 1.1828 - val_accuracy: 0.6160\n",
      "Epoch 6/100\n",
      "125/125 [==============================] - 7s 58ms/step - loss: 0.6455 - accuracy: 0.7918 - val_loss: 0.9378 - val_accuracy: 0.7010\n",
      "Epoch 7/100\n",
      "125/125 [==============================] - 8s 62ms/step - loss: 0.5628 - accuracy: 0.8145 - val_loss: 1.0008 - val_accuracy: 0.7060\n",
      "Epoch 8/100\n",
      "125/125 [==============================] - 7s 56ms/step - loss: 0.5047 - accuracy: 0.8325 - val_loss: 1.2074 - val_accuracy: 0.7300\n",
      "Epoch 9/100\n",
      "125/125 [==============================] - 7s 58ms/step - loss: 0.4562 - accuracy: 0.8478 - val_loss: 1.1336 - val_accuracy: 0.7290\n",
      "Epoch 10/100\n",
      "125/125 [==============================] - 8s 61ms/step - loss: 0.3915 - accuracy: 0.8725 - val_loss: 1.4146 - val_accuracy: 0.7430\n",
      "Epoch 11/100\n",
      "125/125 [==============================] - 9s 70ms/step - loss: 0.3639 - accuracy: 0.8777 - val_loss: 1.2135 - val_accuracy: 0.6920\n",
      "Epoch 12/100\n",
      "125/125 [==============================] - 9s 68ms/step - loss: 0.3154 - accuracy: 0.8947 - val_loss: 2.3495 - val_accuracy: 0.7270\n",
      "Epoch 13/100\n",
      "125/125 [==============================] - 7s 59ms/step - loss: 0.2936 - accuracy: 0.9007 - val_loss: 3.0277 - val_accuracy: 0.7250\n",
      "Epoch 14/100\n",
      "125/125 [==============================] - 8s 63ms/step - loss: 0.2738 - accuracy: 0.9110 - val_loss: 4.1469 - val_accuracy: 0.6910\n",
      "Epoch 15/100\n",
      "125/125 [==============================] - 8s 61ms/step - loss: 0.2671 - accuracy: 0.9158 - val_loss: 2.3333 - val_accuracy: 0.7240\n",
      "Epoch 16/100\n",
      "125/125 [==============================] - 7s 57ms/step - loss: 0.2402 - accuracy: 0.9205 - val_loss: 3.2030 - val_accuracy: 0.7300\n",
      "Epoch 17/100\n",
      "125/125 [==============================] - 7s 57ms/step - loss: 0.2373 - accuracy: 0.9243 - val_loss: 1.9929 - val_accuracy: 0.7230\n",
      "Epoch 18/100\n",
      "125/125 [==============================] - 8s 60ms/step - loss: 0.2116 - accuracy: 0.9350 - val_loss: 3.3029 - val_accuracy: 0.7320\n",
      "Epoch 19/100\n",
      "125/125 [==============================] - 7s 59ms/step - loss: 0.2096 - accuracy: 0.9298 - val_loss: 2.2248 - val_accuracy: 0.7310\n",
      "Epoch 20/100\n",
      "125/125 [==============================] - 7s 60ms/step - loss: 0.1904 - accuracy: 0.9392 - val_loss: 1.7132 - val_accuracy: 0.6870\n",
      "Epoch 21/100\n",
      "125/125 [==============================] - 8s 65ms/step - loss: 0.1913 - accuracy: 0.9367 - val_loss: 1.7848 - val_accuracy: 0.6670\n",
      "Epoch 22/100\n",
      "125/125 [==============================] - 9s 69ms/step - loss: 0.1747 - accuracy: 0.9442 - val_loss: 2.3907 - val_accuracy: 0.7250\n",
      "Epoch 23/100\n",
      "125/125 [==============================] - 9s 70ms/step - loss: 0.1855 - accuracy: 0.9425 - val_loss: 2.0428 - val_accuracy: 0.7080\n",
      "Epoch 24/100\n",
      "125/125 [==============================] - 8s 65ms/step - loss: 0.1619 - accuracy: 0.9490 - val_loss: 2.0339 - val_accuracy: 0.7110\n",
      "Epoch 25/100\n",
      "125/125 [==============================] - 8s 61ms/step - loss: 0.1738 - accuracy: 0.9455 - val_loss: 2.5162 - val_accuracy: 0.7320\n",
      "Epoch 26/100\n",
      "125/125 [==============================] - 7s 59ms/step - loss: 0.1669 - accuracy: 0.9480 - val_loss: 2.1526 - val_accuracy: 0.6970\n",
      "Epoch 27/100\n",
      "125/125 [==============================] - 7s 59ms/step - loss: 0.1495 - accuracy: 0.9520 - val_loss: 2.5216 - val_accuracy: 0.7190\n",
      "Epoch 28/100\n",
      "125/125 [==============================] - 7s 58ms/step - loss: 0.1700 - accuracy: 0.9465 - val_loss: 2.3133 - val_accuracy: 0.7310\n",
      "Epoch 29/100\n",
      "125/125 [==============================] - 8s 63ms/step - loss: 0.1634 - accuracy: 0.9503 - val_loss: 3.0900 - val_accuracy: 0.7360\n",
      "Epoch 30/100\n",
      "125/125 [==============================] - 8s 63ms/step - loss: 0.1433 - accuracy: 0.9567 - val_loss: 2.4538 - val_accuracy: 0.7190\n",
      "Epoch 31/100\n",
      "125/125 [==============================] - 9s 74ms/step - loss: 0.1432 - accuracy: 0.9545 - val_loss: 2.5903 - val_accuracy: 0.7030\n",
      "Epoch 32/100\n",
      "125/125 [==============================] - 7s 60ms/step - loss: 0.1388 - accuracy: 0.9563 - val_loss: 2.3874 - val_accuracy: 0.7150\n",
      "Epoch 33/100\n",
      "125/125 [==============================] - 7s 60ms/step - loss: 0.1316 - accuracy: 0.9603 - val_loss: 2.2215 - val_accuracy: 0.6560\n",
      "Epoch 34/100\n",
      "125/125 [==============================] - 7s 60ms/step - loss: 0.1145 - accuracy: 0.9643 - val_loss: 2.4807 - val_accuracy: 0.7150\n",
      "Epoch 35/100\n",
      "125/125 [==============================] - 8s 62ms/step - loss: 0.1057 - accuracy: 0.9655 - val_loss: 3.2727 - val_accuracy: 0.7310\n",
      "Epoch 36/100\n",
      "125/125 [==============================] - 7s 58ms/step - loss: 0.1100 - accuracy: 0.9672 - val_loss: 2.7581 - val_accuracy: 0.7270\n",
      "Epoch 37/100\n",
      "125/125 [==============================] - 8s 64ms/step - loss: 0.1151 - accuracy: 0.9672 - val_loss: 3.5908 - val_accuracy: 0.7400\n",
      "Epoch 38/100\n",
      "125/125 [==============================] - 7s 59ms/step - loss: 0.1245 - accuracy: 0.9600 - val_loss: 2.7832 - val_accuracy: 0.7200\n",
      "Epoch 39/100\n",
      "125/125 [==============================] - 8s 62ms/step - loss: 0.1282 - accuracy: 0.9588 - val_loss: 3.4369 - val_accuracy: 0.7370\n",
      "Epoch 40/100\n",
      "125/125 [==============================] - 7s 58ms/step - loss: 0.1159 - accuracy: 0.9640 - val_loss: 2.8258 - val_accuracy: 0.7240\n",
      "Epoch 41/100\n",
      "125/125 [==============================] - 7s 60ms/step - loss: 0.1184 - accuracy: 0.9638 - val_loss: 2.3454 - val_accuracy: 0.7000\n",
      "Epoch 42/100\n",
      "125/125 [==============================] - 8s 61ms/step - loss: 0.0968 - accuracy: 0.9705 - val_loss: 2.1092 - val_accuracy: 0.6750\n",
      "Epoch 43/100\n",
      " 20/125 [===>..........................] - ETA: 7s - loss: 0.1145 - accuracy: 0.9656"
     ]
    },
    {
     "ename": "KeyboardInterrupt",
     "evalue": "",
     "output_type": "error",
     "traceback": [
      "\u001b[1;31m---------------------------------------------------------------------------\u001b[0m",
      "\u001b[1;31mKeyboardInterrupt\u001b[0m                         Traceback (most recent call last)",
      "Cell \u001b[1;32mIn[330], line 2\u001b[0m\n\u001b[0;32m      1\u001b[0m model\u001b[38;5;241m=\u001b[39mget_model()\n\u001b[1;32m----> 2\u001b[0m \u001b[43mmodel\u001b[49m\u001b[38;5;241;43m.\u001b[39;49m\u001b[43mfit\u001b[49m\u001b[43m(\u001b[49m\u001b[43mtrain_ds\u001b[49m\u001b[43m,\u001b[49m\u001b[43m \u001b[49m\u001b[43mvalidation_data\u001b[49m\u001b[38;5;241;43m=\u001b[39;49m\u001b[43mval_ds\u001b[49m\u001b[43m,\u001b[49m\u001b[43m \u001b[49m\u001b[43mepochs\u001b[49m\u001b[38;5;241;43m=\u001b[39;49m\u001b[38;5;241;43m100\u001b[39;49m\u001b[43m)\u001b[49m\n",
      "File \u001b[1;32m~\\AppData\\Local\\Packages\\PythonSoftwareFoundation.Python.3.11_qbz5n2kfra8p0\\LocalCache\\local-packages\\Python311\\site-packages\\keras\\src\\utils\\traceback_utils.py:65\u001b[0m, in \u001b[0;36mfilter_traceback.<locals>.error_handler\u001b[1;34m(*args, **kwargs)\u001b[0m\n\u001b[0;32m     63\u001b[0m filtered_tb \u001b[38;5;241m=\u001b[39m \u001b[38;5;28;01mNone\u001b[39;00m\n\u001b[0;32m     64\u001b[0m \u001b[38;5;28;01mtry\u001b[39;00m:\n\u001b[1;32m---> 65\u001b[0m     \u001b[38;5;28;01mreturn\u001b[39;00m \u001b[43mfn\u001b[49m\u001b[43m(\u001b[49m\u001b[38;5;241;43m*\u001b[39;49m\u001b[43margs\u001b[49m\u001b[43m,\u001b[49m\u001b[43m \u001b[49m\u001b[38;5;241;43m*\u001b[39;49m\u001b[38;5;241;43m*\u001b[39;49m\u001b[43mkwargs\u001b[49m\u001b[43m)\u001b[49m\n\u001b[0;32m     66\u001b[0m \u001b[38;5;28;01mexcept\u001b[39;00m \u001b[38;5;167;01mException\u001b[39;00m \u001b[38;5;28;01mas\u001b[39;00m e:\n\u001b[0;32m     67\u001b[0m     filtered_tb \u001b[38;5;241m=\u001b[39m _process_traceback_frames(e\u001b[38;5;241m.\u001b[39m__traceback__)\n",
      "File \u001b[1;32m~\\AppData\\Local\\Packages\\PythonSoftwareFoundation.Python.3.11_qbz5n2kfra8p0\\LocalCache\\local-packages\\Python311\\site-packages\\keras\\src\\engine\\training.py:1742\u001b[0m, in \u001b[0;36mModel.fit\u001b[1;34m(self, x, y, batch_size, epochs, verbose, callbacks, validation_split, validation_data, shuffle, class_weight, sample_weight, initial_epoch, steps_per_epoch, validation_steps, validation_batch_size, validation_freq, max_queue_size, workers, use_multiprocessing)\u001b[0m\n\u001b[0;32m   1734\u001b[0m \u001b[38;5;28;01mwith\u001b[39;00m tf\u001b[38;5;241m.\u001b[39mprofiler\u001b[38;5;241m.\u001b[39mexperimental\u001b[38;5;241m.\u001b[39mTrace(\n\u001b[0;32m   1735\u001b[0m     \u001b[38;5;124m\"\u001b[39m\u001b[38;5;124mtrain\u001b[39m\u001b[38;5;124m\"\u001b[39m,\n\u001b[0;32m   1736\u001b[0m     epoch_num\u001b[38;5;241m=\u001b[39mepoch,\n\u001b[1;32m   (...)\u001b[0m\n\u001b[0;32m   1739\u001b[0m     _r\u001b[38;5;241m=\u001b[39m\u001b[38;5;241m1\u001b[39m,\n\u001b[0;32m   1740\u001b[0m ):\n\u001b[0;32m   1741\u001b[0m     callbacks\u001b[38;5;241m.\u001b[39mon_train_batch_begin(step)\n\u001b[1;32m-> 1742\u001b[0m     tmp_logs \u001b[38;5;241m=\u001b[39m \u001b[38;5;28;43mself\u001b[39;49m\u001b[38;5;241;43m.\u001b[39;49m\u001b[43mtrain_function\u001b[49m\u001b[43m(\u001b[49m\u001b[43miterator\u001b[49m\u001b[43m)\u001b[49m\n\u001b[0;32m   1743\u001b[0m     \u001b[38;5;28;01mif\u001b[39;00m data_handler\u001b[38;5;241m.\u001b[39mshould_sync:\n\u001b[0;32m   1744\u001b[0m         context\u001b[38;5;241m.\u001b[39masync_wait()\n",
      "File \u001b[1;32m~\\AppData\\Local\\Packages\\PythonSoftwareFoundation.Python.3.11_qbz5n2kfra8p0\\LocalCache\\local-packages\\Python311\\site-packages\\tensorflow\\python\\util\\traceback_utils.py:150\u001b[0m, in \u001b[0;36mfilter_traceback.<locals>.error_handler\u001b[1;34m(*args, **kwargs)\u001b[0m\n\u001b[0;32m    148\u001b[0m filtered_tb \u001b[38;5;241m=\u001b[39m \u001b[38;5;28;01mNone\u001b[39;00m\n\u001b[0;32m    149\u001b[0m \u001b[38;5;28;01mtry\u001b[39;00m:\n\u001b[1;32m--> 150\u001b[0m   \u001b[38;5;28;01mreturn\u001b[39;00m \u001b[43mfn\u001b[49m\u001b[43m(\u001b[49m\u001b[38;5;241;43m*\u001b[39;49m\u001b[43margs\u001b[49m\u001b[43m,\u001b[49m\u001b[43m \u001b[49m\u001b[38;5;241;43m*\u001b[39;49m\u001b[38;5;241;43m*\u001b[39;49m\u001b[43mkwargs\u001b[49m\u001b[43m)\u001b[49m\n\u001b[0;32m    151\u001b[0m \u001b[38;5;28;01mexcept\u001b[39;00m \u001b[38;5;167;01mException\u001b[39;00m \u001b[38;5;28;01mas\u001b[39;00m e:\n\u001b[0;32m    152\u001b[0m   filtered_tb \u001b[38;5;241m=\u001b[39m _process_traceback_frames(e\u001b[38;5;241m.\u001b[39m__traceback__)\n",
      "File \u001b[1;32m~\\AppData\\Local\\Packages\\PythonSoftwareFoundation.Python.3.11_qbz5n2kfra8p0\\LocalCache\\local-packages\\Python311\\site-packages\\tensorflow\\python\\eager\\polymorphic_function\\polymorphic_function.py:825\u001b[0m, in \u001b[0;36mFunction.__call__\u001b[1;34m(self, *args, **kwds)\u001b[0m\n\u001b[0;32m    822\u001b[0m compiler \u001b[38;5;241m=\u001b[39m \u001b[38;5;124m\"\u001b[39m\u001b[38;5;124mxla\u001b[39m\u001b[38;5;124m\"\u001b[39m \u001b[38;5;28;01mif\u001b[39;00m \u001b[38;5;28mself\u001b[39m\u001b[38;5;241m.\u001b[39m_jit_compile \u001b[38;5;28;01melse\u001b[39;00m \u001b[38;5;124m\"\u001b[39m\u001b[38;5;124mnonXla\u001b[39m\u001b[38;5;124m\"\u001b[39m\n\u001b[0;32m    824\u001b[0m \u001b[38;5;28;01mwith\u001b[39;00m OptionalXlaContext(\u001b[38;5;28mself\u001b[39m\u001b[38;5;241m.\u001b[39m_jit_compile):\n\u001b[1;32m--> 825\u001b[0m   result \u001b[38;5;241m=\u001b[39m \u001b[38;5;28;43mself\u001b[39;49m\u001b[38;5;241;43m.\u001b[39;49m\u001b[43m_call\u001b[49m\u001b[43m(\u001b[49m\u001b[38;5;241;43m*\u001b[39;49m\u001b[43margs\u001b[49m\u001b[43m,\u001b[49m\u001b[43m \u001b[49m\u001b[38;5;241;43m*\u001b[39;49m\u001b[38;5;241;43m*\u001b[39;49m\u001b[43mkwds\u001b[49m\u001b[43m)\u001b[49m\n\u001b[0;32m    827\u001b[0m new_tracing_count \u001b[38;5;241m=\u001b[39m \u001b[38;5;28mself\u001b[39m\u001b[38;5;241m.\u001b[39mexperimental_get_tracing_count()\n\u001b[0;32m    828\u001b[0m without_tracing \u001b[38;5;241m=\u001b[39m (tracing_count \u001b[38;5;241m==\u001b[39m new_tracing_count)\n",
      "File \u001b[1;32m~\\AppData\\Local\\Packages\\PythonSoftwareFoundation.Python.3.11_qbz5n2kfra8p0\\LocalCache\\local-packages\\Python311\\site-packages\\tensorflow\\python\\eager\\polymorphic_function\\polymorphic_function.py:857\u001b[0m, in \u001b[0;36mFunction._call\u001b[1;34m(self, *args, **kwds)\u001b[0m\n\u001b[0;32m    854\u001b[0m   \u001b[38;5;28mself\u001b[39m\u001b[38;5;241m.\u001b[39m_lock\u001b[38;5;241m.\u001b[39mrelease()\n\u001b[0;32m    855\u001b[0m   \u001b[38;5;66;03m# In this case we have created variables on the first call, so we run the\u001b[39;00m\n\u001b[0;32m    856\u001b[0m   \u001b[38;5;66;03m# defunned version which is guaranteed to never create variables.\u001b[39;00m\n\u001b[1;32m--> 857\u001b[0m   \u001b[38;5;28;01mreturn\u001b[39;00m \u001b[38;5;28;43mself\u001b[39;49m\u001b[38;5;241;43m.\u001b[39;49m\u001b[43m_no_variable_creation_fn\u001b[49m\u001b[43m(\u001b[49m\u001b[38;5;241;43m*\u001b[39;49m\u001b[43margs\u001b[49m\u001b[43m,\u001b[49m\u001b[43m \u001b[49m\u001b[38;5;241;43m*\u001b[39;49m\u001b[38;5;241;43m*\u001b[39;49m\u001b[43mkwds\u001b[49m\u001b[43m)\u001b[49m  \u001b[38;5;66;03m# pylint: disable=not-callable\u001b[39;00m\n\u001b[0;32m    858\u001b[0m \u001b[38;5;28;01melif\u001b[39;00m \u001b[38;5;28mself\u001b[39m\u001b[38;5;241m.\u001b[39m_variable_creation_fn \u001b[38;5;129;01mis\u001b[39;00m \u001b[38;5;129;01mnot\u001b[39;00m \u001b[38;5;28;01mNone\u001b[39;00m:\n\u001b[0;32m    859\u001b[0m   \u001b[38;5;66;03m# Release the lock early so that multiple threads can perform the call\u001b[39;00m\n\u001b[0;32m    860\u001b[0m   \u001b[38;5;66;03m# in parallel.\u001b[39;00m\n\u001b[0;32m    861\u001b[0m   \u001b[38;5;28mself\u001b[39m\u001b[38;5;241m.\u001b[39m_lock\u001b[38;5;241m.\u001b[39mrelease()\n",
      "File \u001b[1;32m~\\AppData\\Local\\Packages\\PythonSoftwareFoundation.Python.3.11_qbz5n2kfra8p0\\LocalCache\\local-packages\\Python311\\site-packages\\tensorflow\\python\\eager\\polymorphic_function\\tracing_compiler.py:148\u001b[0m, in \u001b[0;36mTracingCompiler.__call__\u001b[1;34m(self, *args, **kwargs)\u001b[0m\n\u001b[0;32m    145\u001b[0m \u001b[38;5;28;01mwith\u001b[39;00m \u001b[38;5;28mself\u001b[39m\u001b[38;5;241m.\u001b[39m_lock:\n\u001b[0;32m    146\u001b[0m   (concrete_function,\n\u001b[0;32m    147\u001b[0m    filtered_flat_args) \u001b[38;5;241m=\u001b[39m \u001b[38;5;28mself\u001b[39m\u001b[38;5;241m.\u001b[39m_maybe_define_function(args, kwargs)\n\u001b[1;32m--> 148\u001b[0m \u001b[38;5;28;01mreturn\u001b[39;00m \u001b[43mconcrete_function\u001b[49m\u001b[38;5;241;43m.\u001b[39;49m\u001b[43m_call_flat\u001b[49m\u001b[43m(\u001b[49m\n\u001b[0;32m    149\u001b[0m \u001b[43m    \u001b[49m\u001b[43mfiltered_flat_args\u001b[49m\u001b[43m,\u001b[49m\u001b[43m \u001b[49m\u001b[43mcaptured_inputs\u001b[49m\u001b[38;5;241;43m=\u001b[39;49m\u001b[43mconcrete_function\u001b[49m\u001b[38;5;241;43m.\u001b[39;49m\u001b[43mcaptured_inputs\u001b[49m\u001b[43m)\u001b[49m\n",
      "File \u001b[1;32m~\\AppData\\Local\\Packages\\PythonSoftwareFoundation.Python.3.11_qbz5n2kfra8p0\\LocalCache\\local-packages\\Python311\\site-packages\\tensorflow\\python\\eager\\polymorphic_function\\monomorphic_function.py:1349\u001b[0m, in \u001b[0;36mConcreteFunction._call_flat\u001b[1;34m(self, args, captured_inputs)\u001b[0m\n\u001b[0;32m   1345\u001b[0m possible_gradient_type \u001b[38;5;241m=\u001b[39m gradients_util\u001b[38;5;241m.\u001b[39mPossibleTapeGradientTypes(args)\n\u001b[0;32m   1346\u001b[0m \u001b[38;5;28;01mif\u001b[39;00m (possible_gradient_type \u001b[38;5;241m==\u001b[39m gradients_util\u001b[38;5;241m.\u001b[39mPOSSIBLE_GRADIENT_TYPES_NONE\n\u001b[0;32m   1347\u001b[0m     \u001b[38;5;129;01mand\u001b[39;00m executing_eagerly):\n\u001b[0;32m   1348\u001b[0m   \u001b[38;5;66;03m# No tape is watching; skip to running the function.\u001b[39;00m\n\u001b[1;32m-> 1349\u001b[0m   \u001b[38;5;28;01mreturn\u001b[39;00m \u001b[38;5;28mself\u001b[39m\u001b[38;5;241m.\u001b[39m_build_call_outputs(\u001b[38;5;28;43mself\u001b[39;49m\u001b[38;5;241;43m.\u001b[39;49m\u001b[43m_inference_function\u001b[49m\u001b[43m(\u001b[49m\u001b[38;5;241;43m*\u001b[39;49m\u001b[43margs\u001b[49m\u001b[43m)\u001b[49m)\n\u001b[0;32m   1350\u001b[0m forward_backward \u001b[38;5;241m=\u001b[39m \u001b[38;5;28mself\u001b[39m\u001b[38;5;241m.\u001b[39m_select_forward_and_backward_functions(\n\u001b[0;32m   1351\u001b[0m     args,\n\u001b[0;32m   1352\u001b[0m     possible_gradient_type,\n\u001b[0;32m   1353\u001b[0m     executing_eagerly)\n\u001b[0;32m   1354\u001b[0m forward_function, args_with_tangents \u001b[38;5;241m=\u001b[39m forward_backward\u001b[38;5;241m.\u001b[39mforward()\n",
      "File \u001b[1;32m~\\AppData\\Local\\Packages\\PythonSoftwareFoundation.Python.3.11_qbz5n2kfra8p0\\LocalCache\\local-packages\\Python311\\site-packages\\tensorflow\\python\\eager\\polymorphic_function\\atomic_function.py:196\u001b[0m, in \u001b[0;36mAtomicFunction.__call__\u001b[1;34m(self, *args)\u001b[0m\n\u001b[0;32m    194\u001b[0m \u001b[38;5;28;01mwith\u001b[39;00m record\u001b[38;5;241m.\u001b[39mstop_recording():\n\u001b[0;32m    195\u001b[0m   \u001b[38;5;28;01mif\u001b[39;00m \u001b[38;5;28mself\u001b[39m\u001b[38;5;241m.\u001b[39m_bound_context\u001b[38;5;241m.\u001b[39mexecuting_eagerly():\n\u001b[1;32m--> 196\u001b[0m     outputs \u001b[38;5;241m=\u001b[39m \u001b[38;5;28;43mself\u001b[39;49m\u001b[38;5;241;43m.\u001b[39;49m\u001b[43m_bound_context\u001b[49m\u001b[38;5;241;43m.\u001b[39;49m\u001b[43mcall_function\u001b[49m\u001b[43m(\u001b[49m\n\u001b[0;32m    197\u001b[0m \u001b[43m        \u001b[49m\u001b[38;5;28;43mself\u001b[39;49m\u001b[38;5;241;43m.\u001b[39;49m\u001b[43mname\u001b[49m\u001b[43m,\u001b[49m\n\u001b[0;32m    198\u001b[0m \u001b[43m        \u001b[49m\u001b[38;5;28;43mlist\u001b[39;49m\u001b[43m(\u001b[49m\u001b[43margs\u001b[49m\u001b[43m)\u001b[49m\u001b[43m,\u001b[49m\n\u001b[0;32m    199\u001b[0m \u001b[43m        \u001b[49m\u001b[38;5;28;43mlen\u001b[39;49m\u001b[43m(\u001b[49m\u001b[38;5;28;43mself\u001b[39;49m\u001b[38;5;241;43m.\u001b[39;49m\u001b[43mfunction_type\u001b[49m\u001b[38;5;241;43m.\u001b[39;49m\u001b[43mflat_outputs\u001b[49m\u001b[43m)\u001b[49m\u001b[43m,\u001b[49m\n\u001b[0;32m    200\u001b[0m \u001b[43m    \u001b[49m\u001b[43m)\u001b[49m\n\u001b[0;32m    201\u001b[0m   \u001b[38;5;28;01melse\u001b[39;00m:\n\u001b[0;32m    202\u001b[0m     outputs \u001b[38;5;241m=\u001b[39m make_call_op_in_graph(\u001b[38;5;28mself\u001b[39m, \u001b[38;5;28mlist\u001b[39m(args))\n",
      "File \u001b[1;32m~\\AppData\\Local\\Packages\\PythonSoftwareFoundation.Python.3.11_qbz5n2kfra8p0\\LocalCache\\local-packages\\Python311\\site-packages\\tensorflow\\python\\eager\\context.py:1457\u001b[0m, in \u001b[0;36mContext.call_function\u001b[1;34m(self, name, tensor_inputs, num_outputs)\u001b[0m\n\u001b[0;32m   1455\u001b[0m cancellation_context \u001b[38;5;241m=\u001b[39m cancellation\u001b[38;5;241m.\u001b[39mcontext()\n\u001b[0;32m   1456\u001b[0m \u001b[38;5;28;01mif\u001b[39;00m cancellation_context \u001b[38;5;129;01mis\u001b[39;00m \u001b[38;5;28;01mNone\u001b[39;00m:\n\u001b[1;32m-> 1457\u001b[0m   outputs \u001b[38;5;241m=\u001b[39m \u001b[43mexecute\u001b[49m\u001b[38;5;241;43m.\u001b[39;49m\u001b[43mexecute\u001b[49m\u001b[43m(\u001b[49m\n\u001b[0;32m   1458\u001b[0m \u001b[43m      \u001b[49m\u001b[43mname\u001b[49m\u001b[38;5;241;43m.\u001b[39;49m\u001b[43mdecode\u001b[49m\u001b[43m(\u001b[49m\u001b[38;5;124;43m\"\u001b[39;49m\u001b[38;5;124;43mutf-8\u001b[39;49m\u001b[38;5;124;43m\"\u001b[39;49m\u001b[43m)\u001b[49m\u001b[43m,\u001b[49m\n\u001b[0;32m   1459\u001b[0m \u001b[43m      \u001b[49m\u001b[43mnum_outputs\u001b[49m\u001b[38;5;241;43m=\u001b[39;49m\u001b[43mnum_outputs\u001b[49m\u001b[43m,\u001b[49m\n\u001b[0;32m   1460\u001b[0m \u001b[43m      \u001b[49m\u001b[43minputs\u001b[49m\u001b[38;5;241;43m=\u001b[39;49m\u001b[43mtensor_inputs\u001b[49m\u001b[43m,\u001b[49m\n\u001b[0;32m   1461\u001b[0m \u001b[43m      \u001b[49m\u001b[43mattrs\u001b[49m\u001b[38;5;241;43m=\u001b[39;49m\u001b[43mattrs\u001b[49m\u001b[43m,\u001b[49m\n\u001b[0;32m   1462\u001b[0m \u001b[43m      \u001b[49m\u001b[43mctx\u001b[49m\u001b[38;5;241;43m=\u001b[39;49m\u001b[38;5;28;43mself\u001b[39;49m\u001b[43m,\u001b[49m\n\u001b[0;32m   1463\u001b[0m \u001b[43m  \u001b[49m\u001b[43m)\u001b[49m\n\u001b[0;32m   1464\u001b[0m \u001b[38;5;28;01melse\u001b[39;00m:\n\u001b[0;32m   1465\u001b[0m   outputs \u001b[38;5;241m=\u001b[39m execute\u001b[38;5;241m.\u001b[39mexecute_with_cancellation(\n\u001b[0;32m   1466\u001b[0m       name\u001b[38;5;241m.\u001b[39mdecode(\u001b[38;5;124m\"\u001b[39m\u001b[38;5;124mutf-8\u001b[39m\u001b[38;5;124m\"\u001b[39m),\n\u001b[0;32m   1467\u001b[0m       num_outputs\u001b[38;5;241m=\u001b[39mnum_outputs,\n\u001b[1;32m   (...)\u001b[0m\n\u001b[0;32m   1471\u001b[0m       cancellation_manager\u001b[38;5;241m=\u001b[39mcancellation_context,\n\u001b[0;32m   1472\u001b[0m   )\n",
      "File \u001b[1;32m~\\AppData\\Local\\Packages\\PythonSoftwareFoundation.Python.3.11_qbz5n2kfra8p0\\LocalCache\\local-packages\\Python311\\site-packages\\tensorflow\\python\\eager\\execute.py:53\u001b[0m, in \u001b[0;36mquick_execute\u001b[1;34m(op_name, num_outputs, inputs, attrs, ctx, name)\u001b[0m\n\u001b[0;32m     51\u001b[0m \u001b[38;5;28;01mtry\u001b[39;00m:\n\u001b[0;32m     52\u001b[0m   ctx\u001b[38;5;241m.\u001b[39mensure_initialized()\n\u001b[1;32m---> 53\u001b[0m   tensors \u001b[38;5;241m=\u001b[39m \u001b[43mpywrap_tfe\u001b[49m\u001b[38;5;241;43m.\u001b[39;49m\u001b[43mTFE_Py_Execute\u001b[49m\u001b[43m(\u001b[49m\u001b[43mctx\u001b[49m\u001b[38;5;241;43m.\u001b[39;49m\u001b[43m_handle\u001b[49m\u001b[43m,\u001b[49m\u001b[43m \u001b[49m\u001b[43mdevice_name\u001b[49m\u001b[43m,\u001b[49m\u001b[43m \u001b[49m\u001b[43mop_name\u001b[49m\u001b[43m,\u001b[49m\n\u001b[0;32m     54\u001b[0m \u001b[43m                                      \u001b[49m\u001b[43minputs\u001b[49m\u001b[43m,\u001b[49m\u001b[43m \u001b[49m\u001b[43mattrs\u001b[49m\u001b[43m,\u001b[49m\u001b[43m \u001b[49m\u001b[43mnum_outputs\u001b[49m\u001b[43m)\u001b[49m\n\u001b[0;32m     55\u001b[0m \u001b[38;5;28;01mexcept\u001b[39;00m core\u001b[38;5;241m.\u001b[39m_NotOkStatusException \u001b[38;5;28;01mas\u001b[39;00m e:\n\u001b[0;32m     56\u001b[0m   \u001b[38;5;28;01mif\u001b[39;00m name \u001b[38;5;129;01mis\u001b[39;00m \u001b[38;5;129;01mnot\u001b[39;00m \u001b[38;5;28;01mNone\u001b[39;00m:\n",
      "\u001b[1;31mKeyboardInterrupt\u001b[0m: "
     ]
    }
   ],
   "source": [
    "model=get_model()\n",
    "model.fit(train_ds, validation_data=val_ds, epochs=100)"
   ]
  }
 ],
 "metadata": {
  "kernelspec": {
   "display_name": "Python 3",
   "language": "python",
   "name": "python3"
  },
  "language_info": {
   "codemirror_mode": {
    "name": "ipython",
    "version": 3
   },
   "file_extension": ".py",
   "mimetype": "text/x-python",
   "name": "python",
   "nbconvert_exporter": "python",
   "pygments_lexer": "ipython3",
   "version": "3.11.9"
  }
 },
 "nbformat": 4,
 "nbformat_minor": 2
}
