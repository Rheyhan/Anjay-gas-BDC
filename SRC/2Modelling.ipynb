{
 "cells": [
  {
   "cell_type": "code",
   "execution_count": 6,
   "metadata": {},
   "outputs": [],
   "source": [
    "import pandas as pd\n",
    "import numpy as np\n",
    "\n",
    "from sklearn.preprocessing import LabelEncoder\n",
    "import tensorflow as tf\n",
    "from tensorflow import keras\n",
    "from keras.preprocessing.text import Tokenizer\n",
    "from keras_preprocessing.sequence import pad_sequences\n",
    "from keras import backend as K\n",
    "from sklearn.metrics import balanced_accuracy_score\n",
    "\n",
    "from sklearn.model_selection import train_test_split\n",
    "\n",
    "import os\n",
    "import sys"
   ]
  },
  {
   "cell_type": "code",
   "execution_count": 7,
   "metadata": {},
   "outputs": [],
   "source": [
    "def create_submission(predicted, path = \"submission.csv\"):\n",
    "    folder_loc = '/'.join([i for i in path.split(\"/\")][:-1])\n",
    "    if not os.path.exists(folder_loc) and folder_loc != '':\n",
    "        os.makedirs(folder_loc)\n",
    "    df = pd.read_excel(\"Data/Submission_Format.xlsx\")\n",
    "    df[\"label\"] = predicted\n",
    "    df.to_csv(path, index=False)"
   ]
  },
  {
   "cell_type": "code",
   "execution_count": 14,
   "metadata": {},
   "outputs": [],
   "source": [
    "# input Data\n",
    "df_handling = pd.read_csv(\"../Temp/Handling/nodrop_v2_translated_lemarized_stopwords.csv\").iloc[:,1:]\n",
    "df_nonhandling = pd.read_csv(\"../Temp/cleaned_datav2_translated_lemarized_stopwords.csv\")"
   ]
  },
  {
   "cell_type": "markdown",
   "metadata": {},
   "source": [
    "# Tensorflow Bi-LSTM"
   ]
  },
  {
   "cell_type": "code",
   "execution_count": 30,
   "metadata": {},
   "outputs": [
    {
     "name": "stdout",
     "output_type": "stream",
     "text": [
      "PY version   : 3.9.18 (main, Sep 11 2023, 14:09:26) [MSC v.1916 64 bit (AMD64)]\n",
      "Hardware     : PhysicalDevice(name='/physical_device:GPU:0', device_type='GPU')\n"
     ]
    }
   ],
   "source": [
    "# Was run on\n",
    "print(f'PY version   : {sys.version}\\nHardware     : {tf.config.list_physical_devices()[-1]}')"
   ]
  },
  {
   "cell_type": "markdown",
   "metadata": {},
   "source": [
    "## Handling"
   ]
  },
  {
   "cell_type": "code",
   "execution_count": 15,
   "metadata": {},
   "outputs": [
    {
     "name": "stdout",
     "output_type": "stream",
     "text": [
      "{'Demografi': 0, 'Ekonomi': 1, 'Geografi': 2, 'Ideologi': 3, 'Pertahanan dan Keamanan': 4, 'Politik': 5, 'Sosial Budaya': 6, 'Sumber Daya Alam': 7}\n"
     ]
    }
   ],
   "source": [
    "label_encoder = LabelEncoder()\n",
    "df_handling['label'] = label_encoder.fit_transform(df_handling['label'])\n",
    "\n",
    "# Print label mapping\n",
    "label_mapping = dict(zip(label_encoder.classes_, label_encoder.transform(label_encoder.classes_)))\n",
    "print(label_mapping)"
   ]
  },
  {
   "cell_type": "code",
   "execution_count": 16,
   "metadata": {},
   "outputs": [],
   "source": [
    "# DO NOT CHANGE THIS CODE OR THE TESTS MAY NOT WORK\n",
    "vocab_size = 1000\n",
    "embedding_dim = 16\n",
    "max_length = 120\n",
    "trunc_type='post'\n",
    "padding_type='post'\n",
    "oov_tok = \"<OOV>\"\n",
    "training_size = 20000"
   ]
  },
  {
   "cell_type": "code",
   "execution_count": 17,
   "metadata": {},
   "outputs": [],
   "source": [
    "train_sentences, val_sentences, train_labels, val_labels = train_test_split(df_handling[\"text\"], df_handling[\"label\"], test_size=0.2, random_state=42)"
   ]
  },
  {
   "cell_type": "code",
   "execution_count": 18,
   "metadata": {},
   "outputs": [],
   "source": [
    "#the token\n",
    "tokenizer = Tokenizer(oov_token=oov_tok, num_words=vocab_size)\n",
    "tokenizer.fit_on_texts(train_sentences)\n",
    "\n",
    "def get_paddedsequences(sentences):\n",
    "    sequences = tokenizer.texts_to_sequences(sentences)\n",
    "    return pad_sequences(sequences, maxlen=max_length, padding=padding_type, truncating=trunc_type)\n",
    "\n",
    "training_pad_sequences=get_paddedsequences(train_sentences)\n",
    "validation_pad_sequences=get_paddedsequences(val_sentences)"
   ]
  },
  {
   "cell_type": "code",
   "execution_count": 19,
   "metadata": {},
   "outputs": [],
   "source": [
    "def get_ds(padsequences, labels):\n",
    "    ds = tf.data.Dataset.from_tensor_slices((padsequences, labels))\n",
    "    ds = ds.cache()\n",
    "    ds = ds.batch(32)\n",
    "    return ds.prefetch(tf.data.AUTOTUNE)\n",
    "\n",
    "train_ds=get_ds(training_pad_sequences, train_labels)\n",
    "val_ds=get_ds(validation_pad_sequences, val_labels)"
   ]
  },
  {
   "cell_type": "code",
   "execution_count": 20,
   "metadata": {},
   "outputs": [],
   "source": [
    "def get_model():\n",
    "    model = tf.keras.Sequential([\n",
    "        keras.layers.Embedding(input_dim=vocab_size, output_dim=embedding_dim, input_length=max_length),\n",
    "        keras.layers.BatchNormalization(),\n",
    "        \n",
    "        keras.layers.Bidirectional(tf.keras.layers.LSTM(64,return_sequences=True)),\n",
    "        \n",
    "        keras.layers.GlobalMaxPool1D(),\n",
    "        keras.layers.BatchNormalization(),\n",
    "        keras.layers.Dense(32, activation='relu'),\n",
    "        keras.layers.Dropout(0.3),\n",
    "        \n",
    "        keras.layers.Dense(64, activation='relu'),\n",
    "        keras.layers.Dropout(0.4),\n",
    "        \n",
    "        keras.layers.Dense(8, activation='softmax')\n",
    "    ])\n",
    "    \n",
    "    model.compile(optimizer = tf.keras.optimizers.Adam(0.001), loss=keras.losses.SparseCategoricalCrossentropy(), metrics=[\"accuracy\"])\n",
    "    return model"
   ]
  },
  {
   "cell_type": "code",
   "execution_count": 22,
   "metadata": {},
   "outputs": [
    {
     "name": "stdout",
     "output_type": "stream",
     "text": [
      "Epoch 1/10\n",
      "594/594 [==============================] - 25s 35ms/step - loss: 0.8923 - accuracy: 0.6917 - val_loss: 0.6777 - val_accuracy: 0.7826\n",
      "Epoch 2/10\n",
      "594/594 [==============================] - 19s 32ms/step - loss: 0.3568 - accuracy: 0.8914 - val_loss: 0.2453 - val_accuracy: 0.9215\n",
      "Epoch 3/10\n",
      "594/594 [==============================] - 18s 31ms/step - loss: 0.2598 - accuracy: 0.9215 - val_loss: 0.2054 - val_accuracy: 0.9329\n",
      "Epoch 4/10\n",
      "594/594 [==============================] - 18s 31ms/step - loss: 0.2127 - accuracy: 0.9360 - val_loss: 0.2020 - val_accuracy: 0.9387\n",
      "Epoch 5/10\n",
      "594/594 [==============================] - 18s 30ms/step - loss: 0.1906 - accuracy: 0.9414 - val_loss: 0.2047 - val_accuracy: 0.9385\n",
      "Epoch 6/10\n",
      "594/594 [==============================] - 18s 31ms/step - loss: 0.1646 - accuracy: 0.9486 - val_loss: 0.1998 - val_accuracy: 0.9385\n",
      "Epoch 7/10\n",
      "594/594 [==============================] - 20s 33ms/step - loss: 0.1590 - accuracy: 0.9509 - val_loss: 0.2252 - val_accuracy: 0.9379\n",
      "Epoch 8/10\n",
      "594/594 [==============================] - 18s 30ms/step - loss: 0.1487 - accuracy: 0.9564 - val_loss: 0.2080 - val_accuracy: 0.9379\n",
      "Epoch 9/10\n",
      "594/594 [==============================] - 19s 32ms/step - loss: 0.1353 - accuracy: 0.9590 - val_loss: 0.2186 - val_accuracy: 0.9352\n",
      "Epoch 10/10\n",
      "594/594 [==============================] - 19s 32ms/step - loss: 0.1233 - accuracy: 0.9604 - val_loss: 0.2107 - val_accuracy: 0.9381\n"
     ]
    },
    {
     "data": {
      "text/plain": [
       "<keras.callbacks.History at 0x14ff1194760>"
      ]
     },
     "execution_count": 22,
     "metadata": {},
     "output_type": "execute_result"
    }
   ],
   "source": [
    "model=get_model()\n",
    "model.fit(train_ds, validation_data=val_ds, epochs=10)"
   ]
  },
  {
   "cell_type": "code",
   "execution_count": 23,
   "metadata": {},
   "outputs": [
    {
     "name": "stdout",
     "output_type": "stream",
     "text": [
      "149/149 [==============================] - 3s 12ms/step\n"
     ]
    },
    {
     "data": {
      "text/plain": [
       "0.9383464754103183"
      ]
     },
     "execution_count": 23,
     "metadata": {},
     "output_type": "execute_result"
    }
   ],
   "source": [
    "predicted_class_labels = model.predict(validation_pad_sequences)\n",
    "predicted_class_labels = np.argmax(predicted_class_labels, axis=1)\n",
    "balanced_accuracy_score(val_labels, predicted_class_labels)"
   ]
  },
  {
   "cell_type": "markdown",
   "metadata": {},
   "source": [
    "## Non Handling"
   ]
  },
  {
   "cell_type": "code",
   "execution_count": 24,
   "metadata": {},
   "outputs": [
    {
     "name": "stdout",
     "output_type": "stream",
     "text": [
      "{'Demografi': 0, 'Ekonomi': 1, 'Geografi': 2, 'Ideologi': 3, 'Pertahanan dan Keamanan': 4, 'Politik': 5, 'Sosial Budaya': 6, 'Sumber Daya Alam': 7}\n"
     ]
    }
   ],
   "source": [
    "label_encoder = LabelEncoder()\n",
    "df_nonhandling['label'] = label_encoder.fit_transform(df_nonhandling['label'])\n",
    "\n",
    "# Print label mapping\n",
    "label_mapping = dict(zip(label_encoder.classes_, label_encoder.transform(label_encoder.classes_)))\n",
    "print(label_mapping)"
   ]
  },
  {
   "cell_type": "code",
   "execution_count": 25,
   "metadata": {},
   "outputs": [],
   "source": [
    "train_sentences, val_sentences, train_labels, val_labels = train_test_split(df_nonhandling[\"text\"], df_nonhandling[\"label\"], test_size=0.2, random_state=42)"
   ]
  },
  {
   "cell_type": "code",
   "execution_count": 26,
   "metadata": {},
   "outputs": [],
   "source": [
    "training_pad_sequences=get_paddedsequences(train_sentences)\n",
    "validation_pad_sequences=get_paddedsequences(val_sentences)\n",
    "\n",
    "train_ds=get_ds(training_pad_sequences, train_labels)\n",
    "val_ds=get_ds(validation_pad_sequences, val_labels)"
   ]
  },
  {
   "cell_type": "code",
   "execution_count": 27,
   "metadata": {},
   "outputs": [
    {
     "name": "stdout",
     "output_type": "stream",
     "text": [
      "Epoch 1/10\n",
      "125/125 [==============================] - 9s 43ms/step - loss: 1.5165 - accuracy: 0.5200 - val_loss: 1.6256 - val_accuracy: 0.6106\n",
      "Epoch 2/10\n",
      "125/125 [==============================] - 4s 32ms/step - loss: 1.1183 - accuracy: 0.6455 - val_loss: 1.4068 - val_accuracy: 0.6106\n",
      "Epoch 3/10\n",
      "125/125 [==============================] - 4s 32ms/step - loss: 0.9208 - accuracy: 0.7047 - val_loss: 1.2709 - val_accuracy: 0.6106\n",
      "Epoch 4/10\n",
      "125/125 [==============================] - 4s 34ms/step - loss: 0.8115 - accuracy: 0.7400 - val_loss: 1.0908 - val_accuracy: 0.6527\n",
      "Epoch 5/10\n",
      "125/125 [==============================] - 4s 32ms/step - loss: 0.7177 - accuracy: 0.7635 - val_loss: 0.8847 - val_accuracy: 0.7477\n",
      "Epoch 6/10\n",
      "125/125 [==============================] - 4s 32ms/step - loss: 0.6281 - accuracy: 0.8016 - val_loss: 0.8982 - val_accuracy: 0.7568\n",
      "Epoch 7/10\n",
      "125/125 [==============================] - 4s 31ms/step - loss: 0.5719 - accuracy: 0.8066 - val_loss: 0.9542 - val_accuracy: 0.7588\n",
      "Epoch 8/10\n",
      "125/125 [==============================] - 4s 31ms/step - loss: 0.5217 - accuracy: 0.8259 - val_loss: 0.9433 - val_accuracy: 0.7357\n",
      "Epoch 9/10\n",
      "125/125 [==============================] - 4s 30ms/step - loss: 0.4781 - accuracy: 0.8432 - val_loss: 1.2236 - val_accuracy: 0.7437\n",
      "Epoch 10/10\n",
      "125/125 [==============================] - 4s 30ms/step - loss: 0.4261 - accuracy: 0.8595 - val_loss: 1.1808 - val_accuracy: 0.7497\n"
     ]
    },
    {
     "data": {
      "text/plain": [
       "<keras.callbacks.History at 0x14fffc5a7f0>"
      ]
     },
     "execution_count": 27,
     "metadata": {},
     "output_type": "execute_result"
    }
   ],
   "source": [
    "model=get_model()\n",
    "model.fit(train_ds, validation_data=val_ds, epochs=10)"
   ]
  },
  {
   "cell_type": "code",
   "execution_count": 29,
   "metadata": {},
   "outputs": [
    {
     "name": "stdout",
     "output_type": "stream",
     "text": [
      "32/32 [==============================] - 1s 14ms/step\n"
     ]
    },
    {
     "data": {
      "text/plain": [
       "0.46413441482977946"
      ]
     },
     "execution_count": 29,
     "metadata": {},
     "output_type": "execute_result"
    }
   ],
   "source": [
    "predicted_class_labels = model.predict(validation_pad_sequences)\n",
    "predicted_class_labels = np.argmax(predicted_class_labels, axis=1)\n",
    "balanced_accuracy_score(val_labels, predicted_class_labels)"
   ]
  },
  {
   "cell_type": "markdown",
   "metadata": {},
   "source": [
    "# Indobert"
   ]
  },
  {
   "cell_type": "code",
   "execution_count": null,
   "metadata": {},
   "outputs": [],
   "source": [
    "import torch\n",
    "from transformers import BertTokenizer, BertForSequenceClassification, Trainer, TrainingArguments"
   ]
  },
  {
   "cell_type": "markdown",
   "metadata": {},
   "source": [
    "## Non Handling"
   ]
  },
  {
   "cell_type": "code",
   "execution_count": null,
   "metadata": {},
   "outputs": [],
   "source": [
    "df = pd.read_csv(\"../TEMP/cleaned_datav2_translated_lemarized_stopwords.csv\")"
   ]
  },
  {
   "cell_type": "code",
   "execution_count": null,
   "metadata": {},
   "outputs": [],
   "source": [
    "# Load IndoBERT tokenizer and model\n",
    "tokenizer = BertTokenizer.from_pretrained('indolem/indobert-base-uncased')\n",
    "model = BertForSequenceClassification.from_pretrained('indolem/indobert-base-uncased', num_labels=len(label_mapping))\n",
    "\n",
    "# Check if GPU is available\n",
    "device = torch.device('cuda:0' if torch.cuda.is_available() else 'cpu')\n",
    "\n",
    "# Move model to the same device\n",
    "model.to(device)"
   ]
  },
  {
   "cell_type": "code",
   "execution_count": null,
   "metadata": {},
   "outputs": [],
   "source": [
    "# Tokenize the input texts\n",
    "inputs = tokenizer(df['text'].tolist(), padding=True, truncation=True, max_length=512, return_tensors='pt')\n",
    "labels = torch.tensor(df['label'].values)\n",
    "\n",
    "# Create a dataset class with correct label type\n",
    "class SimpleDataset(torch.utils.data.Dataset):\n",
    "    def __init__(self, encodings, labels):\n",
    "        self.encodings = encodings\n",
    "        self.labels = labels\n",
    "\n",
    "    def __getitem__(self, idx):\n",
    "        item = {key: torch.tensor(val[idx]) for key, val in self.encodings.items()}\n",
    "        item['labels'] = torch.tensor(self.labels[idx], dtype=torch.long)\n",
    "        return item\n",
    "\n",
    "    def __len__(self):\n",
    "        return len(self.labels)\n",
    "\n",
    "# Create the dataset\n",
    "dataset = SimpleDataset(inputs, labels)"
   ]
  },
  {
   "cell_type": "code",
   "execution_count": null,
   "metadata": {},
   "outputs": [],
   "source": [
    "# Define training arguments\n",
    "training_args = TrainingArguments(\n",
    "    output_dir='./results',          # Output directory\n",
    "    num_train_epochs=10,              # Number of training epochs\n",
    "    per_device_train_batch_size=2,   # Batch size for training\n",
    "    warmup_steps=500,                # Number of warmup steps\n",
    "    weight_decay=0.01,               # Strength of weight decay\n",
    "    logging_dir='./logs',            # Directory for storing logs\n",
    ")\n",
    "\n",
    "# Initialize Trainer\n",
    "trainer = Trainer(\n",
    "    model=model,                         # The instantiated 🤗 Transformers model to be trained\n",
    "    args=training_args,                  # Training arguments\n",
    "    train_dataset=dataset,               # Training dataset\n",
    ")\n",
    "\n",
    "# Train the model\n",
    "trainer.train()"
   ]
  },
  {
   "cell_type": "code",
   "execution_count": null,
   "metadata": {},
   "outputs": [],
   "source": [
    "# Tokenize input text\n",
    "text = \"jokowi menerapkan kebiakan\"\n",
    "inputs = tokenizer(text, return_tensors='pt', padding=True, truncation=True, max_length=512)\n",
    "\n",
    "# Move input tensors to the same device as the model\n",
    "inputs = {key: tensor.to(device) for key, tensor in inputs.items()}\n",
    "\n",
    "# Perform inference\n",
    "model.eval()  # Set model to evaluation mode\n",
    "with torch.no_grad():\n",
    "    outputs = model(**inputs)\n",
    "\n",
    "# Get predictions\n",
    "predictions = torch.argmax(outputs.logits, dim=1)\n",
    "\n",
    "predicted_label = label_encoder.inverse_transform(predictions.cpu())[0]\n",
    "predicted_label"
   ]
  }
 ],
 "metadata": {
  "kernelspec": {
   "display_name": "Python 3",
   "language": "python",
   "name": "python3"
  },
  "language_info": {
   "codemirror_mode": {
    "name": "ipython",
    "version": 3
   },
   "file_extension": ".py",
   "mimetype": "text/x-python",
   "name": "python",
   "nbconvert_exporter": "python",
   "pygments_lexer": "ipython3",
   "version": "3.9.18"
  }
 },
 "nbformat": 4,
 "nbformat_minor": 2
}
