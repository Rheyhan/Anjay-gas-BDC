{
 "cells": [
  {
   "cell_type": "code",
   "execution_count": 1,
   "metadata": {},
   "outputs": [],
   "source": [
    "import pandas as pd\n",
    "import numpy as np\n",
    "\n",
    "from sklearn.preprocessing import LabelEncoder\n",
    "import tensorflow as tf\n",
    "from tensorflow import keras\n",
    "from keras.preprocessing.text import Tokenizer\n",
    "from keras_preprocessing.sequence import pad_sequences\n",
    "from keras import backend as K\n",
    "from sklearn.metrics import balanced_accuracy_score\n",
    "\n",
    "from sklearn.model_selection import train_test_split\n",
    "\n",
    "import os\n",
    "import sys\n",
    "from tqdm import tqdm\n",
    "\n",
    "from sklearn.feature_extraction.text import TfidfVectorizer\n",
    "from imblearn.over_sampling import SMOTE"
   ]
  },
  {
   "cell_type": "code",
   "execution_count": 2,
   "metadata": {},
   "outputs": [],
   "source": [
    "# DO NOT CHANGE THIS CODE OR THE TESTS MAY NOT WORK\n",
    "vocab_size = 1000\n",
    "embedding_dim = 16\n",
    "max_length = 120\n",
    "trunc_type='post'\n",
    "padding_type='post'\n",
    "oov_tok = \"<OOV>\"\n",
    "training_size = 20000"
   ]
  },
  {
   "cell_type": "code",
   "execution_count": 3,
   "metadata": {},
   "outputs": [],
   "source": [
    "def get_paddedsequences(sentences, tokenizer):\n",
    "    sequences = tokenizer.texts_to_sequences(sentences)\n",
    "    return pad_sequences(sequences, maxlen=max_length, padding=padding_type, truncating=trunc_type)\n",
    "\n",
    "def get_ds(padsequences, labels):\n",
    "    ds = tf.data.Dataset.from_tensor_slices((padsequences, labels))\n",
    "    ds = ds.cache()\n",
    "    ds = ds.batch(32)\n",
    "    return ds.prefetch(tf.data.AUTOTUNE)"
   ]
  },
  {
   "cell_type": "code",
   "execution_count": 4,
   "metadata": {},
   "outputs": [],
   "source": [
    "def get_model():\n",
    "    model = tf.keras.Sequential([\n",
    "        keras.layers.Embedding(input_dim=vocab_size, output_dim=embedding_dim, input_length=max_length),\n",
    "        keras.layers.BatchNormalization(),\n",
    "        \n",
    "        keras.layers.Bidirectional(tf.keras.layers.LSTM(64,return_sequences=True)),\n",
    "        \n",
    "        keras.layers.GlobalMaxPool1D(),\n",
    "        keras.layers.BatchNormalization(),\n",
    "        keras.layers.Dense(32, activation='relu'),\n",
    "        keras.layers.Dropout(0.3),\n",
    "        \n",
    "        keras.layers.Dense(64, activation='relu'),\n",
    "        keras.layers.Dropout(0.4),\n",
    "        \n",
    "        keras.layers.Dense(8, activation='softmax')\n",
    "    ])\n",
    "    \n",
    "    model.compile(optimizer = tf.keras.optimizers.Adam(0.001), loss=keras.losses.SparseCategoricalCrossentropy(), metrics=[\"accuracy\"])\n",
    "    return model"
   ]
  },
  {
   "cell_type": "code",
   "execution_count": 5,
   "metadata": {},
   "outputs": [],
   "source": [
    "# input Data\n",
    "df_handled =  pd.read_csv(\"../Temp/cleaned_datav2_translated_lemarized_stopwords_Handled.csv\").iloc[:,1:]\n",
    "df_unhandled = pd.read_csv(\"../Temp/cleaned_datav2_translated_lemarized_stopwords.csv\")"
   ]
  },
  {
   "cell_type": "markdown",
   "metadata": {},
   "source": [
    "### Unhandled"
   ]
  },
  {
   "cell_type": "code",
   "execution_count": 8,
   "metadata": {},
   "outputs": [
    {
     "name": "stdout",
     "output_type": "stream",
     "text": [
      "{'Demografi': 0, 'Ekonomi': 1, 'Geografi': 2, 'Ideologi': 3, 'Pertahanan dan Keamanan': 4, 'Politik': 5, 'Sosial Budaya': 6, 'Sumber Daya Alam': 7}\n"
     ]
    }
   ],
   "source": [
    "label_encoder = LabelEncoder()\n",
    "df_unhandled['label'] = label_encoder.fit_transform(df_unhandled['label'])\n",
    "\n",
    "# Print label mapping\n",
    "label_mapping = dict(zip(label_encoder.classes_, label_encoder.transform(label_encoder.classes_)))\n",
    "print(label_mapping)"
   ]
  },
  {
   "cell_type": "code",
   "execution_count": 9,
   "metadata": {},
   "outputs": [],
   "source": [
    "train_sentences, val_sentences, train_labels, val_labels = train_test_split(df_unhandled[\"text\"], df_unhandled[\"label\"], test_size=0.2, random_state=42)"
   ]
  },
  {
   "cell_type": "code",
   "execution_count": 19,
   "metadata": {},
   "outputs": [],
   "source": [
    "#the token\n",
    "tokenizer = Tokenizer(oov_token=oov_tok, num_words=vocab_size)\n",
    "tokenizer.fit_on_texts(train_sentences)\n",
    "\n",
    "training_pad_sequences=get_paddedsequences(train_sentences, tokenizer)\n",
    "validation_pad_sequences=get_paddedsequences(val_sentences, tokenizer)"
   ]
  },
  {
   "cell_type": "code",
   "execution_count": 20,
   "metadata": {},
   "outputs": [],
   "source": [
    "train_ds=get_ds(training_pad_sequences, train_labels)\n",
    "val_ds=get_ds(validation_pad_sequences, val_labels)"
   ]
  },
  {
   "cell_type": "code",
   "execution_count": 23,
   "metadata": {},
   "outputs": [
    {
     "name": "stdout",
     "output_type": "stream",
     "text": [
      "Epoch 1/10\n",
      "125/125 [==============================] - 9s 39ms/step - loss: 1.5063 - accuracy: 0.5401 - val_loss: 1.7473 - val_accuracy: 0.6106\n",
      "Epoch 2/10\n",
      "125/125 [==============================] - 4s 34ms/step - loss: 1.1291 - accuracy: 0.6425 - val_loss: 1.7644 - val_accuracy: 0.6106\n",
      "Epoch 3/10\n",
      "125/125 [==============================] - 4s 33ms/step - loss: 0.9701 - accuracy: 0.6831 - val_loss: 1.6058 - val_accuracy: 0.6196\n",
      "Epoch 4/10\n",
      "125/125 [==============================] - 4s 34ms/step - loss: 0.8184 - accuracy: 0.7365 - val_loss: 1.3742 - val_accuracy: 0.6837\n",
      "Epoch 5/10\n",
      "125/125 [==============================] - 5s 37ms/step - loss: 0.7170 - accuracy: 0.7538 - val_loss: 1.0696 - val_accuracy: 0.7217\n",
      "Epoch 6/10\n",
      "125/125 [==============================] - 4s 34ms/step - loss: 0.6326 - accuracy: 0.7851 - val_loss: 0.9112 - val_accuracy: 0.7217\n",
      "Epoch 7/10\n",
      "125/125 [==============================] - 4s 35ms/step - loss: 0.5533 - accuracy: 0.8121 - val_loss: 0.9844 - val_accuracy: 0.7237\n",
      "Epoch 8/10\n",
      "125/125 [==============================] - 4s 33ms/step - loss: 0.5315 - accuracy: 0.8241 - val_loss: 0.9503 - val_accuracy: 0.7177\n",
      "Epoch 9/10\n",
      "125/125 [==============================] - 4s 35ms/step - loss: 0.4454 - accuracy: 0.8497 - val_loss: 1.0188 - val_accuracy: 0.7007\n",
      "Epoch 10/10\n",
      "125/125 [==============================] - 4s 32ms/step - loss: 0.4170 - accuracy: 0.8582 - val_loss: 1.2059 - val_accuracy: 0.7427\n"
     ]
    },
    {
     "data": {
      "text/plain": [
       "<keras.callbacks.History at 0x170a38444f0>"
      ]
     },
     "execution_count": 23,
     "metadata": {},
     "output_type": "execute_result"
    }
   ],
   "source": [
    "model=get_model()\n",
    "model.fit(train_ds, validation_data=val_ds, epochs=10)"
   ]
  },
  {
   "cell_type": "code",
   "execution_count": 24,
   "metadata": {},
   "outputs": [
    {
     "name": "stdout",
     "output_type": "stream",
     "text": [
      "32/32 [==============================] - 1s 12ms/step\n"
     ]
    },
    {
     "data": {
      "text/plain": [
       "0.4359616264333467"
      ]
     },
     "execution_count": 24,
     "metadata": {},
     "output_type": "execute_result"
    }
   ],
   "source": [
    "predicted_class_labels = model.predict(validation_pad_sequences)\n",
    "predicted_class_labels = np.argmax(predicted_class_labels, axis=1)\n",
    "balanced_accuracy_score(val_labels, predicted_class_labels)"
   ]
  },
  {
   "cell_type": "markdown",
   "metadata": {},
   "source": [
    "### Handled + SMOTE"
   ]
  },
  {
   "cell_type": "code",
   "execution_count": 18,
   "metadata": {},
   "outputs": [
    {
     "name": "stdout",
     "output_type": "stream",
     "text": [
      "{0: 0, 1: 1, 2: 2, 3: 3, 4: 4, 5: 5, 6: 6, 7: 7}\n"
     ]
    }
   ],
   "source": [
    "label_encoder = LabelEncoder()\n",
    "df_handled['label'] = label_encoder.fit_transform(df_handled['label'])\n",
    "\n",
    "# Print label mapping\n",
    "label_mapping = dict(zip(label_encoder.classes_, label_encoder.transform(label_encoder.classes_)))\n",
    "print(label_mapping)"
   ]
  },
  {
   "cell_type": "code",
   "execution_count": 19,
   "metadata": {},
   "outputs": [],
   "source": [
    "train_sentences, val_sentences, train_labels, val_labels = train_test_split(df_handled[\"text\"], df_handled[\"label\"], test_size=0.2, random_state=42)"
   ]
  },
  {
   "cell_type": "code",
   "execution_count": 20,
   "metadata": {},
   "outputs": [],
   "source": [
    "#the token\n",
    "tokenizer = Tokenizer(oov_token=oov_tok, num_words=vocab_size)\n",
    "tokenizer.fit_on_texts(train_sentences)\n",
    "\n",
    "training_pad_sequences=get_paddedsequences(train_sentences, tokenizer)\n",
    "validation_pad_sequences=get_paddedsequences(val_sentences, tokenizer)"
   ]
  },
  {
   "cell_type": "code",
   "execution_count": 21,
   "metadata": {},
   "outputs": [],
   "source": [
    "smote = SMOTE()\n",
    "X_resampled, y_resampled = smote.fit_resample(training_pad_sequences, train_labels)"
   ]
  },
  {
   "cell_type": "code",
   "execution_count": 25,
   "metadata": {},
   "outputs": [],
   "source": [
    "train_ds=get_ds(X_resampled, y_resampled)\n",
    "val_ds=get_ds(validation_pad_sequences, val_labels)"
   ]
  },
  {
   "cell_type": "code",
   "execution_count": 26,
   "metadata": {},
   "outputs": [
    {
     "name": "stdout",
     "output_type": "stream",
     "text": [
      "Epoch 1/10\n",
      "575/575 [==============================] - 27s 37ms/step - loss: 1.8939 - accuracy: 0.3373 - val_loss: 2.8473 - val_accuracy: 0.0667\n",
      "Epoch 2/10\n",
      "575/575 [==============================] - 19s 34ms/step - loss: 1.6626 - accuracy: 0.4013 - val_loss: 17.8768 - val_accuracy: 0.0351\n",
      "Epoch 3/10\n",
      "575/575 [==============================] - 22s 38ms/step - loss: 1.6149 - accuracy: 0.4155 - val_loss: 29.4486 - val_accuracy: 0.0351\n",
      "Epoch 4/10\n",
      "575/575 [==============================] - 19s 32ms/step - loss: 1.4795 - accuracy: 0.5075 - val_loss: 7.6882 - val_accuracy: 0.0340\n",
      "Epoch 5/10\n",
      "575/575 [==============================] - 18s 31ms/step - loss: 1.3249 - accuracy: 0.5783 - val_loss: 14.4096 - val_accuracy: 0.0351\n",
      "Epoch 6/10\n",
      "575/575 [==============================] - 22s 38ms/step - loss: 1.3065 - accuracy: 0.5739 - val_loss: 15.5586 - val_accuracy: 0.0340\n",
      "Epoch 7/10\n",
      "575/575 [==============================] - 31s 54ms/step - loss: 1.1962 - accuracy: 0.6310 - val_loss: 10.2035 - val_accuracy: 0.0340\n",
      "Epoch 8/10\n",
      "575/575 [==============================] - 21s 36ms/step - loss: 1.1775 - accuracy: 0.6317 - val_loss: 2.7687 - val_accuracy: 0.0363\n",
      "Epoch 9/10\n",
      "575/575 [==============================] - 19s 33ms/step - loss: 1.1311 - accuracy: 0.6390 - val_loss: 8.5186 - val_accuracy: 0.0351\n",
      "Epoch 10/10\n",
      "575/575 [==============================] - 18s 32ms/step - loss: 1.1987 - accuracy: 0.6328 - val_loss: 20.4561 - val_accuracy: 0.0340\n"
     ]
    },
    {
     "data": {
      "text/plain": [
       "<keras.callbacks.History at 0x1ac11b0b8e0>"
      ]
     },
     "execution_count": 26,
     "metadata": {},
     "output_type": "execute_result"
    }
   ],
   "source": [
    "model=get_model()\n",
    "model.fit(train_ds, validation_data=val_ds, epochs=10)"
   ]
  },
  {
   "cell_type": "code",
   "execution_count": 27,
   "metadata": {},
   "outputs": [
    {
     "name": "stdout",
     "output_type": "stream",
     "text": [
      "27/27 [==============================] - 1s 13ms/step\n"
     ]
    },
    {
     "data": {
      "text/plain": [
       "0.12083333333333333"
      ]
     },
     "execution_count": 27,
     "metadata": {},
     "output_type": "execute_result"
    }
   ],
   "source": [
    "predicted_class_labels = model.predict(validation_pad_sequences)\n",
    "predicted_class_labels = np.argmax(predicted_class_labels, axis=1)\n",
    "balanced_accuracy_score(val_labels, predicted_class_labels)"
   ]
  },
  {
   "cell_type": "markdown",
   "metadata": {},
   "source": [
    "### Handled"
   ]
  },
  {
   "cell_type": "code",
   "execution_count": 7,
   "metadata": {},
   "outputs": [],
   "source": [
    "train_sentences, val_sentences, train_labels, val_labels = train_test_split(df_handled[\"text\"], df_handled[\"label\"], test_size=0.2, random_state=42)"
   ]
  },
  {
   "cell_type": "code",
   "execution_count": 8,
   "metadata": {},
   "outputs": [],
   "source": [
    "#the token\n",
    "tokenizer = Tokenizer(oov_token=oov_tok, num_words=vocab_size)\n",
    "tokenizer.fit_on_texts(train_sentences)\n",
    "\n",
    "training_pad_sequences=get_paddedsequences(train_sentences, tokenizer)\n",
    "validation_pad_sequences=get_paddedsequences(val_sentences, tokenizer)"
   ]
  },
  {
   "cell_type": "code",
   "execution_count": 9,
   "metadata": {},
   "outputs": [],
   "source": [
    "train_ds=get_ds(training_pad_sequences, train_labels)\n",
    "val_ds=get_ds(validation_pad_sequences, val_labels)"
   ]
  },
  {
   "cell_type": "code",
   "execution_count": 16,
   "metadata": {},
   "outputs": [
    {
     "name": "stdout",
     "output_type": "stream",
     "text": [
      "Epoch 1/10\n",
      "107/107 [==============================] - 11s 50ms/step - loss: 1.4116 - accuracy: 0.6013 - val_loss: 1.7195 - val_accuracy: 0.6674\n",
      "Epoch 2/10\n",
      "107/107 [==============================] - 5s 42ms/step - loss: 1.0995 - accuracy: 0.6708 - val_loss: 1.6971 - val_accuracy: 0.6674\n",
      "Epoch 3/10\n",
      "107/107 [==============================] - 4s 41ms/step - loss: 0.9488 - accuracy: 0.6977 - val_loss: 1.6693 - val_accuracy: 0.6733\n",
      "Epoch 4/10\n",
      "107/107 [==============================] - 4s 36ms/step - loss: 0.8169 - accuracy: 0.7238 - val_loss: 1.6540 - val_accuracy: 0.5094\n",
      "Epoch 5/10\n",
      "107/107 [==============================] - 4s 38ms/step - loss: 0.7065 - accuracy: 0.7493 - val_loss: 1.5561 - val_accuracy: 0.3560\n",
      "Epoch 6/10\n",
      "107/107 [==============================] - 4s 35ms/step - loss: 0.6157 - accuracy: 0.7871 - val_loss: 1.2231 - val_accuracy: 0.5574\n",
      "Epoch 7/10\n",
      "107/107 [==============================] - 4s 35ms/step - loss: 0.5396 - accuracy: 0.8184 - val_loss: 1.3291 - val_accuracy: 0.4965\n",
      "Epoch 8/10\n",
      "107/107 [==============================] - 4s 35ms/step - loss: 0.4769 - accuracy: 0.8313 - val_loss: 1.3037 - val_accuracy: 0.6218\n",
      "Epoch 9/10\n",
      "107/107 [==============================] - 4s 35ms/step - loss: 0.4198 - accuracy: 0.8585 - val_loss: 1.3868 - val_accuracy: 0.6230\n",
      "Epoch 10/10\n",
      "107/107 [==============================] - 4s 37ms/step - loss: 0.3979 - accuracy: 0.8644 - val_loss: 2.2817 - val_accuracy: 0.7061\n"
     ]
    },
    {
     "data": {
      "text/plain": [
       "<keras.callbacks.History at 0x1abe3d679d0>"
      ]
     },
     "execution_count": 16,
     "metadata": {},
     "output_type": "execute_result"
    }
   ],
   "source": [
    "model=get_model()\n",
    "model.fit(train_ds, validation_data=val_ds, epochs=10)"
   ]
  },
  {
   "cell_type": "code",
   "execution_count": 17,
   "metadata": {},
   "outputs": [
    {
     "name": "stdout",
     "output_type": "stream",
     "text": [
      "27/27 [==============================] - 1s 16ms/step\n"
     ]
    },
    {
     "data": {
      "text/plain": [
       "0.27259712157809984"
      ]
     },
     "execution_count": 17,
     "metadata": {},
     "output_type": "execute_result"
    }
   ],
   "source": [
    "predicted_class_labels = model.predict(validation_pad_sequences)\n",
    "predicted_class_labels = np.argmax(predicted_class_labels, axis=1)\n",
    "balanced_accuracy_score(val_labels, predicted_class_labels)"
   ]
  }
 ],
 "metadata": {
  "kernelspec": {
   "display_name": "tf",
   "language": "python",
   "name": "python3"
  },
  "language_info": {
   "codemirror_mode": {
    "name": "ipython",
    "version": 3
   },
   "file_extension": ".py",
   "mimetype": "text/x-python",
   "name": "python",
   "nbconvert_exporter": "python",
   "pygments_lexer": "ipython3",
   "version": "3.9.18"
  }
 },
 "nbformat": 4,
 "nbformat_minor": 2
}
